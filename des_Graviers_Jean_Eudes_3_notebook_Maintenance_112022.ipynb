{
 "cells": [
  {
   "cell_type": "markdown",
   "id": "a6608510",
   "metadata": {},
   "source": [
    "### Table of Contents\n",
    "* [Loading datasets](#chapter1)\n",
    "* [Cleaning and Feature engineering for periods](#chapter2)\n",
    "* [Modelling](#chapter3)"
   ]
  },
  {
   "cell_type": "markdown",
   "id": "f65214f2",
   "metadata": {},
   "source": [
    "# Loading datasets <a class=\"anchor\" id='chapter1'></a>"
   ]
  },
  {
   "cell_type": "code",
   "execution_count": 90,
   "id": "10eeef96",
   "metadata": {},
   "outputs": [
    {
     "name": "stdout",
     "output_type": "stream",
     "text": [
      "/Users/jeaneudesdesgraviers/Downloads\n"
     ]
    }
   ],
   "source": [
    "#load datas\n",
    "\n",
    "import os\n",
    "\n",
    "import pandas as pd\n",
    "import datetime as dt\n",
    "import matplotlib.pyplot as plt\n",
    "import plotly.express as px\n",
    "import seaborn as sns\n",
    "import numpy as np\n",
    "\n",
    "import sklearn.metrics as metrics\n",
    "from sklearn.preprocessing import MinMaxScaler\n",
    "from sklearn.metrics.cluster import adjusted_rand_score\n",
    "from sklearn.cluster import KMeans\n",
    "\n",
    "working_directory = os.getcwd()\n",
    "print(working_directory)"
   ]
  },
  {
   "cell_type": "code",
   "execution_count": 48,
   "id": "72784b44",
   "metadata": {},
   "outputs": [
    {
     "data": {
      "text/plain": [
       "Index(['Unnamed: 0', 'product_category_name', 'product_category_name_english',\n",
       "       'product_id', 'product_name_lenght', 'product_description_lenght',\n",
       "       'product_photos_qty', 'product_weight_g', 'product_length_cm',\n",
       "       'product_height_cm', 'product_width_cm', 'order_id', 'order_item_id',\n",
       "       'seller_id', 'shipping_limit_date', 'price', 'freight_value',\n",
       "       'customer_id', 'order_status', 'order_purchase_timestamp',\n",
       "       'order_approved_at', 'order_delivered_carrier_date',\n",
       "       'order_delivered_customer_date', 'order_estimated_delivery_date',\n",
       "       'customer_unique_id', 'customer_zip_code_prefix', 'customer_city',\n",
       "       'customer_state', 'review_id', 'review_score', 'review_comment_title',\n",
       "       'review_comment_message', 'review_creation_date',\n",
       "       'review_answer_timestamp', 'payment_sequential', 'payment_type',\n",
       "       'payment_installments', 'payment_value', 'Purchase_Month',\n",
       "       'Cohort_Month', 'CohortIndex', 'time_delivery', 'product_category',\n",
       "       'product_amount', 'item_qty', 'Freight_ratio'],\n",
       "      dtype='object')"
      ]
     },
     "execution_count": 48,
     "metadata": {},
     "output_type": "execute_result"
    }
   ],
   "source": [
    "df_maintenance = pd.read_csv('df_maintenance_noFE.csv')\n",
    "df_maintenance.columns"
   ]
  },
  {
   "cell_type": "markdown",
   "id": "c03723d4",
   "metadata": {},
   "source": [
    "# Cleaning and feature engineering for periods <a class=\"anchor\" id='chapter2'></a>"
   ]
  },
  {
   "cell_type": "code",
   "execution_count": 49,
   "id": "23f2bd1e",
   "metadata": {},
   "outputs": [
    {
     "data": {
      "text/html": [
       "<div>\n",
       "<style scoped>\n",
       "    .dataframe tbody tr th:only-of-type {\n",
       "        vertical-align: middle;\n",
       "    }\n",
       "\n",
       "    .dataframe tbody tr th {\n",
       "        vertical-align: top;\n",
       "    }\n",
       "\n",
       "    .dataframe thead th {\n",
       "        text-align: right;\n",
       "    }\n",
       "</style>\n",
       "<table border=\"1\" class=\"dataframe\">\n",
       "  <thead>\n",
       "    <tr style=\"text-align: right;\">\n",
       "      <th></th>\n",
       "      <th>order_id</th>\n",
       "      <th>order_item_id</th>\n",
       "      <th>price</th>\n",
       "      <th>freight_value</th>\n",
       "      <th>customer_id</th>\n",
       "      <th>order_status</th>\n",
       "      <th>order_purchase_timestamp</th>\n",
       "      <th>order_delivered_customer_date</th>\n",
       "      <th>customer_unique_id</th>\n",
       "      <th>review_score</th>\n",
       "      <th>payment_installments</th>\n",
       "    </tr>\n",
       "  </thead>\n",
       "  <tbody>\n",
       "    <tr>\n",
       "      <th>0</th>\n",
       "      <td>a41753c6a1d8accb89732e36243432d7</td>\n",
       "      <td>1</td>\n",
       "      <td>29.90</td>\n",
       "      <td>15.79</td>\n",
       "      <td>9c2f403519bcb363683a7179f0f94bd4</td>\n",
       "      <td>delivered</td>\n",
       "      <td>2017-05-12 10:51:43</td>\n",
       "      <td>2017-05-19 14:13:02</td>\n",
       "      <td>dc83fe8f72fb4388f079a2f9b586240c</td>\n",
       "      <td>4</td>\n",
       "      <td>3</td>\n",
       "    </tr>\n",
       "    <tr>\n",
       "      <th>1</th>\n",
       "      <td>6a1594b5f5cfc5bac6dcdc3f48f22b5e</td>\n",
       "      <td>1</td>\n",
       "      <td>95.90</td>\n",
       "      <td>27.22</td>\n",
       "      <td>397cbe809e45d41179dcdd64966e4747</td>\n",
       "      <td>delivered</td>\n",
       "      <td>2018-03-06 18:14:49</td>\n",
       "      <td>2018-03-14 14:38:53</td>\n",
       "      <td>ba0a84d4272f023846c748fd2eb76ffd</td>\n",
       "      <td>5</td>\n",
       "      <td>6</td>\n",
       "    </tr>\n",
       "    <tr>\n",
       "      <th>2</th>\n",
       "      <td>f6fbf7907913892ffc12ada3bff286ba</td>\n",
       "      <td>1</td>\n",
       "      <td>89.90</td>\n",
       "      <td>38.18</td>\n",
       "      <td>1d7d832199ca5ea415e212d226ae106c</td>\n",
       "      <td>delivered</td>\n",
       "      <td>2017-07-31 18:47:11</td>\n",
       "      <td>2017-08-10 20:04:29</td>\n",
       "      <td>46e277a4bd2d4bf3e0e8cfaf4ea3c41b</td>\n",
       "      <td>4</td>\n",
       "      <td>4</td>\n",
       "    </tr>\n",
       "    <tr>\n",
       "      <th>3</th>\n",
       "      <td>a63144d37a00c28ef382668a5d5ece8b</td>\n",
       "      <td>1</td>\n",
       "      <td>29.90</td>\n",
       "      <td>16.11</td>\n",
       "      <td>af4cda2d3ad3e63a2e7eb0d75379f1d8</td>\n",
       "      <td>delivered</td>\n",
       "      <td>2018-02-08 13:55:48</td>\n",
       "      <td>2018-02-21 14:35:19</td>\n",
       "      <td>8ad15fb1cf056731335e36eb723c0eac</td>\n",
       "      <td>5</td>\n",
       "      <td>2</td>\n",
       "    </tr>\n",
       "    <tr>\n",
       "      <th>4</th>\n",
       "      <td>3ea7135b7064169abacfc10aa72f2e3a</td>\n",
       "      <td>1</td>\n",
       "      <td>64.90</td>\n",
       "      <td>19.64</td>\n",
       "      <td>1d4bf184a06178a13974e82fe96f26df</td>\n",
       "      <td>delivered</td>\n",
       "      <td>2018-08-12 13:21:59</td>\n",
       "      <td>2018-08-21 21:16:33</td>\n",
       "      <td>463b274f7ab4cac3b894531a03a7afa1</td>\n",
       "      <td>5</td>\n",
       "      <td>4</td>\n",
       "    </tr>\n",
       "    <tr>\n",
       "      <th>...</th>\n",
       "      <td>...</td>\n",
       "      <td>...</td>\n",
       "      <td>...</td>\n",
       "      <td>...</td>\n",
       "      <td>...</td>\n",
       "      <td>...</td>\n",
       "      <td>...</td>\n",
       "      <td>...</td>\n",
       "      <td>...</td>\n",
       "      <td>...</td>\n",
       "      <td>...</td>\n",
       "    </tr>\n",
       "    <tr>\n",
       "      <th>112876</th>\n",
       "      <td>9fa3a005f89a187501fa1bd63d6125fb</td>\n",
       "      <td>1</td>\n",
       "      <td>39.99</td>\n",
       "      <td>14.10</td>\n",
       "      <td>85485f38b20ed1e287120d30cf39ee7d</td>\n",
       "      <td>delivered</td>\n",
       "      <td>2017-10-08 23:51:49</td>\n",
       "      <td>2017-10-16 21:59:33</td>\n",
       "      <td>f979a07fc18b2af3780a796ba14b96f4</td>\n",
       "      <td>5</td>\n",
       "      <td>1</td>\n",
       "    </tr>\n",
       "    <tr>\n",
       "      <th>112877</th>\n",
       "      <td>b99217b1fcf2fdeace7b8d869b76cb91</td>\n",
       "      <td>1</td>\n",
       "      <td>39.99</td>\n",
       "      <td>10.15</td>\n",
       "      <td>8325d6e7af2f2bfb58cf040729b232dd</td>\n",
       "      <td>delivered</td>\n",
       "      <td>2018-03-07 17:42:06</td>\n",
       "      <td>2018-03-15 22:04:49</td>\n",
       "      <td>a1d53377ab83871b0ad483b03ac69d6c</td>\n",
       "      <td>5</td>\n",
       "      <td>3</td>\n",
       "    </tr>\n",
       "    <tr>\n",
       "      <th>112878</th>\n",
       "      <td>bc3ac768a8963f4ca68942ea6558fc9f</td>\n",
       "      <td>1</td>\n",
       "      <td>39.99</td>\n",
       "      <td>6.43</td>\n",
       "      <td>7968f8e8d5429c6a0611671f5a52ed2b</td>\n",
       "      <td>delivered</td>\n",
       "      <td>2018-03-21 09:40:36</td>\n",
       "      <td>2018-03-27 20:14:40</td>\n",
       "      <td>cd52ca09554e5cc34d9ec28d230008af</td>\n",
       "      <td>5</td>\n",
       "      <td>1</td>\n",
       "    </tr>\n",
       "    <tr>\n",
       "      <th>112879</th>\n",
       "      <td>bede3503afed051733eeb4a84d1adcc5</td>\n",
       "      <td>1</td>\n",
       "      <td>100.00</td>\n",
       "      <td>15.45</td>\n",
       "      <td>919570a26efbd068d6a0f66d5c5072a3</td>\n",
       "      <td>delivered</td>\n",
       "      <td>2017-09-17 16:51:43</td>\n",
       "      <td>2017-09-28 18:14:35</td>\n",
       "      <td>141e824b8e0df709e3fcf6d982225a8e</td>\n",
       "      <td>1</td>\n",
       "      <td>1</td>\n",
       "    </tr>\n",
       "    <tr>\n",
       "      <th>112880</th>\n",
       "      <td>2c4ada2e75c2ad41dd93cebb5df5f023</td>\n",
       "      <td>1</td>\n",
       "      <td>183.29</td>\n",
       "      <td>25.77</td>\n",
       "      <td>363d3a9b2ec5c5426608688ca033292d</td>\n",
       "      <td>delivered</td>\n",
       "      <td>2017-01-26 11:09:00</td>\n",
       "      <td>2017-02-14 16:24:01</td>\n",
       "      <td>d8bee9ec375c3a0f9ef8ed7456a51dcd</td>\n",
       "      <td>4</td>\n",
       "      <td>1</td>\n",
       "    </tr>\n",
       "  </tbody>\n",
       "</table>\n",
       "<p>112881 rows × 11 columns</p>\n",
       "</div>"
      ],
      "text/plain": [
       "                                order_id  order_item_id   price  \\\n",
       "0       a41753c6a1d8accb89732e36243432d7              1   29.90   \n",
       "1       6a1594b5f5cfc5bac6dcdc3f48f22b5e              1   95.90   \n",
       "2       f6fbf7907913892ffc12ada3bff286ba              1   89.90   \n",
       "3       a63144d37a00c28ef382668a5d5ece8b              1   29.90   \n",
       "4       3ea7135b7064169abacfc10aa72f2e3a              1   64.90   \n",
       "...                                  ...            ...     ...   \n",
       "112876  9fa3a005f89a187501fa1bd63d6125fb              1   39.99   \n",
       "112877  b99217b1fcf2fdeace7b8d869b76cb91              1   39.99   \n",
       "112878  bc3ac768a8963f4ca68942ea6558fc9f              1   39.99   \n",
       "112879  bede3503afed051733eeb4a84d1adcc5              1  100.00   \n",
       "112880  2c4ada2e75c2ad41dd93cebb5df5f023              1  183.29   \n",
       "\n",
       "        freight_value                       customer_id order_status  \\\n",
       "0               15.79  9c2f403519bcb363683a7179f0f94bd4    delivered   \n",
       "1               27.22  397cbe809e45d41179dcdd64966e4747    delivered   \n",
       "2               38.18  1d7d832199ca5ea415e212d226ae106c    delivered   \n",
       "3               16.11  af4cda2d3ad3e63a2e7eb0d75379f1d8    delivered   \n",
       "4               19.64  1d4bf184a06178a13974e82fe96f26df    delivered   \n",
       "...               ...                               ...          ...   \n",
       "112876          14.10  85485f38b20ed1e287120d30cf39ee7d    delivered   \n",
       "112877          10.15  8325d6e7af2f2bfb58cf040729b232dd    delivered   \n",
       "112878           6.43  7968f8e8d5429c6a0611671f5a52ed2b    delivered   \n",
       "112879          15.45  919570a26efbd068d6a0f66d5c5072a3    delivered   \n",
       "112880          25.77  363d3a9b2ec5c5426608688ca033292d    delivered   \n",
       "\n",
       "       order_purchase_timestamp order_delivered_customer_date  \\\n",
       "0           2017-05-12 10:51:43           2017-05-19 14:13:02   \n",
       "1           2018-03-06 18:14:49           2018-03-14 14:38:53   \n",
       "2           2017-07-31 18:47:11           2017-08-10 20:04:29   \n",
       "3           2018-02-08 13:55:48           2018-02-21 14:35:19   \n",
       "4           2018-08-12 13:21:59           2018-08-21 21:16:33   \n",
       "...                         ...                           ...   \n",
       "112876      2017-10-08 23:51:49           2017-10-16 21:59:33   \n",
       "112877      2018-03-07 17:42:06           2018-03-15 22:04:49   \n",
       "112878      2018-03-21 09:40:36           2018-03-27 20:14:40   \n",
       "112879      2017-09-17 16:51:43           2017-09-28 18:14:35   \n",
       "112880      2017-01-26 11:09:00           2017-02-14 16:24:01   \n",
       "\n",
       "                      customer_unique_id  review_score  payment_installments  \n",
       "0       dc83fe8f72fb4388f079a2f9b586240c             4                     3  \n",
       "1       ba0a84d4272f023846c748fd2eb76ffd             5                     6  \n",
       "2       46e277a4bd2d4bf3e0e8cfaf4ea3c41b             4                     4  \n",
       "3       8ad15fb1cf056731335e36eb723c0eac             5                     2  \n",
       "4       463b274f7ab4cac3b894531a03a7afa1             5                     4  \n",
       "...                                  ...           ...                   ...  \n",
       "112876  f979a07fc18b2af3780a796ba14b96f4             5                     1  \n",
       "112877  a1d53377ab83871b0ad483b03ac69d6c             5                     3  \n",
       "112878  cd52ca09554e5cc34d9ec28d230008af             5                     1  \n",
       "112879  141e824b8e0df709e3fcf6d982225a8e             1                     1  \n",
       "112880  d8bee9ec375c3a0f9ef8ed7456a51dcd             4                     1  \n",
       "\n",
       "[112881 rows x 11 columns]"
      ]
     },
     "execution_count": 49,
     "metadata": {},
     "output_type": "execute_result"
    }
   ],
   "source": [
    "df_maintenance = df_maintenance.drop(columns = ['Unnamed: 0', 'product_category_name', 'product_category_name_english',\n",
    "       'product_id', 'product_name_lenght', 'product_description_lenght',\n",
    "       'product_photos_qty', 'product_weight_g', 'product_length_cm',\n",
    "       'product_height_cm', 'product_width_cm',\n",
    "       'seller_id', 'shipping_limit_date', 'order_approved_at', 'order_delivered_carrier_date','order_estimated_delivery_date',\n",
    "       'customer_zip_code_prefix', 'customer_city',\n",
    "       'customer_state', 'review_id','review_comment_title',\n",
    "       'review_comment_message', 'review_creation_date',\n",
    "       'review_answer_timestamp','payment_value', 'Purchase_Month',\n",
    "       'Cohort_Month', 'CohortIndex', 'time_delivery', 'product_category',\n",
    "       'product_amount', 'item_qty','payment_sequential', 'payment_type', 'Freight_ratio'])\n",
    "\n",
    "df_maintenance"
   ]
  },
  {
   "cell_type": "code",
   "execution_count": 50,
   "id": "4784fd35",
   "metadata": {},
   "outputs": [],
   "source": [
    "# Evaluate time stability of our model\n",
    "\n",
    "df_maintenance.drop(df_maintenance[df_maintenance['order_purchase_timestamp'] < '2017-01-01'].index, inplace=True)\n",
    "orders = df_maintenance.loc[df_maintenance.order_status == \"delivered\",:]\n",
    "#time_delta = int((d2[\"order_purchase_timestamp\"].max() - d2[\"order_purchase_timestamp\"].min())/np.timedelta64(1,'M'))\n",
    "#print(f\"La période complète des commandes porte sur {format(time_delta)} mois.\\n\")\n",
    "#print(f\"La période commence précisemment le {d2.order_purchase_timestamp.min()} et finis le {d2.order_purchase_timestamp.max()}\")"
   ]
  },
  {
   "cell_type": "code",
   "execution_count": 51,
   "id": "5c5d79e9",
   "metadata": {},
   "outputs": [],
   "source": [
    "df_maintenance['order_purchase_timestamp'] = pd.to_datetime(df_maintenance['order_purchase_timestamp'])\n",
    "\n",
    "#Creating monthly Cohorts based on the first purchase of each unique client\n",
    "def get_month(x): \n",
    "    return dt.datetime(x.year, x.month, 1)\n",
    "\n",
    "df_maintenance['Purchase_Month'] = df_maintenance['order_purchase_timestamp'].apply(get_month)\n",
    "grouping = df_maintenance.groupby('customer_unique_id')['Purchase_Month']\n",
    "df_maintenance['Cohort_Month'] = grouping.transform('min')\n",
    "\n",
    "def get_date_int(df, column):\n",
    "    year = df[column].dt.year\n",
    "    month = df[column].dt.month\n",
    "    day = df[column].dt.day\n",
    "    return year, month, day"
   ]
  },
  {
   "cell_type": "code",
   "execution_count": 52,
   "id": "911de9ef",
   "metadata": {},
   "outputs": [
    {
     "data": {
      "text/html": [
       "<div>\n",
       "<style scoped>\n",
       "    .dataframe tbody tr th:only-of-type {\n",
       "        vertical-align: middle;\n",
       "    }\n",
       "\n",
       "    .dataframe tbody tr th {\n",
       "        vertical-align: top;\n",
       "    }\n",
       "\n",
       "    .dataframe thead th {\n",
       "        text-align: right;\n",
       "    }\n",
       "</style>\n",
       "<table border=\"1\" class=\"dataframe\">\n",
       "  <thead>\n",
       "    <tr style=\"text-align: right;\">\n",
       "      <th></th>\n",
       "      <th>order_id</th>\n",
       "      <th>order_item_id</th>\n",
       "      <th>price</th>\n",
       "      <th>freight_value</th>\n",
       "      <th>customer_id</th>\n",
       "      <th>order_status</th>\n",
       "      <th>order_purchase_timestamp</th>\n",
       "      <th>order_delivered_customer_date</th>\n",
       "      <th>customer_unique_id</th>\n",
       "      <th>review_score</th>\n",
       "      <th>payment_installments</th>\n",
       "      <th>Purchase_Month</th>\n",
       "      <th>Cohort_Month</th>\n",
       "      <th>Period</th>\n",
       "    </tr>\n",
       "  </thead>\n",
       "  <tbody>\n",
       "    <tr>\n",
       "      <th>0</th>\n",
       "      <td>a41753c6a1d8accb89732e36243432d7</td>\n",
       "      <td>1</td>\n",
       "      <td>29.90</td>\n",
       "      <td>15.79</td>\n",
       "      <td>9c2f403519bcb363683a7179f0f94bd4</td>\n",
       "      <td>delivered</td>\n",
       "      <td>2017-05-12 10:51:43</td>\n",
       "      <td>2017-05-19 14:13:02</td>\n",
       "      <td>dc83fe8f72fb4388f079a2f9b586240c</td>\n",
       "      <td>4</td>\n",
       "      <td>3</td>\n",
       "      <td>2017-05-01</td>\n",
       "      <td>2017-05-01</td>\n",
       "      <td>5</td>\n",
       "    </tr>\n",
       "    <tr>\n",
       "      <th>1</th>\n",
       "      <td>6a1594b5f5cfc5bac6dcdc3f48f22b5e</td>\n",
       "      <td>1</td>\n",
       "      <td>95.90</td>\n",
       "      <td>27.22</td>\n",
       "      <td>397cbe809e45d41179dcdd64966e4747</td>\n",
       "      <td>delivered</td>\n",
       "      <td>2018-03-06 18:14:49</td>\n",
       "      <td>2018-03-14 14:38:53</td>\n",
       "      <td>ba0a84d4272f023846c748fd2eb76ffd</td>\n",
       "      <td>5</td>\n",
       "      <td>6</td>\n",
       "      <td>2018-03-01</td>\n",
       "      <td>2018-03-01</td>\n",
       "      <td>15</td>\n",
       "    </tr>\n",
       "    <tr>\n",
       "      <th>2</th>\n",
       "      <td>f6fbf7907913892ffc12ada3bff286ba</td>\n",
       "      <td>1</td>\n",
       "      <td>89.90</td>\n",
       "      <td>38.18</td>\n",
       "      <td>1d7d832199ca5ea415e212d226ae106c</td>\n",
       "      <td>delivered</td>\n",
       "      <td>2017-07-31 18:47:11</td>\n",
       "      <td>2017-08-10 20:04:29</td>\n",
       "      <td>46e277a4bd2d4bf3e0e8cfaf4ea3c41b</td>\n",
       "      <td>4</td>\n",
       "      <td>4</td>\n",
       "      <td>2017-07-01</td>\n",
       "      <td>2017-07-01</td>\n",
       "      <td>7</td>\n",
       "    </tr>\n",
       "    <tr>\n",
       "      <th>3</th>\n",
       "      <td>a63144d37a00c28ef382668a5d5ece8b</td>\n",
       "      <td>1</td>\n",
       "      <td>29.90</td>\n",
       "      <td>16.11</td>\n",
       "      <td>af4cda2d3ad3e63a2e7eb0d75379f1d8</td>\n",
       "      <td>delivered</td>\n",
       "      <td>2018-02-08 13:55:48</td>\n",
       "      <td>2018-02-21 14:35:19</td>\n",
       "      <td>8ad15fb1cf056731335e36eb723c0eac</td>\n",
       "      <td>5</td>\n",
       "      <td>2</td>\n",
       "      <td>2018-02-01</td>\n",
       "      <td>2018-02-01</td>\n",
       "      <td>14</td>\n",
       "    </tr>\n",
       "    <tr>\n",
       "      <th>4</th>\n",
       "      <td>3ea7135b7064169abacfc10aa72f2e3a</td>\n",
       "      <td>1</td>\n",
       "      <td>64.90</td>\n",
       "      <td>19.64</td>\n",
       "      <td>1d4bf184a06178a13974e82fe96f26df</td>\n",
       "      <td>delivered</td>\n",
       "      <td>2018-08-12 13:21:59</td>\n",
       "      <td>2018-08-21 21:16:33</td>\n",
       "      <td>463b274f7ab4cac3b894531a03a7afa1</td>\n",
       "      <td>5</td>\n",
       "      <td>4</td>\n",
       "      <td>2018-08-01</td>\n",
       "      <td>2018-08-01</td>\n",
       "      <td>20</td>\n",
       "    </tr>\n",
       "    <tr>\n",
       "      <th>...</th>\n",
       "      <td>...</td>\n",
       "      <td>...</td>\n",
       "      <td>...</td>\n",
       "      <td>...</td>\n",
       "      <td>...</td>\n",
       "      <td>...</td>\n",
       "      <td>...</td>\n",
       "      <td>...</td>\n",
       "      <td>...</td>\n",
       "      <td>...</td>\n",
       "      <td>...</td>\n",
       "      <td>...</td>\n",
       "      <td>...</td>\n",
       "      <td>...</td>\n",
       "    </tr>\n",
       "    <tr>\n",
       "      <th>112876</th>\n",
       "      <td>9fa3a005f89a187501fa1bd63d6125fb</td>\n",
       "      <td>1</td>\n",
       "      <td>39.99</td>\n",
       "      <td>14.10</td>\n",
       "      <td>85485f38b20ed1e287120d30cf39ee7d</td>\n",
       "      <td>delivered</td>\n",
       "      <td>2017-10-08 23:51:49</td>\n",
       "      <td>2017-10-16 21:59:33</td>\n",
       "      <td>f979a07fc18b2af3780a796ba14b96f4</td>\n",
       "      <td>5</td>\n",
       "      <td>1</td>\n",
       "      <td>2017-10-01</td>\n",
       "      <td>2017-10-01</td>\n",
       "      <td>10</td>\n",
       "    </tr>\n",
       "    <tr>\n",
       "      <th>112877</th>\n",
       "      <td>b99217b1fcf2fdeace7b8d869b76cb91</td>\n",
       "      <td>1</td>\n",
       "      <td>39.99</td>\n",
       "      <td>10.15</td>\n",
       "      <td>8325d6e7af2f2bfb58cf040729b232dd</td>\n",
       "      <td>delivered</td>\n",
       "      <td>2018-03-07 17:42:06</td>\n",
       "      <td>2018-03-15 22:04:49</td>\n",
       "      <td>a1d53377ab83871b0ad483b03ac69d6c</td>\n",
       "      <td>5</td>\n",
       "      <td>3</td>\n",
       "      <td>2018-03-01</td>\n",
       "      <td>2018-03-01</td>\n",
       "      <td>15</td>\n",
       "    </tr>\n",
       "    <tr>\n",
       "      <th>112878</th>\n",
       "      <td>bc3ac768a8963f4ca68942ea6558fc9f</td>\n",
       "      <td>1</td>\n",
       "      <td>39.99</td>\n",
       "      <td>6.43</td>\n",
       "      <td>7968f8e8d5429c6a0611671f5a52ed2b</td>\n",
       "      <td>delivered</td>\n",
       "      <td>2018-03-21 09:40:36</td>\n",
       "      <td>2018-03-27 20:14:40</td>\n",
       "      <td>cd52ca09554e5cc34d9ec28d230008af</td>\n",
       "      <td>5</td>\n",
       "      <td>1</td>\n",
       "      <td>2018-03-01</td>\n",
       "      <td>2018-03-01</td>\n",
       "      <td>15</td>\n",
       "    </tr>\n",
       "    <tr>\n",
       "      <th>112879</th>\n",
       "      <td>bede3503afed051733eeb4a84d1adcc5</td>\n",
       "      <td>1</td>\n",
       "      <td>100.00</td>\n",
       "      <td>15.45</td>\n",
       "      <td>919570a26efbd068d6a0f66d5c5072a3</td>\n",
       "      <td>delivered</td>\n",
       "      <td>2017-09-17 16:51:43</td>\n",
       "      <td>2017-09-28 18:14:35</td>\n",
       "      <td>141e824b8e0df709e3fcf6d982225a8e</td>\n",
       "      <td>1</td>\n",
       "      <td>1</td>\n",
       "      <td>2017-09-01</td>\n",
       "      <td>2017-09-01</td>\n",
       "      <td>9</td>\n",
       "    </tr>\n",
       "    <tr>\n",
       "      <th>112880</th>\n",
       "      <td>2c4ada2e75c2ad41dd93cebb5df5f023</td>\n",
       "      <td>1</td>\n",
       "      <td>183.29</td>\n",
       "      <td>25.77</td>\n",
       "      <td>363d3a9b2ec5c5426608688ca033292d</td>\n",
       "      <td>delivered</td>\n",
       "      <td>2017-01-26 11:09:00</td>\n",
       "      <td>2017-02-14 16:24:01</td>\n",
       "      <td>d8bee9ec375c3a0f9ef8ed7456a51dcd</td>\n",
       "      <td>4</td>\n",
       "      <td>1</td>\n",
       "      <td>2017-01-01</td>\n",
       "      <td>2017-01-01</td>\n",
       "      <td>1</td>\n",
       "    </tr>\n",
       "  </tbody>\n",
       "</table>\n",
       "<p>112881 rows × 14 columns</p>\n",
       "</div>"
      ],
      "text/plain": [
       "                                order_id  order_item_id   price  \\\n",
       "0       a41753c6a1d8accb89732e36243432d7              1   29.90   \n",
       "1       6a1594b5f5cfc5bac6dcdc3f48f22b5e              1   95.90   \n",
       "2       f6fbf7907913892ffc12ada3bff286ba              1   89.90   \n",
       "3       a63144d37a00c28ef382668a5d5ece8b              1   29.90   \n",
       "4       3ea7135b7064169abacfc10aa72f2e3a              1   64.90   \n",
       "...                                  ...            ...     ...   \n",
       "112876  9fa3a005f89a187501fa1bd63d6125fb              1   39.99   \n",
       "112877  b99217b1fcf2fdeace7b8d869b76cb91              1   39.99   \n",
       "112878  bc3ac768a8963f4ca68942ea6558fc9f              1   39.99   \n",
       "112879  bede3503afed051733eeb4a84d1adcc5              1  100.00   \n",
       "112880  2c4ada2e75c2ad41dd93cebb5df5f023              1  183.29   \n",
       "\n",
       "        freight_value                       customer_id order_status  \\\n",
       "0               15.79  9c2f403519bcb363683a7179f0f94bd4    delivered   \n",
       "1               27.22  397cbe809e45d41179dcdd64966e4747    delivered   \n",
       "2               38.18  1d7d832199ca5ea415e212d226ae106c    delivered   \n",
       "3               16.11  af4cda2d3ad3e63a2e7eb0d75379f1d8    delivered   \n",
       "4               19.64  1d4bf184a06178a13974e82fe96f26df    delivered   \n",
       "...               ...                               ...          ...   \n",
       "112876          14.10  85485f38b20ed1e287120d30cf39ee7d    delivered   \n",
       "112877          10.15  8325d6e7af2f2bfb58cf040729b232dd    delivered   \n",
       "112878           6.43  7968f8e8d5429c6a0611671f5a52ed2b    delivered   \n",
       "112879          15.45  919570a26efbd068d6a0f66d5c5072a3    delivered   \n",
       "112880          25.77  363d3a9b2ec5c5426608688ca033292d    delivered   \n",
       "\n",
       "       order_purchase_timestamp order_delivered_customer_date  \\\n",
       "0           2017-05-12 10:51:43           2017-05-19 14:13:02   \n",
       "1           2018-03-06 18:14:49           2018-03-14 14:38:53   \n",
       "2           2017-07-31 18:47:11           2017-08-10 20:04:29   \n",
       "3           2018-02-08 13:55:48           2018-02-21 14:35:19   \n",
       "4           2018-08-12 13:21:59           2018-08-21 21:16:33   \n",
       "...                         ...                           ...   \n",
       "112876      2017-10-08 23:51:49           2017-10-16 21:59:33   \n",
       "112877      2018-03-07 17:42:06           2018-03-15 22:04:49   \n",
       "112878      2018-03-21 09:40:36           2018-03-27 20:14:40   \n",
       "112879      2017-09-17 16:51:43           2017-09-28 18:14:35   \n",
       "112880      2017-01-26 11:09:00           2017-02-14 16:24:01   \n",
       "\n",
       "                      customer_unique_id  review_score  payment_installments  \\\n",
       "0       dc83fe8f72fb4388f079a2f9b586240c             4                     3   \n",
       "1       ba0a84d4272f023846c748fd2eb76ffd             5                     6   \n",
       "2       46e277a4bd2d4bf3e0e8cfaf4ea3c41b             4                     4   \n",
       "3       8ad15fb1cf056731335e36eb723c0eac             5                     2   \n",
       "4       463b274f7ab4cac3b894531a03a7afa1             5                     4   \n",
       "...                                  ...           ...                   ...   \n",
       "112876  f979a07fc18b2af3780a796ba14b96f4             5                     1   \n",
       "112877  a1d53377ab83871b0ad483b03ac69d6c             5                     3   \n",
       "112878  cd52ca09554e5cc34d9ec28d230008af             5                     1   \n",
       "112879  141e824b8e0df709e3fcf6d982225a8e             1                     1   \n",
       "112880  d8bee9ec375c3a0f9ef8ed7456a51dcd             4                     1   \n",
       "\n",
       "       Purchase_Month Cohort_Month  Period  \n",
       "0          2017-05-01   2017-05-01       5  \n",
       "1          2018-03-01   2018-03-01      15  \n",
       "2          2017-07-01   2017-07-01       7  \n",
       "3          2018-02-01   2018-02-01      14  \n",
       "4          2018-08-01   2018-08-01      20  \n",
       "...               ...          ...     ...  \n",
       "112876     2017-10-01   2017-10-01      10  \n",
       "112877     2018-03-01   2018-03-01      15  \n",
       "112878     2018-03-01   2018-03-01      15  \n",
       "112879     2017-09-01   2017-09-01       9  \n",
       "112880     2017-01-01   2017-01-01       1  \n",
       "\n",
       "[112881 rows x 14 columns]"
      ]
     },
     "execution_count": 52,
     "metadata": {},
     "output_type": "execute_result"
    }
   ],
   "source": [
    "#Create a column for periods\n",
    "df_maintenance['Purchase_Month'] = pd.to_datetime(df_maintenance['Purchase_Month'])\n",
    "\n",
    "purchase_year , purchase_month , _ = get_date_int(df_maintenance, 'Purchase_Month')\n",
    "years_diff = purchase_year - 2017\n",
    "df_maintenance['Period'] = years_diff * 12 + purchase_month\n",
    "df_maintenance\n",
    "\n",
    "#NumericColumns = ['review_score', 'Recency', 'Frequency', 'Monetary', 'time_delivery', 'Period']\n",
    "#df_stab[cols] = df_stab[cols].astype('Int64')\n",
    "\n",
    "#df_stab['Period'] = df_stab.Period.astype('Int64')\n",
    "#df_stab = np.floor(pd.to_numeric(df_stab[cols], errors='coerce')).astype('Int64')\n",
    "#df_stab[NumericColumns] = df_stab[NumericColumns].fillna(0).astype(np.int64, errors='ignore')"
   ]
  },
  {
   "cell_type": "code",
   "execution_count": 53,
   "id": "54d2f5a1",
   "metadata": {},
   "outputs": [
    {
     "data": {
      "text/plain": [
       "order_id                                 object\n",
       "order_item_id                             int64\n",
       "price                                   float64\n",
       "freight_value                           float64\n",
       "customer_id                              object\n",
       "order_status                             object\n",
       "order_purchase_timestamp         datetime64[ns]\n",
       "order_delivered_customer_date            object\n",
       "customer_unique_id                       object\n",
       "review_score                              int64\n",
       "payment_installments                      int64\n",
       "Purchase_Month                   datetime64[ns]\n",
       "Cohort_Month                     datetime64[ns]\n",
       "Period                                    int64\n",
       "dtype: object"
      ]
     },
     "execution_count": 53,
     "metadata": {},
     "output_type": "execute_result"
    }
   ],
   "source": [
    "df_maintenance.dtypes"
   ]
  },
  {
   "cell_type": "code",
   "execution_count": 95,
   "id": "634905c3",
   "metadata": {},
   "outputs": [],
   "source": [
    "df_maintenance['order_purchase_timestamp'] = pd.to_datetime(df_maintenance['order_purchase_timestamp'])\n",
    "snapshot_date = max(df_maintenance.order_purchase_timestamp) + dt.timedelta(days=1)\n",
    "\n",
    "df_maintenance[['order_delivered_customer_date','order_purchase_timestamp']] = df_maintenance[['order_delivered_customer_date','order_purchase_timestamp']].apply(pd.to_datetime) #if conversion required\n",
    "df_maintenance['time_delivery'] = (df_maintenance['order_delivered_customer_date'] - df_maintenance['order_purchase_timestamp']).dt.days + 1\n",
    "\n",
    "df_maintenance = df_maintenance.dropna()"
   ]
  },
  {
   "cell_type": "markdown",
   "id": "3f32992b",
   "metadata": {},
   "source": [
    "# Modelling <a class=\"anchor\" id='chapter3'></a>"
   ]
  },
  {
   "cell_type": "code",
   "execution_count": 92,
   "id": "2c6fcad4",
   "metadata": {},
   "outputs": [
    {
     "data": {
      "text/plain": [
       "[1.0,\n",
       " 0.9954250844672314,\n",
       " 0.9159052572265434,\n",
       " 0.9184128059641686,\n",
       " 0.9192914904668281,\n",
       " 0.9194421927716194,\n",
       " 0.9185688700932149,\n",
       " 0.9180526571646427,\n",
       " 0.9205454596241103]"
      ]
     },
     "execution_count": 92,
     "metadata": {},
     "output_type": "execute_result"
    }
   ],
   "source": [
    "#Train model on reference period, predict on each period then compare labels with ARI score\n",
    "\n",
    "# ref data\n",
    "\n",
    "df_ref = df_maintenance.loc[(df_maintenance.Period < 13),['review_score','customer_unique_id','order_item_id','order_id','price','time_delivery','freight_value','payment_installments']]\n",
    "\n",
    "# Feature engineering on this period\n",
    "\n",
    "#qty per order\n",
    "df_qty_per_order = df_ref.groupby([\"customer_unique_id\", \"order_id\"]).agg({\"order_item_id\": \"count\"})\n",
    "df_qty_per_order = df_qty_per_order.groupby(\"customer_unique_id\").agg({\"order_item_id\": \"mean\"})\n",
    "\n",
    "#freight ratio\n",
    "df_ref['Freight_ratio'] = df_ref['freight_value'] / df_ref['price']\n",
    "\n",
    "# aggregate\n",
    "\n",
    "df_ref = df_ref.groupby(['customer_unique_id']).agg({'Freight_ratio' : lambda x: x.mean(),\n",
    "                                                     'payment_installments' : lambda x: x.mean(),\n",
    "                                                   'price' : 'sum',\n",
    "                                                  'time_delivery' : lambda x: x.mean(),\n",
    "                                               'review_score' : lambda x: x.mean()})\n",
    "\n",
    "df_ref = pd.concat([df_ref,df_qty_per_order], axis = 1)\n",
    "df_ref = df_ref.dropna()\n",
    "\n",
    "# scaling\n",
    "scaler = MinMaxScaler()\n",
    "scaler.fit(df_ref)\n",
    "df_mmsed = scaler.transform(df_ref)\n",
    "\n",
    "# Compute kmeans on reference period(2017)\n",
    "# set number of clusters\n",
    "\n",
    "kmeans = KMeans(n_clusters=4,init=\"k-means++\",n_init=10,max_iter=300, random_state = 1)\n",
    "\n",
    "# compute k-means\n",
    "kmeans.fit(df_mmsed)\n",
    "\n",
    "# Extract cluster label from labels_ attribute\n",
    "T0_labels = kmeans.labels_\n",
    "\n",
    "# Create list to append all ari scores\n",
    "month_and_ari = []\n",
    "ari_score = []\n",
    "months = []\n",
    "\n",
    "# range for iteration\n",
    "num_period = df_maintenance.Period.max()\n",
    "\n",
    "for period in range(12,num_period+1):\n",
    "    \n",
    "    # isolate datasets for each period\n",
    "    df_period = df_maintenance.loc[df_maintenance.Period.isin(range(1,period+1)),['review_score','customer_unique_id','order_item_id','order_id','price','time_delivery','freight_value','payment_installments']]\n",
    "    \n",
    "    # feature ingineering\n",
    "    df_qty_per_order_period = df_period.groupby([\"customer_unique_id\", \"order_id\"]).agg({\"order_item_id\": \"count\"})\n",
    "    df_qty_per_order_period = df_qty_per_order_period.groupby(\"customer_unique_id\").agg({\"order_item_id\": \"mean\"})\n",
    "    # freight ratio\n",
    "    df_period['Freight_ratio'] = df_period['freight_value'] / df_period['price']\n",
    "\n",
    "    # aggregate\n",
    "    df_period = df_period.groupby(['customer_unique_id']).agg({'Freight_ratio' : lambda x: x.mean(),\n",
    "                                                     'payment_installments' : lambda x: x.mean(),\n",
    "                                                   'price' : 'sum',\n",
    "                                                  'time_delivery' : lambda x: x.mean(),\n",
    "                                               'review_score' : lambda x: x.mean()})\n",
    "\n",
    "    df_period = pd.concat([df_period,df_qty_per_order_period], axis = 1)\n",
    "    df_period = df_period.dropna()\n",
    "\n",
    "    \n",
    "    # MMScale all period of time on the same scale as reference period\n",
    "    df_period_MSSed = scaler.transform(df_period)\n",
    "    \n",
    "    # predict Period with kmeans fitted on the reference period   \n",
    "    ref_labels = kmeans.predict(df_period_MSSed)    \n",
    "    \n",
    "    #initialiaze a new kmeans for each period and compute on each period\n",
    "    kmeans_p = KMeans(n_clusters=4,init=\"k-means++\",n_init=10,max_iter=300, random_state = 1)\n",
    "\n",
    "    kmeans_p.fit(df_period_MSSed)\n",
    "    \n",
    "    p_labels = kmeans_p.labels_\n",
    "    \n",
    "    #Compare each period label with the prediction from the reference period\n",
    "    ari_period = adjusted_rand_score(ref_labels, kmeans_p.labels_)\n",
    "    \n",
    "    #change object for plot\n",
    "    month = df_maintenance.loc[df_maintenance.Period == period, 'Purchase_Month']\n",
    "    month = list(set([date.strftime(\"%b %Y\") for date in month]))\n",
    "    \n",
    "    month_and_ari.append([month,ari_period])\n",
    "    months.append(month)\n",
    "    ari_score.append(ari_period)\n",
    "    \n",
    "ari_score"
   ]
  },
  {
   "cell_type": "code",
   "execution_count": 94,
   "id": "705373fb",
   "metadata": {},
   "outputs": [
    {
     "data": {
      "application/vnd.plotly.v1+json": {
       "config": {
        "plotlyServerURL": "https://plot.ly"
       },
       "data": [
        {
         "hovertemplate": "Month=%{x}<br>ARI=%{y}<extra></extra>",
         "legendgroup": "",
         "line": {
          "color": "#636efa",
          "dash": "solid",
          "shape": "spline"
         },
         "marker": {
          "symbol": "circle"
         },
         "mode": "lines",
         "name": "",
         "orientation": "v",
         "showlegend": false,
         "type": "scatter",
         "x": [
          "Dec 2017",
          "Jan 2018",
          "Feb 2018",
          "Mar 2018",
          "Apr 2018",
          "May 2018",
          "Jun 2018",
          "Jul 2018",
          "Aug 2018"
         ],
         "xaxis": "x",
         "y": [
          1,
          0.9954250844672314,
          0.9159052572265434,
          0.9184128059641686,
          0.9192914904668281,
          0.9194421927716194,
          0.9185688700932149,
          0.9180526571646427,
          0.9205454596241103
         ],
         "yaxis": "y"
        }
       ],
       "layout": {
        "legend": {
         "tracegroupgap": 0
        },
        "margin": {
         "t": 60
        },
        "shapes": [
         {
          "line": {
           "color": "red",
           "dash": "dot"
          },
          "type": "line",
          "x0": 0,
          "x1": 1,
          "xref": "x domain",
          "y0": 0.95,
          "y1": 0.95,
          "yref": "y"
         }
        ],
        "template": {
         "data": {
          "bar": [
           {
            "error_x": {
             "color": "#2a3f5f"
            },
            "error_y": {
             "color": "#2a3f5f"
            },
            "marker": {
             "line": {
              "color": "#E5ECF6",
              "width": 0.5
             },
             "pattern": {
              "fillmode": "overlay",
              "size": 10,
              "solidity": 0.2
             }
            },
            "type": "bar"
           }
          ],
          "barpolar": [
           {
            "marker": {
             "line": {
              "color": "#E5ECF6",
              "width": 0.5
             },
             "pattern": {
              "fillmode": "overlay",
              "size": 10,
              "solidity": 0.2
             }
            },
            "type": "barpolar"
           }
          ],
          "carpet": [
           {
            "aaxis": {
             "endlinecolor": "#2a3f5f",
             "gridcolor": "white",
             "linecolor": "white",
             "minorgridcolor": "white",
             "startlinecolor": "#2a3f5f"
            },
            "baxis": {
             "endlinecolor": "#2a3f5f",
             "gridcolor": "white",
             "linecolor": "white",
             "minorgridcolor": "white",
             "startlinecolor": "#2a3f5f"
            },
            "type": "carpet"
           }
          ],
          "choropleth": [
           {
            "colorbar": {
             "outlinewidth": 0,
             "ticks": ""
            },
            "type": "choropleth"
           }
          ],
          "contour": [
           {
            "colorbar": {
             "outlinewidth": 0,
             "ticks": ""
            },
            "colorscale": [
             [
              0,
              "#0d0887"
             ],
             [
              0.1111111111111111,
              "#46039f"
             ],
             [
              0.2222222222222222,
              "#7201a8"
             ],
             [
              0.3333333333333333,
              "#9c179e"
             ],
             [
              0.4444444444444444,
              "#bd3786"
             ],
             [
              0.5555555555555556,
              "#d8576b"
             ],
             [
              0.6666666666666666,
              "#ed7953"
             ],
             [
              0.7777777777777778,
              "#fb9f3a"
             ],
             [
              0.8888888888888888,
              "#fdca26"
             ],
             [
              1,
              "#f0f921"
             ]
            ],
            "type": "contour"
           }
          ],
          "contourcarpet": [
           {
            "colorbar": {
             "outlinewidth": 0,
             "ticks": ""
            },
            "type": "contourcarpet"
           }
          ],
          "heatmap": [
           {
            "colorbar": {
             "outlinewidth": 0,
             "ticks": ""
            },
            "colorscale": [
             [
              0,
              "#0d0887"
             ],
             [
              0.1111111111111111,
              "#46039f"
             ],
             [
              0.2222222222222222,
              "#7201a8"
             ],
             [
              0.3333333333333333,
              "#9c179e"
             ],
             [
              0.4444444444444444,
              "#bd3786"
             ],
             [
              0.5555555555555556,
              "#d8576b"
             ],
             [
              0.6666666666666666,
              "#ed7953"
             ],
             [
              0.7777777777777778,
              "#fb9f3a"
             ],
             [
              0.8888888888888888,
              "#fdca26"
             ],
             [
              1,
              "#f0f921"
             ]
            ],
            "type": "heatmap"
           }
          ],
          "heatmapgl": [
           {
            "colorbar": {
             "outlinewidth": 0,
             "ticks": ""
            },
            "colorscale": [
             [
              0,
              "#0d0887"
             ],
             [
              0.1111111111111111,
              "#46039f"
             ],
             [
              0.2222222222222222,
              "#7201a8"
             ],
             [
              0.3333333333333333,
              "#9c179e"
             ],
             [
              0.4444444444444444,
              "#bd3786"
             ],
             [
              0.5555555555555556,
              "#d8576b"
             ],
             [
              0.6666666666666666,
              "#ed7953"
             ],
             [
              0.7777777777777778,
              "#fb9f3a"
             ],
             [
              0.8888888888888888,
              "#fdca26"
             ],
             [
              1,
              "#f0f921"
             ]
            ],
            "type": "heatmapgl"
           }
          ],
          "histogram": [
           {
            "marker": {
             "pattern": {
              "fillmode": "overlay",
              "size": 10,
              "solidity": 0.2
             }
            },
            "type": "histogram"
           }
          ],
          "histogram2d": [
           {
            "colorbar": {
             "outlinewidth": 0,
             "ticks": ""
            },
            "colorscale": [
             [
              0,
              "#0d0887"
             ],
             [
              0.1111111111111111,
              "#46039f"
             ],
             [
              0.2222222222222222,
              "#7201a8"
             ],
             [
              0.3333333333333333,
              "#9c179e"
             ],
             [
              0.4444444444444444,
              "#bd3786"
             ],
             [
              0.5555555555555556,
              "#d8576b"
             ],
             [
              0.6666666666666666,
              "#ed7953"
             ],
             [
              0.7777777777777778,
              "#fb9f3a"
             ],
             [
              0.8888888888888888,
              "#fdca26"
             ],
             [
              1,
              "#f0f921"
             ]
            ],
            "type": "histogram2d"
           }
          ],
          "histogram2dcontour": [
           {
            "colorbar": {
             "outlinewidth": 0,
             "ticks": ""
            },
            "colorscale": [
             [
              0,
              "#0d0887"
             ],
             [
              0.1111111111111111,
              "#46039f"
             ],
             [
              0.2222222222222222,
              "#7201a8"
             ],
             [
              0.3333333333333333,
              "#9c179e"
             ],
             [
              0.4444444444444444,
              "#bd3786"
             ],
             [
              0.5555555555555556,
              "#d8576b"
             ],
             [
              0.6666666666666666,
              "#ed7953"
             ],
             [
              0.7777777777777778,
              "#fb9f3a"
             ],
             [
              0.8888888888888888,
              "#fdca26"
             ],
             [
              1,
              "#f0f921"
             ]
            ],
            "type": "histogram2dcontour"
           }
          ],
          "mesh3d": [
           {
            "colorbar": {
             "outlinewidth": 0,
             "ticks": ""
            },
            "type": "mesh3d"
           }
          ],
          "parcoords": [
           {
            "line": {
             "colorbar": {
              "outlinewidth": 0,
              "ticks": ""
             }
            },
            "type": "parcoords"
           }
          ],
          "pie": [
           {
            "automargin": true,
            "type": "pie"
           }
          ],
          "scatter": [
           {
            "fillpattern": {
             "fillmode": "overlay",
             "size": 10,
             "solidity": 0.2
            },
            "type": "scatter"
           }
          ],
          "scatter3d": [
           {
            "line": {
             "colorbar": {
              "outlinewidth": 0,
              "ticks": ""
             }
            },
            "marker": {
             "colorbar": {
              "outlinewidth": 0,
              "ticks": ""
             }
            },
            "type": "scatter3d"
           }
          ],
          "scattercarpet": [
           {
            "marker": {
             "colorbar": {
              "outlinewidth": 0,
              "ticks": ""
             }
            },
            "type": "scattercarpet"
           }
          ],
          "scattergeo": [
           {
            "marker": {
             "colorbar": {
              "outlinewidth": 0,
              "ticks": ""
             }
            },
            "type": "scattergeo"
           }
          ],
          "scattergl": [
           {
            "marker": {
             "colorbar": {
              "outlinewidth": 0,
              "ticks": ""
             }
            },
            "type": "scattergl"
           }
          ],
          "scattermapbox": [
           {
            "marker": {
             "colorbar": {
              "outlinewidth": 0,
              "ticks": ""
             }
            },
            "type": "scattermapbox"
           }
          ],
          "scatterpolar": [
           {
            "marker": {
             "colorbar": {
              "outlinewidth": 0,
              "ticks": ""
             }
            },
            "type": "scatterpolar"
           }
          ],
          "scatterpolargl": [
           {
            "marker": {
             "colorbar": {
              "outlinewidth": 0,
              "ticks": ""
             }
            },
            "type": "scatterpolargl"
           }
          ],
          "scatterternary": [
           {
            "marker": {
             "colorbar": {
              "outlinewidth": 0,
              "ticks": ""
             }
            },
            "type": "scatterternary"
           }
          ],
          "surface": [
           {
            "colorbar": {
             "outlinewidth": 0,
             "ticks": ""
            },
            "colorscale": [
             [
              0,
              "#0d0887"
             ],
             [
              0.1111111111111111,
              "#46039f"
             ],
             [
              0.2222222222222222,
              "#7201a8"
             ],
             [
              0.3333333333333333,
              "#9c179e"
             ],
             [
              0.4444444444444444,
              "#bd3786"
             ],
             [
              0.5555555555555556,
              "#d8576b"
             ],
             [
              0.6666666666666666,
              "#ed7953"
             ],
             [
              0.7777777777777778,
              "#fb9f3a"
             ],
             [
              0.8888888888888888,
              "#fdca26"
             ],
             [
              1,
              "#f0f921"
             ]
            ],
            "type": "surface"
           }
          ],
          "table": [
           {
            "cells": {
             "fill": {
              "color": "#EBF0F8"
             },
             "line": {
              "color": "white"
             }
            },
            "header": {
             "fill": {
              "color": "#C8D4E3"
             },
             "line": {
              "color": "white"
             }
            },
            "type": "table"
           }
          ]
         },
         "layout": {
          "annotationdefaults": {
           "arrowcolor": "#2a3f5f",
           "arrowhead": 0,
           "arrowwidth": 1
          },
          "autotypenumbers": "strict",
          "coloraxis": {
           "colorbar": {
            "outlinewidth": 0,
            "ticks": ""
           }
          },
          "colorscale": {
           "diverging": [
            [
             0,
             "#8e0152"
            ],
            [
             0.1,
             "#c51b7d"
            ],
            [
             0.2,
             "#de77ae"
            ],
            [
             0.3,
             "#f1b6da"
            ],
            [
             0.4,
             "#fde0ef"
            ],
            [
             0.5,
             "#f7f7f7"
            ],
            [
             0.6,
             "#e6f5d0"
            ],
            [
             0.7,
             "#b8e186"
            ],
            [
             0.8,
             "#7fbc41"
            ],
            [
             0.9,
             "#4d9221"
            ],
            [
             1,
             "#276419"
            ]
           ],
           "sequential": [
            [
             0,
             "#0d0887"
            ],
            [
             0.1111111111111111,
             "#46039f"
            ],
            [
             0.2222222222222222,
             "#7201a8"
            ],
            [
             0.3333333333333333,
             "#9c179e"
            ],
            [
             0.4444444444444444,
             "#bd3786"
            ],
            [
             0.5555555555555556,
             "#d8576b"
            ],
            [
             0.6666666666666666,
             "#ed7953"
            ],
            [
             0.7777777777777778,
             "#fb9f3a"
            ],
            [
             0.8888888888888888,
             "#fdca26"
            ],
            [
             1,
             "#f0f921"
            ]
           ],
           "sequentialminus": [
            [
             0,
             "#0d0887"
            ],
            [
             0.1111111111111111,
             "#46039f"
            ],
            [
             0.2222222222222222,
             "#7201a8"
            ],
            [
             0.3333333333333333,
             "#9c179e"
            ],
            [
             0.4444444444444444,
             "#bd3786"
            ],
            [
             0.5555555555555556,
             "#d8576b"
            ],
            [
             0.6666666666666666,
             "#ed7953"
            ],
            [
             0.7777777777777778,
             "#fb9f3a"
            ],
            [
             0.8888888888888888,
             "#fdca26"
            ],
            [
             1,
             "#f0f921"
            ]
           ]
          },
          "colorway": [
           "#636efa",
           "#EF553B",
           "#00cc96",
           "#ab63fa",
           "#FFA15A",
           "#19d3f3",
           "#FF6692",
           "#B6E880",
           "#FF97FF",
           "#FECB52"
          ],
          "font": {
           "color": "#2a3f5f"
          },
          "geo": {
           "bgcolor": "white",
           "lakecolor": "white",
           "landcolor": "#E5ECF6",
           "showlakes": true,
           "showland": true,
           "subunitcolor": "white"
          },
          "hoverlabel": {
           "align": "left"
          },
          "hovermode": "closest",
          "mapbox": {
           "style": "light"
          },
          "paper_bgcolor": "white",
          "plot_bgcolor": "#E5ECF6",
          "polar": {
           "angularaxis": {
            "gridcolor": "white",
            "linecolor": "white",
            "ticks": ""
           },
           "bgcolor": "#E5ECF6",
           "radialaxis": {
            "gridcolor": "white",
            "linecolor": "white",
            "ticks": ""
           }
          },
          "scene": {
           "xaxis": {
            "backgroundcolor": "#E5ECF6",
            "gridcolor": "white",
            "gridwidth": 2,
            "linecolor": "white",
            "showbackground": true,
            "ticks": "",
            "zerolinecolor": "white"
           },
           "yaxis": {
            "backgroundcolor": "#E5ECF6",
            "gridcolor": "white",
            "gridwidth": 2,
            "linecolor": "white",
            "showbackground": true,
            "ticks": "",
            "zerolinecolor": "white"
           },
           "zaxis": {
            "backgroundcolor": "#E5ECF6",
            "gridcolor": "white",
            "gridwidth": 2,
            "linecolor": "white",
            "showbackground": true,
            "ticks": "",
            "zerolinecolor": "white"
           }
          },
          "shapedefaults": {
           "line": {
            "color": "#2a3f5f"
           }
          },
          "ternary": {
           "aaxis": {
            "gridcolor": "white",
            "linecolor": "white",
            "ticks": ""
           },
           "baxis": {
            "gridcolor": "white",
            "linecolor": "white",
            "ticks": ""
           },
           "bgcolor": "#E5ECF6",
           "caxis": {
            "gridcolor": "white",
            "linecolor": "white",
            "ticks": ""
           }
          },
          "title": {
           "x": 0.05
          },
          "xaxis": {
           "automargin": true,
           "gridcolor": "white",
           "linecolor": "white",
           "ticks": "",
           "title": {
            "standoff": 15
           },
           "zerolinecolor": "white",
           "zerolinewidth": 2
          },
          "yaxis": {
           "automargin": true,
           "gridcolor": "white",
           "linecolor": "white",
           "ticks": "",
           "title": {
            "standoff": 15
           },
           "zerolinecolor": "white",
           "zerolinewidth": 2
          }
         }
        },
        "xaxis": {
         "anchor": "y",
         "domain": [
          0,
          1
         ],
         "title": {
          "text": "Month"
         }
        },
        "yaxis": {
         "anchor": "x",
         "domain": [
          0,
          1
         ],
         "title": {
          "text": "ARI"
         }
        }
       }
      },
      "text/html": [
       "<div>                            <div id=\"f78dd4e1-2647-46b4-9264-d90a643e0e80\" class=\"plotly-graph-div\" style=\"height:525px; width:100%;\"></div>            <script type=\"text/javascript\">                require([\"plotly\"], function(Plotly) {                    window.PLOTLYENV=window.PLOTLYENV || {};                                    if (document.getElementById(\"f78dd4e1-2647-46b4-9264-d90a643e0e80\")) {                    Plotly.newPlot(                        \"f78dd4e1-2647-46b4-9264-d90a643e0e80\",                        [{\"hovertemplate\":\"Month=%{x}<br>ARI=%{y}<extra></extra>\",\"legendgroup\":\"\",\"line\":{\"color\":\"#636efa\",\"dash\":\"solid\",\"shape\":\"spline\"},\"marker\":{\"symbol\":\"circle\"},\"mode\":\"lines\",\"name\":\"\",\"orientation\":\"v\",\"showlegend\":false,\"x\":[\"Dec 2017\",\"Jan 2018\",\"Feb 2018\",\"Mar 2018\",\"Apr 2018\",\"May 2018\",\"Jun 2018\",\"Jul 2018\",\"Aug 2018\"],\"xaxis\":\"x\",\"y\":[1.0,0.9954250844672314,0.9159052572265434,0.9184128059641686,0.9192914904668281,0.9194421927716194,0.9185688700932149,0.9180526571646427,0.9205454596241103],\"yaxis\":\"y\",\"type\":\"scatter\"}],                        {\"template\":{\"data\":{\"histogram2dcontour\":[{\"type\":\"histogram2dcontour\",\"colorbar\":{\"outlinewidth\":0,\"ticks\":\"\"},\"colorscale\":[[0.0,\"#0d0887\"],[0.1111111111111111,\"#46039f\"],[0.2222222222222222,\"#7201a8\"],[0.3333333333333333,\"#9c179e\"],[0.4444444444444444,\"#bd3786\"],[0.5555555555555556,\"#d8576b\"],[0.6666666666666666,\"#ed7953\"],[0.7777777777777778,\"#fb9f3a\"],[0.8888888888888888,\"#fdca26\"],[1.0,\"#f0f921\"]]}],\"choropleth\":[{\"type\":\"choropleth\",\"colorbar\":{\"outlinewidth\":0,\"ticks\":\"\"}}],\"histogram2d\":[{\"type\":\"histogram2d\",\"colorbar\":{\"outlinewidth\":0,\"ticks\":\"\"},\"colorscale\":[[0.0,\"#0d0887\"],[0.1111111111111111,\"#46039f\"],[0.2222222222222222,\"#7201a8\"],[0.3333333333333333,\"#9c179e\"],[0.4444444444444444,\"#bd3786\"],[0.5555555555555556,\"#d8576b\"],[0.6666666666666666,\"#ed7953\"],[0.7777777777777778,\"#fb9f3a\"],[0.8888888888888888,\"#fdca26\"],[1.0,\"#f0f921\"]]}],\"heatmap\":[{\"type\":\"heatmap\",\"colorbar\":{\"outlinewidth\":0,\"ticks\":\"\"},\"colorscale\":[[0.0,\"#0d0887\"],[0.1111111111111111,\"#46039f\"],[0.2222222222222222,\"#7201a8\"],[0.3333333333333333,\"#9c179e\"],[0.4444444444444444,\"#bd3786\"],[0.5555555555555556,\"#d8576b\"],[0.6666666666666666,\"#ed7953\"],[0.7777777777777778,\"#fb9f3a\"],[0.8888888888888888,\"#fdca26\"],[1.0,\"#f0f921\"]]}],\"heatmapgl\":[{\"type\":\"heatmapgl\",\"colorbar\":{\"outlinewidth\":0,\"ticks\":\"\"},\"colorscale\":[[0.0,\"#0d0887\"],[0.1111111111111111,\"#46039f\"],[0.2222222222222222,\"#7201a8\"],[0.3333333333333333,\"#9c179e\"],[0.4444444444444444,\"#bd3786\"],[0.5555555555555556,\"#d8576b\"],[0.6666666666666666,\"#ed7953\"],[0.7777777777777778,\"#fb9f3a\"],[0.8888888888888888,\"#fdca26\"],[1.0,\"#f0f921\"]]}],\"contourcarpet\":[{\"type\":\"contourcarpet\",\"colorbar\":{\"outlinewidth\":0,\"ticks\":\"\"}}],\"contour\":[{\"type\":\"contour\",\"colorbar\":{\"outlinewidth\":0,\"ticks\":\"\"},\"colorscale\":[[0.0,\"#0d0887\"],[0.1111111111111111,\"#46039f\"],[0.2222222222222222,\"#7201a8\"],[0.3333333333333333,\"#9c179e\"],[0.4444444444444444,\"#bd3786\"],[0.5555555555555556,\"#d8576b\"],[0.6666666666666666,\"#ed7953\"],[0.7777777777777778,\"#fb9f3a\"],[0.8888888888888888,\"#fdca26\"],[1.0,\"#f0f921\"]]}],\"surface\":[{\"type\":\"surface\",\"colorbar\":{\"outlinewidth\":0,\"ticks\":\"\"},\"colorscale\":[[0.0,\"#0d0887\"],[0.1111111111111111,\"#46039f\"],[0.2222222222222222,\"#7201a8\"],[0.3333333333333333,\"#9c179e\"],[0.4444444444444444,\"#bd3786\"],[0.5555555555555556,\"#d8576b\"],[0.6666666666666666,\"#ed7953\"],[0.7777777777777778,\"#fb9f3a\"],[0.8888888888888888,\"#fdca26\"],[1.0,\"#f0f921\"]]}],\"mesh3d\":[{\"type\":\"mesh3d\",\"colorbar\":{\"outlinewidth\":0,\"ticks\":\"\"}}],\"scatter\":[{\"fillpattern\":{\"fillmode\":\"overlay\",\"size\":10,\"solidity\":0.2},\"type\":\"scatter\"}],\"parcoords\":[{\"type\":\"parcoords\",\"line\":{\"colorbar\":{\"outlinewidth\":0,\"ticks\":\"\"}}}],\"scatterpolargl\":[{\"type\":\"scatterpolargl\",\"marker\":{\"colorbar\":{\"outlinewidth\":0,\"ticks\":\"\"}}}],\"bar\":[{\"error_x\":{\"color\":\"#2a3f5f\"},\"error_y\":{\"color\":\"#2a3f5f\"},\"marker\":{\"line\":{\"color\":\"#E5ECF6\",\"width\":0.5},\"pattern\":{\"fillmode\":\"overlay\",\"size\":10,\"solidity\":0.2}},\"type\":\"bar\"}],\"scattergeo\":[{\"type\":\"scattergeo\",\"marker\":{\"colorbar\":{\"outlinewidth\":0,\"ticks\":\"\"}}}],\"scatterpolar\":[{\"type\":\"scatterpolar\",\"marker\":{\"colorbar\":{\"outlinewidth\":0,\"ticks\":\"\"}}}],\"histogram\":[{\"marker\":{\"pattern\":{\"fillmode\":\"overlay\",\"size\":10,\"solidity\":0.2}},\"type\":\"histogram\"}],\"scattergl\":[{\"type\":\"scattergl\",\"marker\":{\"colorbar\":{\"outlinewidth\":0,\"ticks\":\"\"}}}],\"scatter3d\":[{\"type\":\"scatter3d\",\"line\":{\"colorbar\":{\"outlinewidth\":0,\"ticks\":\"\"}},\"marker\":{\"colorbar\":{\"outlinewidth\":0,\"ticks\":\"\"}}}],\"scattermapbox\":[{\"type\":\"scattermapbox\",\"marker\":{\"colorbar\":{\"outlinewidth\":0,\"ticks\":\"\"}}}],\"scatterternary\":[{\"type\":\"scatterternary\",\"marker\":{\"colorbar\":{\"outlinewidth\":0,\"ticks\":\"\"}}}],\"scattercarpet\":[{\"type\":\"scattercarpet\",\"marker\":{\"colorbar\":{\"outlinewidth\":0,\"ticks\":\"\"}}}],\"carpet\":[{\"aaxis\":{\"endlinecolor\":\"#2a3f5f\",\"gridcolor\":\"white\",\"linecolor\":\"white\",\"minorgridcolor\":\"white\",\"startlinecolor\":\"#2a3f5f\"},\"baxis\":{\"endlinecolor\":\"#2a3f5f\",\"gridcolor\":\"white\",\"linecolor\":\"white\",\"minorgridcolor\":\"white\",\"startlinecolor\":\"#2a3f5f\"},\"type\":\"carpet\"}],\"table\":[{\"cells\":{\"fill\":{\"color\":\"#EBF0F8\"},\"line\":{\"color\":\"white\"}},\"header\":{\"fill\":{\"color\":\"#C8D4E3\"},\"line\":{\"color\":\"white\"}},\"type\":\"table\"}],\"barpolar\":[{\"marker\":{\"line\":{\"color\":\"#E5ECF6\",\"width\":0.5},\"pattern\":{\"fillmode\":\"overlay\",\"size\":10,\"solidity\":0.2}},\"type\":\"barpolar\"}],\"pie\":[{\"automargin\":true,\"type\":\"pie\"}]},\"layout\":{\"autotypenumbers\":\"strict\",\"colorway\":[\"#636efa\",\"#EF553B\",\"#00cc96\",\"#ab63fa\",\"#FFA15A\",\"#19d3f3\",\"#FF6692\",\"#B6E880\",\"#FF97FF\",\"#FECB52\"],\"font\":{\"color\":\"#2a3f5f\"},\"hovermode\":\"closest\",\"hoverlabel\":{\"align\":\"left\"},\"paper_bgcolor\":\"white\",\"plot_bgcolor\":\"#E5ECF6\",\"polar\":{\"bgcolor\":\"#E5ECF6\",\"angularaxis\":{\"gridcolor\":\"white\",\"linecolor\":\"white\",\"ticks\":\"\"},\"radialaxis\":{\"gridcolor\":\"white\",\"linecolor\":\"white\",\"ticks\":\"\"}},\"ternary\":{\"bgcolor\":\"#E5ECF6\",\"aaxis\":{\"gridcolor\":\"white\",\"linecolor\":\"white\",\"ticks\":\"\"},\"baxis\":{\"gridcolor\":\"white\",\"linecolor\":\"white\",\"ticks\":\"\"},\"caxis\":{\"gridcolor\":\"white\",\"linecolor\":\"white\",\"ticks\":\"\"}},\"coloraxis\":{\"colorbar\":{\"outlinewidth\":0,\"ticks\":\"\"}},\"colorscale\":{\"sequential\":[[0.0,\"#0d0887\"],[0.1111111111111111,\"#46039f\"],[0.2222222222222222,\"#7201a8\"],[0.3333333333333333,\"#9c179e\"],[0.4444444444444444,\"#bd3786\"],[0.5555555555555556,\"#d8576b\"],[0.6666666666666666,\"#ed7953\"],[0.7777777777777778,\"#fb9f3a\"],[0.8888888888888888,\"#fdca26\"],[1.0,\"#f0f921\"]],\"sequentialminus\":[[0.0,\"#0d0887\"],[0.1111111111111111,\"#46039f\"],[0.2222222222222222,\"#7201a8\"],[0.3333333333333333,\"#9c179e\"],[0.4444444444444444,\"#bd3786\"],[0.5555555555555556,\"#d8576b\"],[0.6666666666666666,\"#ed7953\"],[0.7777777777777778,\"#fb9f3a\"],[0.8888888888888888,\"#fdca26\"],[1.0,\"#f0f921\"]],\"diverging\":[[0,\"#8e0152\"],[0.1,\"#c51b7d\"],[0.2,\"#de77ae\"],[0.3,\"#f1b6da\"],[0.4,\"#fde0ef\"],[0.5,\"#f7f7f7\"],[0.6,\"#e6f5d0\"],[0.7,\"#b8e186\"],[0.8,\"#7fbc41\"],[0.9,\"#4d9221\"],[1,\"#276419\"]]},\"xaxis\":{\"gridcolor\":\"white\",\"linecolor\":\"white\",\"ticks\":\"\",\"title\":{\"standoff\":15},\"zerolinecolor\":\"white\",\"automargin\":true,\"zerolinewidth\":2},\"yaxis\":{\"gridcolor\":\"white\",\"linecolor\":\"white\",\"ticks\":\"\",\"title\":{\"standoff\":15},\"zerolinecolor\":\"white\",\"automargin\":true,\"zerolinewidth\":2},\"scene\":{\"xaxis\":{\"backgroundcolor\":\"#E5ECF6\",\"gridcolor\":\"white\",\"linecolor\":\"white\",\"showbackground\":true,\"ticks\":\"\",\"zerolinecolor\":\"white\",\"gridwidth\":2},\"yaxis\":{\"backgroundcolor\":\"#E5ECF6\",\"gridcolor\":\"white\",\"linecolor\":\"white\",\"showbackground\":true,\"ticks\":\"\",\"zerolinecolor\":\"white\",\"gridwidth\":2},\"zaxis\":{\"backgroundcolor\":\"#E5ECF6\",\"gridcolor\":\"white\",\"linecolor\":\"white\",\"showbackground\":true,\"ticks\":\"\",\"zerolinecolor\":\"white\",\"gridwidth\":2}},\"shapedefaults\":{\"line\":{\"color\":\"#2a3f5f\"}},\"annotationdefaults\":{\"arrowcolor\":\"#2a3f5f\",\"arrowhead\":0,\"arrowwidth\":1},\"geo\":{\"bgcolor\":\"white\",\"landcolor\":\"#E5ECF6\",\"subunitcolor\":\"white\",\"showland\":true,\"showlakes\":true,\"lakecolor\":\"white\"},\"title\":{\"x\":0.05},\"mapbox\":{\"style\":\"light\"}}},\"xaxis\":{\"anchor\":\"y\",\"domain\":[0.0,1.0],\"title\":{\"text\":\"Month\"}},\"yaxis\":{\"anchor\":\"x\",\"domain\":[0.0,1.0],\"title\":{\"text\":\"ARI\"}},\"legend\":{\"tracegroupgap\":0},\"margin\":{\"t\":60},\"shapes\":[{\"line\":{\"color\":\"red\",\"dash\":\"dot\"},\"type\":\"line\",\"x0\":0,\"x1\":1,\"xref\":\"x domain\",\"y0\":0.95,\"y1\":0.95,\"yref\":\"y\"}]},                        {\"responsive\": true}                    ).then(function(){\n",
       "                            \n",
       "var gd = document.getElementById('f78dd4e1-2647-46b4-9264-d90a643e0e80');\n",
       "var x = new MutationObserver(function (mutations, observer) {{\n",
       "        var display = window.getComputedStyle(gd).display;\n",
       "        if (!display || display === 'none') {{\n",
       "            console.log([gd, 'removed!']);\n",
       "            Plotly.purge(gd);\n",
       "            observer.disconnect();\n",
       "        }}\n",
       "}});\n",
       "\n",
       "// Listen for the removal of the full notebook cells\n",
       "var notebookContainer = gd.closest('#notebook-container');\n",
       "if (notebookContainer) {{\n",
       "    x.observe(notebookContainer, {childList: true});\n",
       "}}\n",
       "\n",
       "// Listen for the clearing of the current output cell\n",
       "var outputEl = gd.closest('.output');\n",
       "if (outputEl) {{\n",
       "    x.observe(outputEl, {childList: true});\n",
       "}}\n",
       "\n",
       "                        })                };                });            </script>        </div>"
      ]
     },
     "metadata": {},
     "output_type": "display_data"
    }
   ],
   "source": [
    "month_df = pd.DataFrame(months, columns = ['Month'])\n",
    "ari_score_df = pd.DataFrame(ari_score, columns = ['ARI'])\n",
    "df_plot = pd.concat([month_df,ari_score_df], axis=1)\n",
    "\n",
    "# Plot\n",
    "\n",
    "fig = px.line(df_plot, x='Month', y='ARI', line_shape=\"spline\", render_mode=\"svg\")\n",
    "fig.add_hline(y=0.95, line_color = 'red', line_dash=\"dot\",)\n",
    "#fig.add_vline(x=1, line_color = 'red', line_dash=\"dot\",)\n",
    "\n",
    "fig.show()"
   ]
  },
  {
   "cell_type": "code",
   "execution_count": null,
   "id": "7419e83f",
   "metadata": {},
   "outputs": [],
   "source": [
    "# The limit will be to 0.95, after this limit, the model will need to be trained again."
   ]
  }
 ],
 "metadata": {
  "kernelspec": {
   "display_name": "Python 3 (ipykernel)",
   "language": "python",
   "name": "python3"
  },
  "language_info": {
   "codemirror_mode": {
    "name": "ipython",
    "version": 3
   },
   "file_extension": ".py",
   "mimetype": "text/x-python",
   "name": "python",
   "nbconvert_exporter": "python",
   "pygments_lexer": "ipython3",
   "version": "3.9.13"
  }
 },
 "nbformat": 4,
 "nbformat_minor": 5
}
