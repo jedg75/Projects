{
  "cells": [
    {
      "cell_type": "markdown",
      "source": [
        "# Image processing 2\n",
        "\n",
        "* [Preprocessing](#chapter1)\n",
        "\n",
        "* [Transfer learning, CNN](#chapter2)\n",
        "    * [Fonction de creation de modèle de classification](#section_2_1)\n",
        "    * [Approche avec préparation initiale des images](#section_2_3)\n",
        "    * [Approche nouvelle par dataset sans augmentation](#section_2_4)\n",
        "    * [Approche ImageDatagenerator avec data augmentation](#section_2_5)\n",
        "    * [Approche nouvelle par Dataset avec data augmentation intégrée au modèle](#section_2_6)\n",
        "        * [VGG16](#section_2_7)\n",
        "        * [Inception](#section_2_8)\n",
        "        * [Resnet](#section_2_9)\n",
        "\n",
        "* [Extraction via API](#chapter3)\n",
        "    \n"
      ],
      "metadata": {
        "id": "-Nl5K7obAYA9"
      }
    },
    {
      "cell_type": "markdown",
      "metadata": {
        "id": "8iDhdjpdqfpa"
      },
      "source": [
        "# Preprocessing <a class=\"anchor\" id='chapter1' ></a>"
      ]
    },
    {
      "cell_type": "code",
      "execution_count": 1,
      "metadata": {
        "id": "Jk6_eqBJIqIe"
      },
      "outputs": [],
      "source": [
        "import numpy as np\n",
        "import os\n",
        "import PIL\n",
        "import PIL.Image\n",
        "import tensorflow as tf\n",
        "\n",
        "from google.colab import drive\n",
        "import pathlib\n",
        "\n",
        "import matplotlib.pyplot as plt\n",
        "\n",
        "from glob import glob\n",
        "\n",
        "from sklearn import preprocessing"
      ]
    },
    {
      "cell_type": "code",
      "execution_count": 2,
      "metadata": {
        "id": "AwI6zJ2W7dA4"
      },
      "outputs": [],
      "source": [
        "import pandas as pd\n",
        "import seaborn as sns\n",
        "%matplotlib inline\n",
        "from os import listdir\n",
        "from sklearn.model_selection import train_test_split\n",
        "from sklearn.metrics import accuracy_score, auc, roc_auc_score, roc_curve\n",
        "\n",
        "from tensorflow.keras.models import Model, Sequential\n",
        "from tensorflow.keras.layers import GlobalAveragePooling2D, GlobalAveragePooling1D, Flatten, Dense, Dropout\n",
        "from tensorflow.keras.layers import Rescaling, RandomFlip, RandomRotation, RandomZoom\n",
        "from tensorflow.keras.callbacks import EarlyStopping, ModelCheckpoint\n",
        "from tensorflow.keras.applications.vgg16 import VGG16\n",
        "from tensorflow.keras.applications.vgg16 import preprocess_input\n",
        "from tensorflow.keras.preprocessing.image import load_img, img_to_array\n",
        "from tensorflow.keras.utils import to_categorical\n",
        "\n",
        "from PIL import Image, ImageOps\n",
        "\n",
        "from tensorflow import keras\n",
        "from tensorflow.keras import layers\n",
        "\n",
        "from tensorflow.keras.layers import Rescaling, RandomFlip, RandomRotation, RandomZoom, RandomContrast, GaussianNoise, RandomBrightness, RandomTranslation, RandomContrast\n",
        "\n",
        "import cv2\n",
        "\n",
        "#import splitfolders\n",
        "\n",
        "from pathlib import Path\n",
        "\n",
        "import shutil\n",
        "\n",
        "#from plot_keras_history import show_history, plot_history"
      ]
    },
    {
      "cell_type": "code",
      "execution_count": 3,
      "metadata": {
        "colab": {
          "base_uri": "https://localhost:8080/"
        },
        "id": "vzyPIPrpxcxI",
        "outputId": "776542af-a2a6-4cae-edb4-1fcf6834c27d"
      },
      "outputs": [
        {
          "output_type": "stream",
          "name": "stdout",
          "text": [
            "Drive already mounted at /content/drive; to attempt to forcibly remount, call drive.mount(\"/content/drive\", force_remount=True).\n"
          ]
        }
      ],
      "source": [
        "#Connecting to drive for file access\n",
        "drive.mount('/content/drive')"
      ]
    },
    {
      "cell_type": "code",
      "execution_count": 4,
      "metadata": {
        "colab": {
          "base_uri": "https://localhost:8080/"
        },
        "id": "safLq9H2IqCd",
        "outputId": "1afa7eb4-749e-4240-bb08-e5c2edb74907"
      },
      "outputs": [
        {
          "output_type": "stream",
          "name": "stdout",
          "text": [
            "'Baby Care'\t\t\t model_VGG_DA_full_best_weights.h5\n",
            "'Beauty and Personal Care'\t model_VGG_DA_hp_best_weights.h5\n",
            " Computers\t\t\t model_VGG_DA_nogaus_best_weights.h5\n",
            " grayscale\t\t\t output\n",
            "'Home, Decor, & Festive Needs'\t standard.png\n",
            "'Home Furnishing'\t\t untitled_project\n",
            "'Kitchen & Dining'\t\t VGG_IDG_best_weights.h5\n",
            " model_VGG_DA_best_weights.h5\t Watches\n"
          ]
        }
      ],
      "source": [
        "os.chdir(\"/content/drive/MyDrive/Flipkart-Images\")\n",
        "!ls"
      ]
    },
    {
      "cell_type": "code",
      "execution_count": 5,
      "metadata": {
        "colab": {
          "base_uri": "https://localhost:8080/"
        },
        "id": "rMicy7UpJkWN",
        "outputId": "29cc741b-19f0-4a84-db90-5686d6c056aa"
      },
      "outputs": [
        {
          "output_type": "stream",
          "name": "stdout",
          "text": [
            "/content/drive/MyDrive/Flipkart-Images\n",
            "1890\n"
          ]
        }
      ],
      "source": [
        "data_dir = pathlib.Path(\"/content/drive/MyDrive/Flipkart-Images\").with_suffix('')\n",
        "print(data_dir)\n",
        "image_count = len(list(data_dir.glob('*/*.jpg')))\n",
        "print(image_count)"
      ]
    },
    {
      "cell_type": "code",
      "execution_count": 6,
      "metadata": {
        "colab": {
          "base_uri": "https://localhost:8080/"
        },
        "id": "RWT89FHnIp8N",
        "outputId": "0c2a5ff8-8aea-4c06-83a7-d197855ccb80"
      },
      "outputs": [
        {
          "output_type": "stream",
          "name": "stdout",
          "text": [
            "/content/drive/MyDrive/Flipkart-Images\n",
            "1890\n"
          ]
        }
      ],
      "source": [
        "data_dir_val = pathlib.Path(\"/content/drive/MyDrive/Flipkart-Images\").with_suffix('')\n",
        "print(data_dir_val)\n",
        "image_count = len(list(data_dir_val.glob('*/*.jpg')))\n",
        "print(image_count)"
      ]
    },
    {
      "cell_type": "code",
      "execution_count": 7,
      "metadata": {
        "id": "4igzikEuIp1U"
      },
      "outputs": [],
      "source": [
        "batch_size = 32\n",
        "img_height = 224\n",
        "img_width = 224"
      ]
    },
    {
      "cell_type": "code",
      "execution_count": 9,
      "metadata": {
        "colab": {
          "base_uri": "https://localhost:8080/"
        },
        "id": "2jsTElnjIpot",
        "outputId": "e80509ea-68ad-488c-f45c-f6402e8b6009"
      },
      "outputs": [
        {
          "output_type": "stream",
          "name": "stdout",
          "text": [
            "Found 2227 files belonging to 11 classes.\n",
            "Using 1782 files for training.\n"
          ]
        }
      ],
      "source": [
        "train_ds = tf.keras.utils.image_dataset_from_directory(\n",
        "  data_dir,\n",
        "  validation_split=0.2,\n",
        "  subset=\"training\",\n",
        "  seed=123,\n",
        "  image_size=(img_height, img_width),\n",
        "  batch_size=batch_size)"
      ]
    },
    {
      "cell_type": "code",
      "execution_count": 10,
      "metadata": {
        "colab": {
          "base_uri": "https://localhost:8080/"
        },
        "id": "Zg1SWusYLVQE",
        "outputId": "8d691231-a855-4f08-b1df-58c296f9e903"
      },
      "outputs": [
        {
          "output_type": "stream",
          "name": "stdout",
          "text": [
            "Found 2227 files belonging to 11 classes.\n",
            "Using 445 files for validation.\n"
          ]
        }
      ],
      "source": [
        "val_ds = tf.keras.utils.image_dataset_from_directory(\n",
        "  data_dir,\n",
        "  validation_split=0.2,\n",
        "  subset=\"validation\",\n",
        "  seed=123,\n",
        "  image_size=(img_height, img_width),\n",
        "  batch_size=batch_size)"
      ]
    },
    {
      "cell_type": "code",
      "execution_count": 11,
      "metadata": {
        "colab": {
          "base_uri": "https://localhost:8080/"
        },
        "id": "Pk8i826RNfxs",
        "outputId": "a29fec27-1817-488e-edfa-83976b87dc99"
      },
      "outputs": [
        {
          "output_type": "stream",
          "name": "stdout",
          "text": [
            "['.ipynb_checkpoints', 'Baby Care', 'Beauty and Personal Care', 'Computers', 'Home Furnishing', 'Home, Decor, & Festive Needs', 'Kitchen & Dining', 'Watches', 'grayscale', 'output', 'untitled_project']\n"
          ]
        }
      ],
      "source": [
        "class_names = train_ds.class_names\n",
        "print(class_names)"
      ]
    },
    {
      "cell_type": "code",
      "execution_count": 12,
      "metadata": {
        "colab": {
          "base_uri": "https://localhost:8080/"
        },
        "id": "ribUKrYLNfqs",
        "outputId": "8bd31c84-2460-453d-bc31-51a461625104"
      },
      "outputs": [
        {
          "output_type": "stream",
          "name": "stdout",
          "text": [
            "14 56\n"
          ]
        }
      ],
      "source": [
        "print(len(val_ds),len(train_ds))"
      ]
    },
    {
      "cell_type": "code",
      "execution_count": null,
      "metadata": {
        "id": "4eXGc75yNfjH"
      },
      "outputs": [],
      "source": [
        "plt.figure(figsize=(10, 10))\n",
        "for images, labels in train_ds.take(1):\n",
        "  for i in range(9):\n",
        "    ax = plt.subplot(3, 3, i + 1)\n",
        "    plt.imshow(images[i].numpy().astype(\"uint8\"))\n",
        "    plt.title(class_names[labels[i]])\n",
        "    plt.axis(\"off\")"
      ]
    },
    {
      "cell_type": "code",
      "execution_count": null,
      "metadata": {
        "id": "vgV1DAvKTymT"
      },
      "outputs": [],
      "source": [
        "AUTOTUNE = tf.data.AUTOTUNE\n",
        "\n",
        "train_ds = train_ds.cache().prefetch(buffer_size=AUTOTUNE)\n",
        "val_ds = val_ds.cache().prefetch(buffer_size=AUTOTUNE)"
      ]
    },
    {
      "cell_type": "code",
      "execution_count": null,
      "metadata": {
        "colab": {
          "base_uri": "https://localhost:8080/"
        },
        "id": "foEJ8fnJ7M2C",
        "outputId": "edc1c639-bd2a-4a44-8e40-3ee844e6a771"
      },
      "outputs": [
        {
          "name": "stdout",
          "output_type": "stream",
          "text": [
            "intro_to_kt  train  untitled_project  val\n"
          ]
        }
      ],
      "source": [
        "os.chdir(\"/content/drive/MyDrive/Colab Notebooks/JD_P6_Classifier_automatiquement_des_biens_de_consommation/output\")\n",
        "!ls"
      ]
    },
    {
      "cell_type": "code",
      "execution_count": null,
      "metadata": {
        "id": "6R_NFXnEUEmA"
      },
      "outputs": [],
      "source": [
        "# Get the current working directory.\n",
        "current_directory = os.getcwd()\n",
        "\n",
        "# Get a list of all the files and folders in the current directory.\n",
        "files_and_folders = os.listdir(current_directory)\n",
        "\n",
        "# Iterate over the files and folders.\n",
        "for file_or_folder in files_and_folders:\n",
        "\n",
        "  # Check if the file or folder is hidden.\n",
        "  is_hidden = file_or_folder.startswith(\".\")\n",
        "\n",
        "  # If the file or folder is hidden, delete it.\n",
        "  if is_hidden:\n",
        "    os.removedirs(os.path.join(current_directory, file_or_folder))"
      ]
    },
    {
      "cell_type": "code",
      "execution_count": 8,
      "metadata": {
        "id": "iDe2er4bTRi0"
      },
      "outputs": [],
      "source": [
        "#Making classes names\n",
        "\n",
        "list_labels = ['Home Furnishing',\n",
        " 'Baby Care',\n",
        " 'Watches',\n",
        " 'Home, Decor, & Festive Needs',\n",
        " 'Kitchen & Dining',\n",
        " 'Beauty and Personal Care',\n",
        " 'Computers']"
      ]
    },
    {
      "cell_type": "code",
      "execution_count": 9,
      "metadata": {
        "id": "e2EsNDFsTYJX",
        "colab": {
          "base_uri": "https://localhost:8080/",
          "height": 241
        },
        "outputId": "88a49410-fa6d-40a3-9384-61b6c2a0eff9"
      },
      "outputs": [
        {
          "output_type": "stream",
          "name": "stdout",
          "text": [
            "840\n",
            "210\n"
          ]
        },
        {
          "output_type": "execute_result",
          "data": {
            "text/plain": [
              "                                          image_path       label_name  label\n",
              "0  /content/drive/MyDrive/Colab Notebooks/JD_P6_C...  Home Furnishing      3\n",
              "1  /content/drive/MyDrive/Colab Notebooks/JD_P6_C...  Home Furnishing      3\n",
              "2  /content/drive/MyDrive/Colab Notebooks/JD_P6_C...  Home Furnishing      3\n",
              "3  /content/drive/MyDrive/Colab Notebooks/JD_P6_C...  Home Furnishing      3\n",
              "4  /content/drive/MyDrive/Colab Notebooks/JD_P6_C...  Home Furnishing      3"
            ],
            "text/html": [
              "\n",
              "  <div id=\"df-fadeda22-db44-45ef-b5fa-767b019f1a1f\" class=\"colab-df-container\">\n",
              "    <div>\n",
              "<style scoped>\n",
              "    .dataframe tbody tr th:only-of-type {\n",
              "        vertical-align: middle;\n",
              "    }\n",
              "\n",
              "    .dataframe tbody tr th {\n",
              "        vertical-align: top;\n",
              "    }\n",
              "\n",
              "    .dataframe thead th {\n",
              "        text-align: right;\n",
              "    }\n",
              "</style>\n",
              "<table border=\"1\" class=\"dataframe\">\n",
              "  <thead>\n",
              "    <tr style=\"text-align: right;\">\n",
              "      <th></th>\n",
              "      <th>image_path</th>\n",
              "      <th>label_name</th>\n",
              "      <th>label</th>\n",
              "    </tr>\n",
              "  </thead>\n",
              "  <tbody>\n",
              "    <tr>\n",
              "      <th>0</th>\n",
              "      <td>/content/drive/MyDrive/Colab Notebooks/JD_P6_C...</td>\n",
              "      <td>Home Furnishing</td>\n",
              "      <td>3</td>\n",
              "    </tr>\n",
              "    <tr>\n",
              "      <th>1</th>\n",
              "      <td>/content/drive/MyDrive/Colab Notebooks/JD_P6_C...</td>\n",
              "      <td>Home Furnishing</td>\n",
              "      <td>3</td>\n",
              "    </tr>\n",
              "    <tr>\n",
              "      <th>2</th>\n",
              "      <td>/content/drive/MyDrive/Colab Notebooks/JD_P6_C...</td>\n",
              "      <td>Home Furnishing</td>\n",
              "      <td>3</td>\n",
              "    </tr>\n",
              "    <tr>\n",
              "      <th>3</th>\n",
              "      <td>/content/drive/MyDrive/Colab Notebooks/JD_P6_C...</td>\n",
              "      <td>Home Furnishing</td>\n",
              "      <td>3</td>\n",
              "    </tr>\n",
              "    <tr>\n",
              "      <th>4</th>\n",
              "      <td>/content/drive/MyDrive/Colab Notebooks/JD_P6_C...</td>\n",
              "      <td>Home Furnishing</td>\n",
              "      <td>3</td>\n",
              "    </tr>\n",
              "  </tbody>\n",
              "</table>\n",
              "</div>\n",
              "    <div class=\"colab-df-buttons\">\n",
              "\n",
              "  <div class=\"colab-df-container\">\n",
              "    <button class=\"colab-df-convert\" onclick=\"convertToInteractive('df-fadeda22-db44-45ef-b5fa-767b019f1a1f')\"\n",
              "            title=\"Convert this dataframe to an interactive table.\"\n",
              "            style=\"display:none;\">\n",
              "\n",
              "  <svg xmlns=\"http://www.w3.org/2000/svg\" height=\"24px\" viewBox=\"0 -960 960 960\">\n",
              "    <path d=\"M120-120v-720h720v720H120Zm60-500h600v-160H180v160Zm220 220h160v-160H400v160Zm0 220h160v-160H400v160ZM180-400h160v-160H180v160Zm440 0h160v-160H620v160ZM180-180h160v-160H180v160Zm440 0h160v-160H620v160Z\"/>\n",
              "  </svg>\n",
              "    </button>\n",
              "\n",
              "  <style>\n",
              "    .colab-df-container {\n",
              "      display:flex;\n",
              "      gap: 12px;\n",
              "    }\n",
              "\n",
              "    .colab-df-convert {\n",
              "      background-color: #E8F0FE;\n",
              "      border: none;\n",
              "      border-radius: 50%;\n",
              "      cursor: pointer;\n",
              "      display: none;\n",
              "      fill: #1967D2;\n",
              "      height: 32px;\n",
              "      padding: 0 0 0 0;\n",
              "      width: 32px;\n",
              "    }\n",
              "\n",
              "    .colab-df-convert:hover {\n",
              "      background-color: #E2EBFA;\n",
              "      box-shadow: 0px 1px 2px rgba(60, 64, 67, 0.3), 0px 1px 3px 1px rgba(60, 64, 67, 0.15);\n",
              "      fill: #174EA6;\n",
              "    }\n",
              "\n",
              "    .colab-df-buttons div {\n",
              "      margin-bottom: 4px;\n",
              "    }\n",
              "\n",
              "    [theme=dark] .colab-df-convert {\n",
              "      background-color: #3B4455;\n",
              "      fill: #D2E3FC;\n",
              "    }\n",
              "\n",
              "    [theme=dark] .colab-df-convert:hover {\n",
              "      background-color: #434B5C;\n",
              "      box-shadow: 0px 1px 3px 1px rgba(0, 0, 0, 0.15);\n",
              "      filter: drop-shadow(0px 1px 2px rgba(0, 0, 0, 0.3));\n",
              "      fill: #FFFFFF;\n",
              "    }\n",
              "  </style>\n",
              "\n",
              "    <script>\n",
              "      const buttonEl =\n",
              "        document.querySelector('#df-fadeda22-db44-45ef-b5fa-767b019f1a1f button.colab-df-convert');\n",
              "      buttonEl.style.display =\n",
              "        google.colab.kernel.accessAllowed ? 'block' : 'none';\n",
              "\n",
              "      async function convertToInteractive(key) {\n",
              "        const element = document.querySelector('#df-fadeda22-db44-45ef-b5fa-767b019f1a1f');\n",
              "        const dataTable =\n",
              "          await google.colab.kernel.invokeFunction('convertToInteractive',\n",
              "                                                    [key], {});\n",
              "        if (!dataTable) return;\n",
              "\n",
              "        const docLinkHtml = 'Like what you see? Visit the ' +\n",
              "          '<a target=\"_blank\" href=https://colab.research.google.com/notebooks/data_table.ipynb>data table notebook</a>'\n",
              "          + ' to learn more about interactive tables.';\n",
              "        element.innerHTML = '';\n",
              "        dataTable['output_type'] = 'display_data';\n",
              "        await google.colab.output.renderOutput(dataTable, element);\n",
              "        const docLink = document.createElement('div');\n",
              "        docLink.innerHTML = docLinkHtml;\n",
              "        element.appendChild(docLink);\n",
              "      }\n",
              "    </script>\n",
              "  </div>\n",
              "\n",
              "\n",
              "<div id=\"df-4d4fd060-f7c6-402a-8ad4-0e3f95eb3058\">\n",
              "  <button class=\"colab-df-quickchart\" onclick=\"quickchart('df-4d4fd060-f7c6-402a-8ad4-0e3f95eb3058')\"\n",
              "            title=\"Suggest charts.\"\n",
              "            style=\"display:none;\">\n",
              "\n",
              "<svg xmlns=\"http://www.w3.org/2000/svg\" height=\"24px\"viewBox=\"0 0 24 24\"\n",
              "     width=\"24px\">\n",
              "    <g>\n",
              "        <path d=\"M19 3H5c-1.1 0-2 .9-2 2v14c0 1.1.9 2 2 2h14c1.1 0 2-.9 2-2V5c0-1.1-.9-2-2-2zM9 17H7v-7h2v7zm4 0h-2V7h2v10zm4 0h-2v-4h2v4z\"/>\n",
              "    </g>\n",
              "</svg>\n",
              "  </button>\n",
              "\n",
              "<style>\n",
              "  .colab-df-quickchart {\n",
              "      --bg-color: #E8F0FE;\n",
              "      --fill-color: #1967D2;\n",
              "      --hover-bg-color: #E2EBFA;\n",
              "      --hover-fill-color: #174EA6;\n",
              "      --disabled-fill-color: #AAA;\n",
              "      --disabled-bg-color: #DDD;\n",
              "  }\n",
              "\n",
              "  [theme=dark] .colab-df-quickchart {\n",
              "      --bg-color: #3B4455;\n",
              "      --fill-color: #D2E3FC;\n",
              "      --hover-bg-color: #434B5C;\n",
              "      --hover-fill-color: #FFFFFF;\n",
              "      --disabled-bg-color: #3B4455;\n",
              "      --disabled-fill-color: #666;\n",
              "  }\n",
              "\n",
              "  .colab-df-quickchart {\n",
              "    background-color: var(--bg-color);\n",
              "    border: none;\n",
              "    border-radius: 50%;\n",
              "    cursor: pointer;\n",
              "    display: none;\n",
              "    fill: var(--fill-color);\n",
              "    height: 32px;\n",
              "    padding: 0;\n",
              "    width: 32px;\n",
              "  }\n",
              "\n",
              "  .colab-df-quickchart:hover {\n",
              "    background-color: var(--hover-bg-color);\n",
              "    box-shadow: 0 1px 2px rgba(60, 64, 67, 0.3), 0 1px 3px 1px rgba(60, 64, 67, 0.15);\n",
              "    fill: var(--button-hover-fill-color);\n",
              "  }\n",
              "\n",
              "  .colab-df-quickchart-complete:disabled,\n",
              "  .colab-df-quickchart-complete:disabled:hover {\n",
              "    background-color: var(--disabled-bg-color);\n",
              "    fill: var(--disabled-fill-color);\n",
              "    box-shadow: none;\n",
              "  }\n",
              "\n",
              "  .colab-df-spinner {\n",
              "    border: 2px solid var(--fill-color);\n",
              "    border-color: transparent;\n",
              "    border-bottom-color: var(--fill-color);\n",
              "    animation:\n",
              "      spin 1s steps(1) infinite;\n",
              "  }\n",
              "\n",
              "  @keyframes spin {\n",
              "    0% {\n",
              "      border-color: transparent;\n",
              "      border-bottom-color: var(--fill-color);\n",
              "      border-left-color: var(--fill-color);\n",
              "    }\n",
              "    20% {\n",
              "      border-color: transparent;\n",
              "      border-left-color: var(--fill-color);\n",
              "      border-top-color: var(--fill-color);\n",
              "    }\n",
              "    30% {\n",
              "      border-color: transparent;\n",
              "      border-left-color: var(--fill-color);\n",
              "      border-top-color: var(--fill-color);\n",
              "      border-right-color: var(--fill-color);\n",
              "    }\n",
              "    40% {\n",
              "      border-color: transparent;\n",
              "      border-right-color: var(--fill-color);\n",
              "      border-top-color: var(--fill-color);\n",
              "    }\n",
              "    60% {\n",
              "      border-color: transparent;\n",
              "      border-right-color: var(--fill-color);\n",
              "    }\n",
              "    80% {\n",
              "      border-color: transparent;\n",
              "      border-right-color: var(--fill-color);\n",
              "      border-bottom-color: var(--fill-color);\n",
              "    }\n",
              "    90% {\n",
              "      border-color: transparent;\n",
              "      border-bottom-color: var(--fill-color);\n",
              "    }\n",
              "  }\n",
              "</style>\n",
              "\n",
              "  <script>\n",
              "    async function quickchart(key) {\n",
              "      const quickchartButtonEl =\n",
              "        document.querySelector('#' + key + ' button');\n",
              "      quickchartButtonEl.disabled = true;  // To prevent multiple clicks.\n",
              "      quickchartButtonEl.classList.add('colab-df-spinner');\n",
              "      try {\n",
              "        const charts = await google.colab.kernel.invokeFunction(\n",
              "            'suggestCharts', [key], {});\n",
              "      } catch (error) {\n",
              "        console.error('Error during call to suggestCharts:', error);\n",
              "      }\n",
              "      quickchartButtonEl.classList.remove('colab-df-spinner');\n",
              "      quickchartButtonEl.classList.add('colab-df-quickchart-complete');\n",
              "    }\n",
              "    (() => {\n",
              "      let quickchartButtonEl =\n",
              "        document.querySelector('#df-4d4fd060-f7c6-402a-8ad4-0e3f95eb3058 button');\n",
              "      quickchartButtonEl.style.display =\n",
              "        google.colab.kernel.accessAllowed ? 'block' : 'none';\n",
              "    })();\n",
              "  </script>\n",
              "</div>\n",
              "    </div>\n",
              "  </div>\n"
            ]
          },
          "metadata": {},
          "execution_count": 9
        }
      ],
      "source": [
        "#Creating path for each images and putting iit in a dataframe column\n",
        "\n",
        "#Label encoding classes\n",
        "\n",
        "path = \"/content/drive/MyDrive/Colab Notebooks/JD_P6_Classifier_automatiquement_des_biens_de_consommation/output/train/\"\n",
        "path_test = \"/content/drive/MyDrive/Colab Notebooks/JD_P6_Classifier_automatiquement_des_biens_de_consommation/output/val/\"\n",
        "\n",
        "label_no_name = \"no_name \"\n",
        "\n",
        "def photo_class(photo) :\n",
        "    for label in list_labels :\n",
        "        if label in photo[24:] :\n",
        "            return label\n",
        "    return label_no_name\n",
        "\n",
        "data_path = glob(path+'*/*.jpg')\n",
        "data_test_path = glob(path_test+'*/*.jpg')\n",
        "\n",
        "def data_fct(path) :\n",
        "    list_photos = [file for file in path]\n",
        "    print(len(list_photos))\n",
        "    data = pd.DataFrame()\n",
        "    data[\"image_path\"] = list_photos\n",
        "    data[\"label_name\"] = data[\"image_path\"].apply(lambda x : photo_class(x))\n",
        "    return data\n",
        "\n",
        "data = data_fct(data_path)\n",
        "data_test = data_fct(data_test_path)\n",
        "\n",
        "le = preprocessing.LabelEncoder()\n",
        "le.fit(data[\"label_name\"])\n",
        "data[\"label\"] = le.transform(data[\"label_name\"])\n",
        "data_test[\"label\"] = le.transform(data_test[\"label_name\"])\n",
        "# data.head(5)\n",
        "data_test.head(5)"
      ]
    },
    {
      "cell_type": "code",
      "execution_count": null,
      "metadata": {
        "id": "XRWixb9j7QiA"
      },
      "outputs": [],
      "source": [
        "#Watching for upgrades\n",
        "!pip install keras-tuner --upgrade"
      ]
    },
    {
      "cell_type": "code",
      "execution_count": 10,
      "metadata": {
        "id": "JRhctDYi9-7n"
      },
      "outputs": [],
      "source": [
        "path = \"/content/drive/MyDrive/Colab Notebooks/JD_P6_Classifier_automatiquement_des_biens_de_consommation/output/train/\"\n",
        "path_test = \"/content/drive/MyDrive/Colab Notebooks/JD_P6_Classifier_automatiquement_des_biens_de_consommation/output/val/\""
      ]
    },
    {
      "cell_type": "code",
      "execution_count": 11,
      "metadata": {
        "id": "E-lIx4SY5zC4"
      },
      "outputs": [],
      "source": [
        "batch_size = 32\n",
        "\n",
        "def dataset_fct(path, validation_split=0, data_type=None) :\n",
        "    dataset = tf.keras.utils.image_dataset_from_directory(\n",
        "                    path, labels='inferred', label_mode='categorical',\n",
        "                    class_names=None, batch_size=batch_size, image_size=(224, 224), shuffle=True, seed=42,\n",
        "                    validation_split=validation_split, subset=data_type\n",
        "                    )\n",
        "    return dataset"
      ]
    },
    {
      "cell_type": "code",
      "execution_count": 12,
      "metadata": {
        "colab": {
          "base_uri": "https://localhost:8080/"
        },
        "id": "91-eQq3a534g",
        "outputId": "32a99931-dfd5-4585-ae38-a69999d841fa"
      },
      "outputs": [
        {
          "output_type": "stream",
          "name": "stdout",
          "text": [
            "Found 840 files belonging to 7 classes.\n",
            "Using 630 files for training.\n",
            "Found 840 files belonging to 7 classes.\n",
            "Using 210 files for validation.\n",
            "Found 210 files belonging to 7 classes.\n"
          ]
        }
      ],
      "source": [
        "dataset_train = dataset_fct(path, validation_split=0.25, data_type='training')\n",
        "dataset_val = dataset_fct(path, validation_split=0.25, data_type='validation')\n",
        "dataset_test = dataset_fct(path_test, validation_split=0, data_type=None)"
      ]
    },
    {
      "cell_type": "code",
      "execution_count": 13,
      "metadata": {
        "colab": {
          "base_uri": "https://localhost:8080/"
        },
        "id": "AFIaHijG7riz",
        "outputId": "4aa539bb-b5e2-4770-a50e-8860691c7360"
      },
      "outputs": [
        {
          "output_type": "stream",
          "name": "stdout",
          "text": [
            "['Home Furnishing', 'Computers', 'Beauty and Personal Care', 'Baby Care', 'Kitchen & Dining', 'Home, Decor, & Festive Needs', 'Watches', 'standard.png']\n",
            "['Des_Graviers_Jean_Eudes_2_Image_Processing.ipynb', 'Des_Graviers_Jean_Eudes_2_Image_Processing-Copy1.ipynb', 'list_5_words_and_less.csv', 'unique_words.csv', 'list_10_words_and_less.csv', 'Des_Graviers_Jean_Eudes_1_Exploratory_Data_Analysis-Copy1.ipynb', 'Des_Graviers_Jean_Eudes_1_Exploratory_Data_Analysis.ipynb', '.ipynb_checkpoints', 'output', 'Weather_Images_CNN_Transfer_Learning_Stage_2_supervised_classification_V1.0.ipynb', 'model1_best_weights.h5', 'model3_best_weights.h5', 'standard.png', 'model4_best_weights.h5', 'model_inception_best_weights.h5', 'model_resnet50_best_weights.h5', 'untitled_project', 'model_gray_scale_best_weights.h5', 'content', 'grayscale', 'grayscale_images', 'df_cleantext_prod.csv']\n"
          ]
        }
      ],
      "source": [
        "dir = os.listdir('/content/drive/MyDrive/Colab Notebooks/JD_P6_Classifier_automatiquement_des_biens_de_consommation/output/val')\n",
        "dir2 = os.listdir('/content/drive/MyDrive/Colab Notebooks/JD_P6_Classifier_automatiquement_des_biens_de_consommation/')\n",
        "print(dir)\n",
        "print(dir2)"
      ]
    },
    {
      "cell_type": "code",
      "execution_count": null,
      "metadata": {
        "id": "xjVEri4qLCsV"
      },
      "outputs": [],
      "source": [
        "#Same thing for grayscale"
      ]
    },
    {
      "cell_type": "code",
      "execution_count": null,
      "metadata": {
        "id": "AZHa3LsSQRni"
      },
      "outputs": [],
      "source": [
        "#getting path from df\n",
        "\n",
        "df_path = '/content/drive/MyDrive/Colab Notebooks/JD_P6_Classifier_automatiquement_des_biens_de_consommation/df_cleantext_prod.csv'\n",
        "df = pd.read_csv(df_path)\n",
        "df = df.drop('Unnamed: 0', axis = 1)"
      ]
    },
    {
      "cell_type": "code",
      "execution_count": null,
      "metadata": {
        "id": "Ewrf6N1KziCP"
      },
      "outputs": [],
      "source": [
        "# Définissez le chemin du répertoire où vous souhaitez enregistrer les copies en niveaux de gris\n",
        "output_directory = \"/content/drive/MyDrive/Colab Notebooks/JD_P6_Classifier_automatiquement_des_biens_de_consommation/grayscale\"\n",
        "\n",
        "# Créez le répertoire s'il n'existe pas\n",
        "if not os.path.exists(output_directory):\n",
        "    os.makedirs(output_directory)\n",
        "\n",
        "# Fonction pour convertir une image en niveaux de gris et enregistrer la copie\n",
        "def convert_to_grayscale_and_save(input_path, output_directory):\n",
        "    try:\n",
        "        # Ouvrez l'image\n",
        "        image = Image.open(input_path)\n",
        "\n",
        "        # Convertissez l'image en niveaux de gris\n",
        "        grayscale_image = ImageOps.grayscale(image)\n",
        "\n",
        "        # Obtenez le nom du fichier sans le chemin\n",
        "        filename = os.path.basename(input_path)\n",
        "\n",
        "        # Créez le chemin de sortie pour la copie en niveaux de gris\n",
        "        output_path = os.path.join(output_directory, filename)\n",
        "\n",
        "        # Enregistrez l'image en niveaux de gris dans le nouveau répertoire\n",
        "        grayscale_image.save(output_path)\n",
        "    except Exception as e:\n",
        "        print(f\"Erreur lors de la conversion de {input_path}: {str(e)}\")\n",
        "\n",
        "# Parcourez vos images d'origine et créez des copies en niveaux de gris\n",
        "for image_path in data[\"image_path\"]:\n",
        "    convert_to_grayscale_and_save(image_path, output_directory)\n",
        "\n",
        "# Vous pouvez également faire la même chose pour les images de test\n",
        "for image_path in data_test[\"image_path\"]:\n",
        "    convert_to_grayscale_and_save(image_path, output_directory)"
      ]
    },
    {
      "cell_type": "code",
      "execution_count": null,
      "metadata": {
        "id": "t6hM3zHBLCgU"
      },
      "outputs": [],
      "source": [
        "#image_directory= r'/content/drive/MyDrive/Colab Notebooks/JD_P6_Classifier_automatiquement_des_biens_de_consommation/grayscale'\n",
        "#splitfolders.ratio(image_directory, output=\"grayscale_images\",\n",
        "#        seed=42, ratio=(0.8, 0.2), group_prefix=None, move=False) # default values"
      ]
    },
    {
      "cell_type": "code",
      "execution_count": 17,
      "metadata": {
        "id": "BrWJDgbpcqh_"
      },
      "outputs": [],
      "source": [
        "path_gray = \"/content/drive/MyDrive/Colab Notebooks/JD_P6_Classifier_automatiquement_des_biens_de_consommation/grayscale_images/train\"\n",
        "path_gray_test = \"/content/drive/MyDrive/Colab Notebooks/JD_P6_Classifier_automatiquement_des_biens_de_consommation/grayscale_images/val/\""
      ]
    },
    {
      "cell_type": "code",
      "execution_count": null,
      "metadata": {
        "id": "3DJSmnbPTMpa"
      },
      "outputs": [],
      "source": [
        "for (index, row) in df.iterrows():\n",
        "    for label in list_labels:\n",
        "        if row.product_cat == label:\n",
        "            source_path = Path(f'/content/drive/MyDrive/Colab Notebooks/JD_P6_Classifier_automatiquement_des_biens_de_consommation/grayscale/{row.image}')\n",
        "            destination_dir = Path(f'/content/drive/MyDrive/Colab Notebooks/JD_P6_Classifier_automatiquement_des_biens_de_consommation/grayscale/{label}/')\n",
        "\n",
        "            if source_path.exists():\n",
        "                if not destination_dir.exists():\n",
        "                    os.makedirs(destination_dir)\n",
        "                destination_path = destination_dir / row.image\n",
        "\n",
        "                # Print statements for debugging\n",
        "                print(f\"Moving from: {source_path}\")\n",
        "                print(f\"To: {destination_path}\")\n",
        "\n",
        "                # Rename and move the file\n",
        "                source_path.rename(destination_path)\n",
        "            else:\n",
        "                print(f\"Source file does not exist: {source_path}\")"
      ]
    },
    {
      "cell_type": "code",
      "execution_count": 14,
      "metadata": {
        "colab": {
          "base_uri": "https://localhost:8080/"
        },
        "id": "ctiFKCMJeX5w",
        "outputId": "ff13f6ac-f337-49a1-901c-94513f10d972"
      },
      "outputs": [
        {
          "output_type": "stream",
          "name": "stdout",
          "text": [
            "train  val\n"
          ]
        }
      ],
      "source": [
        "os.chdir(\"/content/drive/MyDrive/Colab Notebooks/JD_P6_Classifier_automatiquement_des_biens_de_consommation/grayscale_images/\")\n",
        "!ls"
      ]
    },
    {
      "cell_type": "code",
      "execution_count": 15,
      "metadata": {
        "id": "TpxqFMbUgz5Y"
      },
      "outputs": [],
      "source": [
        "# Get the current working directory.\n",
        "current_directory = '/content/drive/MyDrive/Colab Notebooks/JD_P6_Classifier_automatiquement_des_biens_de_consommation/grayscale_images/val'\n",
        "\n",
        "# Iterate over the files and folders in the current directory.\n",
        "for file_or_folder in os.listdir(current_directory):\n",
        "    # Check if the file or folder is hidden or named '.ipynb_checkpoints'.\n",
        "    is_hidden = file_or_folder.startswith(\".\")\n",
        "    is_ipynb_checkpoints = file_or_folder == \".ipynb_checkpoints\"\n",
        "\n",
        "    if is_hidden or is_ipynb_checkpoints:\n",
        "        path = os.path.join(current_directory, file_or_folder)\n",
        "\n",
        "        # Check if it's a directory (including subdirectories) and remove it recursively.\n",
        "        if os.path.isdir(path):\n",
        "            shutil.rmtree(path)\n",
        "        else:\n",
        "            # If it's a file, simply remove it.\n",
        "            os.remove(path)"
      ]
    },
    {
      "cell_type": "code",
      "execution_count": 18,
      "metadata": {
        "colab": {
          "base_uri": "https://localhost:8080/"
        },
        "id": "E8bDyjNlfmIk",
        "outputId": "729d8f57-5af5-4649-e572-61f9e106b3d8"
      },
      "outputs": [
        {
          "output_type": "stream",
          "name": "stdout",
          "text": [
            "['Home Furnishing', 'Baby Care', 'Watches', 'Home, Decor, & Festive Needs', 'Kitchen & Dining', 'Beauty and Personal Care', 'Computers']\n",
            "['Home Furnishing', 'Baby Care', 'Watches', 'Home, Decor, & Festive Needs', 'Kitchen & Dining', 'Beauty and Personal Care', 'Computers']\n"
          ]
        }
      ],
      "source": [
        "dir = os.listdir(path_gray)\n",
        "dir2 = os.listdir(path_gray_test)\n",
        "print(dir)\n",
        "print(dir2)"
      ]
    },
    {
      "cell_type": "code",
      "execution_count": 19,
      "metadata": {
        "colab": {
          "base_uri": "https://localhost:8080/"
        },
        "id": "kkhtZkdqdFVC",
        "outputId": "120efa54-26b7-49c2-f553-1a2cc71fde6c"
      },
      "outputs": [
        {
          "output_type": "stream",
          "name": "stdout",
          "text": [
            "Found 840 files belonging to 7 classes.\n",
            "Using 630 files for training.\n",
            "Found 840 files belonging to 7 classes.\n",
            "Using 210 files for validation.\n",
            "Found 210 files belonging to 7 classes.\n"
          ]
        }
      ],
      "source": [
        "dataset_gray_train = dataset_fct(path_gray, validation_split=0.25, data_type='training')\n",
        "dataset_gray_val = dataset_fct(path_gray, validation_split=0.25, data_type='validation')\n",
        "dataset_gray_test = dataset_fct(path_gray_test, validation_split=0, data_type=None)"
      ]
    },
    {
      "cell_type": "markdown",
      "metadata": {
        "id": "0CelNobFS9ro"
      },
      "source": [
        "# Etape 2 : Transfer learning <a class=\"anchor\" id='chapter5' ></a>\n",
        "\n",
        "3 approches sont présentées :\n",
        "\n",
        "* Une approche simple par préparation initiale de l'ensemble des images avant classification supervisée\n",
        "\n",
        "* Une approche récente proposée par Tensorflow.org par DataSet, sans data augmentation\n",
        "\n",
        "* Une approche par  DataSet, avec data augmentation intégrée au modèle : layer en début de modèle"
      ]
    },
    {
      "cell_type": "markdown",
      "metadata": {
        "id": "_HmVGl1TTDr1"
      },
      "source": [
        "##Fonctions de creation des models de classification <a class=\"anchor\" id='section_2_1' ></a>"
      ]
    },
    {
      "cell_type": "code",
      "execution_count": 14,
      "metadata": {
        "id": "8SkaTzycS1Qp"
      },
      "outputs": [],
      "source": [
        "# Sans data augmentation\n",
        "\n",
        "def create_model_fct() :\n",
        "    # Récupération modèle pré-entraîné\n",
        "    model0 = VGG16(include_top=False, weights=\"imagenet\", input_shape=(224, 224, 3))\n",
        "\n",
        "    # Layer non entraînables = on garde les poids du modèle pré-entraîné / freeze\n",
        "    for layer in model0.layers:\n",
        "        layer.trainable = False\n",
        "\n",
        "    # Récupérer la sortie de ce réseau\n",
        "    x = model0.output\n",
        "    # Compléter le modèle\n",
        "    x = GlobalAveragePooling2D()(x)\n",
        "    x = Dense(256, activation='relu')(x)\n",
        "    x = Dropout(0.5)(x)\n",
        "    predictions = Dense(7, activation='softmax')(x)\n",
        "\n",
        "    # Définir le nouveau modèle\n",
        "    model = Model(inputs=model0.input, outputs=predictions)\n",
        "    # compilation du modèle\n",
        "    model.compile(loss=\"categorical_crossentropy\", optimizer='rmsprop', metrics=[\"accuracy\"])\n",
        "\n",
        "    print(model.summary())\n",
        "\n",
        "    return model"
      ]
    },
    {
      "cell_type": "code",
      "execution_count": 15,
      "metadata": {
        "id": "YYHhlbryS1HE"
      },
      "outputs": [],
      "source": [
        "# Avec data augmentation\n",
        "def create_model_fct2(model_base=None, size=256):\n",
        "    if model_base is None:\n",
        "        model_base = VGG16(include_top=False, weights=\"imagenet\", input_shape=(224, 224, 3))\n",
        "\n",
        "    data_augmentation = Sequential([\n",
        "        RandomFlip(mode='horizontal', input_shape=(224, 224, 3)),\n",
        "        tf.keras.layers.RandomContrast(0.5),\n",
        "        tf.keras.layers.RandomCrop(height=150, width=150),\n",
        "        tf.keras.layers.RandomRotation(0.1),\n",
        "        tf.keras.layers.RandomHeight(0.5),\n",
        "        tf.keras.layers.RandomWidth(0.1),\n",
        "        tf.keras.layers.RandomZoom(0.9),\n",
        "        tf.keras.layers.RandomTranslation(height_factor=0.9,width_factor=0.9),\n",
        "        RandomBrightness(0.2),  # Random Brightness Adjustment\n",
        "        GaussianNoise(0.1) #\n",
        "        # Rescaling(1./127.5, offset=-1.0)\n",
        "        ])\n",
        "\n",
        "    # Récupération modèle pré-entraîné\n",
        "    # model_base = VGG16(include_top=False, weights=\"imagenet\", input_shape=(224, 224, 3))\n",
        "    for layer in model_base.layers:\n",
        "        layer.trainable = False\n",
        "\n",
        "    # Définition du nouveau modèle\n",
        "    model = Sequential([\n",
        "                data_augmentation,\n",
        "                Rescaling(1./127.5, offset=-1),\n",
        "                model_base,\n",
        "                GlobalAveragePooling2D(),\n",
        "                Dense(size, activation='relu'),\n",
        "                Dropout(0.5),\n",
        "                Dense(7, activation='softmax')\n",
        "                ])\n",
        "\n",
        "    # compilation du modèle\n",
        "    model.compile(loss=\"categorical_crossentropy\", optimizer='adam', metrics=[\"accuracy\"])\n",
        "\n",
        "    print(model.summary())\n",
        "\n",
        "    return model"
      ]
    },
    {
      "cell_type": "code",
      "execution_count": 16,
      "metadata": {
        "id": "vhhBRAd7Yz3l"
      },
      "outputs": [],
      "source": [
        "def create_model_fct_klayers(model_base=None, size=256, INPUT_SHAPE = (224, 224, 3)) :\n",
        "\n",
        "    if model_base == None:\n",
        "        model_base = VGG16(include_top=False, weights=\"imagenet\", input_shape=(224, 224, 3))\n",
        "\n",
        "\n",
        "    # Récupération modèle pré-entraîné\n",
        "    for layer in model_base.layers:\n",
        "      layer.trainable = False\n",
        "\n",
        "    data_augmentation = Sequential([\n",
        "        RandomFlip(mode='horizontal', input_shape=(224, 224, 3)),\n",
        "        tf.keras.layers.RandomContrast(0.5),\n",
        "        tf.keras.layers.RandomRotation(0.1),\n",
        "        tf.keras.layers.RandomZoom(0.9),\n",
        "        tf.keras.layers.RandomTranslation(height_factor=0.9,width_factor=0.9),\n",
        "        #RandomBrightness(0.2),  # Random Brightness Adjustment\n",
        "        #GaussianNoise(0.1)\n",
        "        # Rescaling(1./127.5, offset=-1.0)\n",
        "        ])\n",
        "\n",
        "    # Définition du nouveau modèle\n",
        "    model = Sequential([\n",
        "                data_augmentation,\n",
        "                Rescaling(1./127.5, offset=-1),\n",
        "                model_base,\n",
        "                GlobalAveragePooling2D(),\n",
        "                Dense(256, activation='relu'),\n",
        "                Dropout(0.5),\n",
        "                Dense(7, activation='softmax')\n",
        "                ])\n",
        "    model.build(input_shape=(None, 224, 224, 3))\n",
        "\n",
        "    # compilation du modèle\n",
        "    model.compile(loss=\"categorical_crossentropy\", optimizer='adam', metrics=[\"accuracy\"])\n",
        "    model.summary()\n",
        "\n",
        "    return model"
      ]
    },
    {
      "cell_type": "code",
      "execution_count": 27,
      "metadata": {
        "id": "gLHHt_dye9x9"
      },
      "outputs": [],
      "source": [
        "def create_model_fct_klayers_hp(hp, model_base=None, size=256, INPUT_SHAPE = (224, 224, 3)) :\n",
        "\n",
        "    if model_base is None:\n",
        "        model_base = VGG16(include_top=False, weights=\"imagenet\", input_shape=INPUT_SHAPE)\n",
        "\n",
        "    # Data augmentation\n",
        "    data_augmentation = Sequential([\n",
        "        RandomFlip(mode='horizontal', input_shape=INPUT_SHAPE),\n",
        "        tf.keras.layers.RandomContrast(0.5),\n",
        "        tf.keras.layers.RandomRotation(0.1),\n",
        "        tf.keras.layers.RandomZoom(0.9),\n",
        "        tf.keras.layers.RandomTranslation(height_factor=0.9,width_factor=0.9),\n",
        "        RandomBrightness(0.2),  # Random Brightness Adjustment\n",
        "        GaussianNoise(0.1) #\n",
        "        # Rescaling(1./127.5, offset=-1.0)\n",
        "        ])\n",
        "\n",
        "    # Récupération modèle pré-entraîné\n",
        "    for layer in model_base.layers:\n",
        "        layer.trainable = False\n",
        "\n",
        "\n",
        "    # Définition du nouveau modèle\n",
        "    model = Sequential([\n",
        "                data_augmentation,\n",
        "                Rescaling(1./127.5, offset=-1),\n",
        "                model_base,\n",
        "                GlobalAveragePooling2D()])\n",
        "\n",
        "    model.add(layers.Dense(units = hp.Int(\"units\", min_value=32, max_value = 1024, step=32), activation=hp.Choice(\"activation\",[\"relu\",\"gelu\"])))\n",
        "\n",
        "    #if hp.Boolean(\"dropout\"):\n",
        "      #model.add(layers(Dropout(rate = 0.25)))\n",
        "\n",
        "    model.add(layers.Dense(7, activation = 'softmax'))\n",
        "\n",
        "    learning_rate = hp.Float(\"lr\", min_value = 1e-4, max_value = 1e-2, sampling = \"log\")\n",
        "\n",
        "    # compilation du modèle\n",
        "    model.compile(loss=\"categorical_crossentropy\", optimizer=keras.optimizers.Adam(learning_rate=learning_rate), metrics=[\"accuracy\"])\n",
        "\n",
        "    print(model.summary())\n",
        "\n",
        "    return model"
      ]
    },
    {
      "cell_type": "code",
      "source": [
        "def create_model_fct_gray():\n",
        "    # Load the pre-trained VGG16 model\n",
        "    base_model = VGG16(include_top=False, weights=\"imagenet\")\n",
        "\n",
        "    # Layer non entraînables = on garde les poids du modèle pré-entraîné / freeze\n",
        "    for layer in base_model.layers:\n",
        "        layer.trainable = False\n",
        "\n",
        "    # Define the input layer for grayscale images\n",
        "    #input_layer = Input(shape=(224, 224, 1))\n",
        "\n",
        "    # Preprocess input using VGG16 preprocessing (mean subtraction)\n",
        "    i = tf.keras.layers.Input([None, None, 3], dtype = tf.uint8)\n",
        "    x = tf.cast(i, tf.float32)\n",
        "    x = preprocess_input(x)\n",
        "\n",
        "    # Pass the preprocessed input through the base model\n",
        "    x = base_model(x, training=False)\n",
        "\n",
        "    # Complete the model\n",
        "    x = GlobalAveragePooling2D()(x)\n",
        "    x = Dense(256, activation='relu')(x)\n",
        "    x = Dropout(0.5)(x)\n",
        "    predictions = Dense(7, activation='softmax')(x)\n",
        "\n",
        "    # Define the new model\n",
        "    model = Model(inputs=i, outputs=predictions)\n",
        "\n",
        "    # Compile the model\n",
        "    model.compile(loss=\"categorical_crossentropy\", optimizer='rmsprop', metrics=[\"accuracy\"])\n",
        "\n",
        "    print(model.summary())\n",
        "\n",
        "    return model\n"
      ],
      "metadata": {
        "id": "aQrbF37NqOpe"
      },
      "execution_count": 45,
      "outputs": []
    },
    {
      "cell_type": "code",
      "source": [
        "def create_model_fct_klayers_gray(model_base=None):\n",
        "    if model_base is None:\n",
        "        model_base = VGG16(include_top=False, weights=\"imagenet\")\n",
        "\n",
        "    # Récupération modèle pré-entraîné\n",
        "    for layer in model_base.layers:\n",
        "        layer.trainable = False\n",
        "\n",
        "    data_augmentation = [\n",
        "        RandomFlip(mode='horizontal'),\n",
        "        tf.keras.layers.RandomContrast(0.5),\n",
        "        tf.keras.layers.RandomRotation(0.1),\n",
        "        tf.keras.layers.RandomZoom(0.9),\n",
        "        tf.keras.layers.RandomTranslation(height_factor=0.9, width_factor=0.9),\n",
        "        RandomBrightness(0.2),  # Random Brightness Adjustment\n",
        "        GaussianNoise(0.1)\n",
        "        # Rescaling(1./127.5, offset=-1.0)\n",
        "    ]\n",
        "       # Custom input preprocessing layer\n",
        "    input_layer = tf.keras.layers.Input([None, None, 3], dtype=tf.uint8)\n",
        "    x = tf.cast(input_layer, tf.float32)\n",
        "    x = preprocess_input(x)  # Preprocess the input with VGG16 preprocessing\n",
        "    # Construct the model layers\n",
        "    for layer in data_augmentation:\n",
        "        x = layer(x)\n",
        "\n",
        "    x = Rescaling(1./127.5, offset=-1)(x)\n",
        "    x = model_base(x)\n",
        "    x = GlobalAveragePooling2D()(x)\n",
        "    x = Dense(256, activation='relu')(x)\n",
        "    x = Dropout(0.5)(x)\n",
        "    output_layer = Dense(7, activation='softmax')(x)\n",
        "\n",
        "    # Create the model\n",
        "    model = tf.keras.models.Model(inputs=input_layer, outputs=output_layer)\n",
        "\n",
        "    # Compile the model\n",
        "    model.compile(loss=\"categorical_crossentropy\", optimizer='adam', metrics=[\"accuracy\"])\n",
        "    model.summary()\n",
        "\n",
        "    return model\n"
      ],
      "metadata": {
        "id": "UuA8GHX4Boge"
      },
      "execution_count": 58,
      "outputs": []
    },
    {
      "cell_type": "markdown",
      "metadata": {
        "id": "qD6n6ChJSkm7"
      },
      "source": [
        "## Approche avec preparation initiale des images <a class=\"anchor\" id='section_2_2' ></a>"
      ]
    },
    {
      "cell_type": "code",
      "execution_count": null,
      "metadata": {
        "id": "_1bARNBMzqza"
      },
      "outputs": [],
      "source": [
        "def image_prep_fct(data) :\n",
        "    prepared_images = []\n",
        "    for image_num in range(len(data['image_path'])) :\n",
        "        img = (load_img(\n",
        "            data['image_path'][image_num],\n",
        "            target_size=(224, 224)))\n",
        "        display(img)\n",
        "        print(img)\n",
        "        print('-----------------------')\n",
        "        im2 = ImageOps.grayscale(img)\n",
        "        display(im2)\n",
        "        print(im2)\n",
        "        stop\n",
        "\n",
        "images_np = image_prep_fct(data)"
      ]
    },
    {
      "cell_type": "code",
      "execution_count": null,
      "metadata": {
        "colab": {
          "base_uri": "https://localhost:8080/"
        },
        "id": "ln696IXUSsuu",
        "outputId": "9bcc024e-cb2c-4f15-a845-90a0f8a728b7"
      },
      "outputs": [
        {
          "data": {
            "text/plain": [
              "array([[0., 0., 0., ..., 0., 0., 0.],\n",
              "       [0., 0., 0., ..., 0., 0., 0.],\n",
              "       [0., 0., 0., ..., 0., 0., 0.],\n",
              "       ...,\n",
              "       [1., 0., 0., ..., 0., 0., 0.],\n",
              "       [1., 0., 0., ..., 0., 0., 0.],\n",
              "       [1., 0., 0., ..., 0., 0., 0.]], dtype=float32)"
            ]
          },
          "execution_count": 22,
          "metadata": {},
          "output_type": "execute_result"
        }
      ],
      "source": [
        "X = images_np\n",
        "y = to_categorical(data['label'])\n",
        "\n",
        "X_test = images_np_test\n",
        "y_test = to_categorical(data_test['label'])\n",
        "\n",
        "y"
      ]
    },
    {
      "cell_type": "code",
      "execution_count": null,
      "metadata": {
        "colab": {
          "base_uri": "https://localhost:8080/"
        },
        "id": "x0lgTCnnSsnb",
        "outputId": "536192ee-92e0-43ab-d824-1ad4c38d4466"
      },
      "outputs": [
        {
          "data": {
            "text/plain": [
              "(630, 224, 224, 3)"
            ]
          },
          "execution_count": 23,
          "metadata": {},
          "output_type": "execute_result"
        }
      ],
      "source": [
        "X_train, X_val, y_train, y_val = train_test_split(X, y, stratify=y, test_size=0.25, random_state=42)\n",
        "X_train.shape"
      ]
    },
    {
      "cell_type": "code",
      "execution_count": null,
      "metadata": {
        "id": "adP7Myd6Sse9"
      },
      "outputs": [],
      "source": [
        "# Création du modèle\n",
        "with tf.device('/gpu:0'):\n",
        "    model1 = create_model_fct()\n",
        "\n",
        "# Création du callback\n",
        "model1_save_path1 = \"./model1_best_weights.h5\"\n",
        "checkpoint = ModelCheckpoint(model1_save_path1, monitor='val_loss', verbose=1, save_best_only=True, mode='min')\n",
        "es = EarlyStopping(monitor='val_loss', mode='min', verbose=1, patience=5)\n",
        "callbacks_list = [checkpoint, es]"
      ]
    },
    {
      "cell_type": "code",
      "execution_count": null,
      "metadata": {
        "colab": {
          "background_save": true
        },
        "id": "0Ckq4qQiSsXN"
      },
      "outputs": [],
      "source": [
        "# Entraîner sur les données d'entraînement (X_train, y_train)\n",
        "with tf.device('/gpu:0'):\n",
        "    history1 = model1.fit(X_train, y_train, epochs=50, batch_size=64,\n",
        "                       callbacks=callbacks_list, validation_data=(X_val, y_val), verbose=1)\n"
      ]
    },
    {
      "cell_type": "markdown",
      "metadata": {
        "id": "qf-cds4qaFqM"
      },
      "source": [
        "## Approche nouvelle par Dataset sans data augmentation <a class=\"anchor\" id='section_2_3' ></a>\n",
        "\n",
        "CF https://www.tensorflow.org/tutorials/load_data/images"
      ]
    },
    {
      "cell_type": "code",
      "execution_count": null,
      "metadata": {
        "id": "TXmR2x81BmXj"
      },
      "outputs": [],
      "source": [
        "# Création du modèle\n",
        "with tf.device('/gpu:0'):\n",
        "    model3 = create_model_fct()\n",
        "\n",
        "# Création du callback\n",
        "model3_save_path = \"/content/drive/MyDrive/Colab Notebooks/JD_P6_Classifier_automatiquement_des_biens_de_consommation//content/drive/MyDrive/Colab Notebooks/JD_P6_Classifier_automatiquement_des_biens_de_consommation/\"\n",
        "checkpoint = ModelCheckpoint(model3_save_path, monitor='val_loss', verbose=1, save_best_only=True, mode='min')\n",
        "es = EarlyStopping(monitor='val_loss', mode='min', verbose=1, patience=5)\n",
        "callbacks_list = [checkpoint, es]"
      ]
    },
    {
      "cell_type": "code",
      "execution_count": null,
      "metadata": {
        "colab": {
          "background_save": true,
          "base_uri": "https://localhost:8080/"
        },
        "id": "NQO0fD2KBmO_",
        "outputId": "4341bacb-9a79-43df-80c0-6d58a2f18348"
      },
      "outputs": [
        {
          "name": "stdout",
          "output_type": "stream",
          "text": [
            "Epoch 1/50\n",
            "20/20 [==============================] - ETA: 0s - loss: 7.7895 - accuracy: 0.4095 \n",
            "Epoch 1: val_loss improved from inf to 1.64768, saving model to ./model3_best_weights.h5\n",
            "20/20 [==============================] - 486s 24s/step - loss: 7.7895 - accuracy: 0.4095 - val_loss: 1.6477 - val_accuracy: 0.7381\n",
            "Epoch 2/50\n",
            "20/20 [==============================] - ETA: 0s - loss: 2.4917 - accuracy: 0.6429 \n",
            "Epoch 2: val_loss improved from 1.64768 to 1.31558, saving model to ./model3_best_weights.h5\n",
            "20/20 [==============================] - 485s 24s/step - loss: 2.4917 - accuracy: 0.6429 - val_loss: 1.3156 - val_accuracy: 0.7286\n",
            "Epoch 3/50\n",
            "20/20 [==============================] - ETA: 0s - loss: 1.5102 - accuracy: 0.7302 \n",
            "Epoch 3: val_loss improved from 1.31558 to 1.07623, saving model to ./model3_best_weights.h5\n",
            "20/20 [==============================] - 485s 24s/step - loss: 1.5102 - accuracy: 0.7302 - val_loss: 1.0762 - val_accuracy: 0.7952\n",
            "Epoch 4/50\n",
            "20/20 [==============================] - ETA: 0s - loss: 0.9950 - accuracy: 0.7841 \n",
            "Epoch 4: val_loss improved from 1.07623 to 1.02785, saving model to ./model3_best_weights.h5\n",
            "20/20 [==============================] - 484s 24s/step - loss: 0.9950 - accuracy: 0.7841 - val_loss: 1.0279 - val_accuracy: 0.7714\n",
            "Epoch 5/50\n",
            "20/20 [==============================] - ETA: 0s - loss: 0.7045 - accuracy: 0.8175 \n",
            "Epoch 5: val_loss improved from 1.02785 to 0.96679, saving model to ./model3_best_weights.h5\n",
            "20/20 [==============================] - 459s 23s/step - loss: 0.7045 - accuracy: 0.8175 - val_loss: 0.9668 - val_accuracy: 0.8143\n",
            "Epoch 6/50\n",
            "20/20 [==============================] - ETA: 0s - loss: 0.5422 - accuracy: 0.8444 \n",
            "Epoch 6: val_loss did not improve from 0.96679\n",
            "20/20 [==============================] - 454s 23s/step - loss: 0.5422 - accuracy: 0.8444 - val_loss: 0.9788 - val_accuracy: 0.7952\n",
            "Epoch 7/50\n",
            "20/20 [==============================] - ETA: 0s - loss: 0.3147 - accuracy: 0.9016 \n",
            "Epoch 7: val_loss did not improve from 0.96679\n",
            "20/20 [==============================] - 456s 23s/step - loss: 0.3147 - accuracy: 0.9016 - val_loss: 1.1085 - val_accuracy: 0.7857\n",
            "Epoch 8/50\n",
            "20/20 [==============================] - ETA: 0s - loss: 0.3622 - accuracy: 0.9000 \n",
            "Epoch 8: val_loss improved from 0.96679 to 0.94303, saving model to ./model3_best_weights.h5\n",
            "20/20 [==============================] - 484s 24s/step - loss: 0.3622 - accuracy: 0.9000 - val_loss: 0.9430 - val_accuracy: 0.7810\n",
            "Epoch 9/50\n",
            "20/20 [==============================] - ETA: 0s - loss: 0.2670 - accuracy: 0.9190 \n",
            "Epoch 9: val_loss did not improve from 0.94303\n",
            "20/20 [==============================] - 455s 23s/step - loss: 0.2670 - accuracy: 0.9190 - val_loss: 0.9754 - val_accuracy: 0.8429\n",
            "Epoch 10/50\n",
            "20/20 [==============================] - ETA: 0s - loss: 0.2505 - accuracy: 0.9143 \n",
            "Epoch 10: val_loss did not improve from 0.94303\n",
            "20/20 [==============================] - 483s 24s/step - loss: 0.2505 - accuracy: 0.9143 - val_loss: 1.0204 - val_accuracy: 0.8381\n",
            "Epoch 11/50\n",
            "20/20 [==============================] - ETA: 0s - loss: 0.2509 - accuracy: 0.9429 \n",
            "Epoch 11: val_loss did not improve from 0.94303\n",
            "20/20 [==============================] - 456s 23s/step - loss: 0.2509 - accuracy: 0.9429 - val_loss: 0.9964 - val_accuracy: 0.8190\n",
            "Epoch 12/50\n",
            "20/20 [==============================] - ETA: 0s - loss: 0.1355 - accuracy: 0.9635 \n",
            "Epoch 12: val_loss did not improve from 0.94303\n",
            "20/20 [==============================] - 483s 24s/step - loss: 0.1355 - accuracy: 0.9635 - val_loss: 1.0467 - val_accuracy: 0.8095\n",
            "Epoch 13/50\n",
            "20/20 [==============================] - ETA: 0s - loss: 0.1596 - accuracy: 0.9524 \n",
            "Epoch 13: val_loss did not improve from 0.94303\n",
            "20/20 [==============================] - 483s 24s/step - loss: 0.1596 - accuracy: 0.9524 - val_loss: 1.0453 - val_accuracy: 0.8143\n",
            "Epoch 13: early stopping\n"
          ]
        }
      ],
      "source": [
        "with tf.device('/gpu:0'):\n",
        "    history3 = model3.fit(dataset_train,\n",
        "                    validation_data=dataset_val,\n",
        "                    batch_size=batch_size, epochs=50, callbacks=callbacks_list, verbose=1)"
      ]
    },
    {
      "cell_type": "code",
      "execution_count": null,
      "metadata": {
        "colab": {
          "background_save": true,
          "base_uri": "https://localhost:8080/",
          "height": 246
        },
        "id": "yabmQdwYBmG6",
        "outputId": "b30329cc-6a2c-44ef-a119-79495e1e6f67"
      },
      "outputs": [
        {
          "name": "stdout",
          "output_type": "stream",
          "text": [
            "20/20 [==============================] - 341s 17s/step - loss: 0.0045 - accuracy: 1.0000\n",
            "Training Accuracy   : 1.0000\n",
            "\n",
            "7/7 [==============================] - 114s 16s/step - loss: 1.0453 - accuracy: 0.8143\n",
            "Validation Accuracy :  0.8143\n"
          ]
        }
      ],
      "source": [
        "loss, accuracy = model3.evaluate(dataset_train, verbose=True)\n",
        "print(\"Training Accuracy   : {:.4f}\".format(accuracy))\n",
        "print()\n",
        "loss, accuracy = model3.evaluate(dataset_val, verbose=True)\n",
        "print(\"Validation Accuracy :  {:.4f}\".format(accuracy))"
      ]
    },
    {
      "cell_type": "code",
      "execution_count": null,
      "metadata": {
        "colab": {
          "background_save": true
        },
        "id": "6HTpQCY1BltB"
      },
      "outputs": [],
      "source": [
        "show_history(history3)\n",
        "plot_history(history3, path=\"standard.png\")\n",
        "plt.close()"
      ]
    },
    {
      "cell_type": "markdown",
      "metadata": {
        "id": "ZmaphpsG73C4"
      },
      "source": [
        "## Approche ImageDatagenerator avec data augmentation <a class=\"anchor\" id='section_2_4' ></a>\n",
        "\n",
        "CF https://www.tensorflow.org/api_docs/python/tf/keras/preprocessing/image/ImageDataGenerator#flow (noté désormais comme \"deprecated\", incite à utiiser l'approche suivante)"
      ]
    },
    {
      "cell_type": "code",
      "execution_count": null,
      "metadata": {
        "id": "dF8Psae37y27"
      },
      "outputs": [],
      "source": [
        "from tensorflow.keras.preprocessing.image import ImageDataGenerator"
      ]
    },
    {
      "cell_type": "code",
      "execution_count": null,
      "metadata": {
        "id": "ZfPhoxuY7yvC"
      },
      "outputs": [],
      "source": [
        "# Pour mélanger les images, classées initalement par classe\n",
        "data = data.sample(frac=1, random_state=42).reset_index(drop=True)"
      ]
    },
    {
      "cell_type": "code",
      "execution_count": null,
      "metadata": {
        "id": "KkgyT5KA9ONt"
      },
      "outputs": [],
      "source": [
        "batch_size = 32\n",
        "\n",
        "def data_flow_fct(data, datagen, data_type=None) :\n",
        "    data_flow = datagen.flow_from_dataframe(data, directory='',\n",
        "                                x_col='image_path', y_col='label_name',\n",
        "                                weight_col=None, target_size=(256, 256),\n",
        "                                classes=None, class_mode='categorical',\n",
        "                                batch_size=batch_size, shuffle=True, seed=42,\n",
        "                                subset=data_type\n",
        "                                )\n",
        "    return data_flow"
      ]
    },
    {
      "cell_type": "code",
      "execution_count": null,
      "metadata": {
        "colab": {
          "base_uri": "https://localhost:8080/"
        },
        "id": "nbfsqMR39OGX",
        "outputId": "f379cb42-2004-43bf-d843-3b48a409d2dc"
      },
      "outputs": [
        {
          "name": "stdout",
          "output_type": "stream",
          "text": [
            "Found 630 validated image filenames belonging to 7 classes.\n",
            "Found 210 validated image filenames belonging to 7 classes.\n",
            "Found 210 validated image filenames belonging to 7 classes.\n"
          ]
        }
      ],
      "source": [
        "datagen_train = ImageDataGenerator(\n",
        "#    featurewise_center=True,\n",
        "#    featurewise_std_normalization=True,\n",
        "    rotation_range=20,\n",
        "    width_shift_range=0.2,\n",
        "    height_shift_range=0.2,\n",
        "    horizontal_flip=True,\n",
        "    validation_split=0.25,\n",
        "    preprocessing_function=preprocess_input)\n",
        "\n",
        "train_flow = data_flow_fct(data, datagen_train, data_type='training')\n",
        "val_flow = data_flow_fct(data, datagen_train, data_type='validation')\n",
        "\n",
        "datagen_test = ImageDataGenerator(\n",
        "    validation_split=0,\n",
        "    preprocessing_function=preprocess_input)\n",
        "\n",
        "test_flow = data_flow_fct(data_test, datagen_test, data_type=None)\n",
        "\n",
        "# compute quantities required for featurewise normalization\n",
        "# (std, mean, and principal components if ZCA whitening is applied)\n",
        "# datagen.fit(X_train)\n",
        "# fits the model on batches with real-time data augmentation:"
      ]
    },
    {
      "cell_type": "code",
      "execution_count": null,
      "metadata": {
        "colab": {
          "base_uri": "https://localhost:8080/"
        },
        "id": "GPCh7yg49N-P",
        "outputId": "81ab892e-f29d-41f3-f628-e7c610032fc7"
      },
      "outputs": [
        {
          "name": "stdout",
          "output_type": "stream",
          "text": [
            "Downloading data from https://storage.googleapis.com/tensorflow/keras-applications/vgg16/vgg16_weights_tf_dim_ordering_tf_kernels_notop.h5\n",
            "58889256/58889256 [==============================] - 0s 0us/step\n",
            "Model: \"model\"\n",
            "_________________________________________________________________\n",
            " Layer (type)                Output Shape              Param #   \n",
            "=================================================================\n",
            " input_1 (InputLayer)        [(None, 224, 224, 3)]     0         \n",
            "                                                                 \n",
            " block1_conv1 (Conv2D)       (None, 224, 224, 64)      1792      \n",
            "                                                                 \n",
            " block1_conv2 (Conv2D)       (None, 224, 224, 64)      36928     \n",
            "                                                                 \n",
            " block1_pool (MaxPooling2D)  (None, 112, 112, 64)      0         \n",
            "                                                                 \n",
            " block2_conv1 (Conv2D)       (None, 112, 112, 128)     73856     \n",
            "                                                                 \n",
            " block2_conv2 (Conv2D)       (None, 112, 112, 128)     147584    \n",
            "                                                                 \n",
            " block2_pool (MaxPooling2D)  (None, 56, 56, 128)       0         \n",
            "                                                                 \n",
            " block3_conv1 (Conv2D)       (None, 56, 56, 256)       295168    \n",
            "                                                                 \n",
            " block3_conv2 (Conv2D)       (None, 56, 56, 256)       590080    \n",
            "                                                                 \n",
            " block3_conv3 (Conv2D)       (None, 56, 56, 256)       590080    \n",
            "                                                                 \n",
            " block3_pool (MaxPooling2D)  (None, 28, 28, 256)       0         \n",
            "                                                                 \n",
            " block4_conv1 (Conv2D)       (None, 28, 28, 512)       1180160   \n",
            "                                                                 \n",
            " block4_conv2 (Conv2D)       (None, 28, 28, 512)       2359808   \n",
            "                                                                 \n",
            " block4_conv3 (Conv2D)       (None, 28, 28, 512)       2359808   \n",
            "                                                                 \n",
            " block4_pool (MaxPooling2D)  (None, 14, 14, 512)       0         \n",
            "                                                                 \n",
            " block5_conv1 (Conv2D)       (None, 14, 14, 512)       2359808   \n",
            "                                                                 \n",
            " block5_conv2 (Conv2D)       (None, 14, 14, 512)       2359808   \n",
            "                                                                 \n",
            " block5_conv3 (Conv2D)       (None, 14, 14, 512)       2359808   \n",
            "                                                                 \n",
            " block5_pool (MaxPooling2D)  (None, 7, 7, 512)         0         \n",
            "                                                                 \n",
            " global_average_pooling2d (  (None, 512)               0         \n",
            " GlobalAveragePooling2D)                                         \n",
            "                                                                 \n",
            " dense (Dense)               (None, 256)               131328    \n",
            "                                                                 \n",
            " dropout (Dropout)           (None, 256)               0         \n",
            "                                                                 \n",
            " dense_1 (Dense)             (None, 7)                 1799      \n",
            "                                                                 \n",
            "=================================================================\n",
            "Total params: 14847815 (56.64 MB)\n",
            "Trainable params: 133127 (520.03 KB)\n",
            "Non-trainable params: 14714688 (56.13 MB)\n",
            "_________________________________________________________________\n",
            "None\n"
          ]
        }
      ],
      "source": [
        "# Création du modèle\n",
        "with tf.device('/gpu:0'):\n",
        "    VGG_IDG = create_model_fct()\n",
        "\n",
        "# Création du callback\n",
        "VGG_IDG_save_path = \"./VGG_IDG_best_weights.h5\"\n",
        "checkpoint = ModelCheckpoint(VGG_IDG_save_path, monitor='val_loss', verbose=1, save_best_only=True, mode='min')\n",
        "es = EarlyStopping(monitor='val_loss', mode='min', verbose=1, patience=5)\n",
        "callbacks_list = [checkpoint, es]"
      ]
    },
    {
      "cell_type": "code",
      "execution_count": null,
      "metadata": {
        "colab": {
          "background_save": true
        },
        "id": "HcrAddoj7ylF"
      },
      "outputs": [],
      "source": [
        "with tf.device('/gpu:0'):\n",
        "    history_VGG_IDG = VGG_IDG.fit(train_flow,\n",
        "                    validation_data=val_flow,\n",
        "                    batch_size=batch_size, epochs=50, callbacks=callbacks_list, verbose=1)"
      ]
    },
    {
      "cell_type": "markdown",
      "metadata": {
        "id": "tQFNjjFzV3by"
      },
      "source": [
        "## Approche nouvelle par Dataset avec data augmentation intégrée au modèle <a class=\"anchor\" id='section_2_5' ></a>\n",
        "\n",
        "CF https://www.tensorflow.org/tutorials/images/data_augmentation\n",
        "\n",
        "Nous allons effectuer la data augmentation de plusieurs manières:\n",
        "\n",
        "1. Avec Random Flip, Random Contrast, Random rotation, Random Zoom, Random Translation\n",
        "\n",
        "2. En ajoutant Random Brightness, Gaussian Noise\n",
        "\n",
        "3. En changeant nos images en Gray Scale\n",
        "\n",
        "Nous éssaierons 3 architectures de transfer learning entrainées sur Imagenet : VGG16, Inception et Resnet.\n",
        "\n",
        "Après quoi nous chercherons à optimiser les hyperparamètres des architectures avec une Recherche aléatoire et une optimisation Bayésienne.\n"
      ]
    },
    {
      "cell_type": "markdown",
      "source": [
        "#VGG 16 <a class=\"anchor\" id='section_2_6' ></a>"
      ],
      "metadata": {
        "id": "W2BLQbigIy3S"
      }
    },
    {
      "cell_type": "code",
      "execution_count": null,
      "metadata": {
        "colab": {
          "base_uri": "https://localhost:8080/"
        },
        "id": "iulFGWcH57rW",
        "outputId": "d5b7835f-f7cf-4b56-e20b-5f31c366e174"
      },
      "outputs": [
        {
          "name": "stdout",
          "output_type": "stream",
          "text": [
            "Model: \"sequential_113\"\n",
            "_________________________________________________________________\n",
            " Layer (type)                Output Shape              Param #   \n",
            "=================================================================\n",
            " sequential_112 (Sequential  (None, 224, 224, 3)       0         \n",
            " )                                                               \n",
            "                                                                 \n",
            " rescaling_52 (Rescaling)    (None, 224, 224, 3)       0         \n",
            "                                                                 \n",
            " vgg16 (Functional)          (None, 7, 7, 512)         14714688  \n",
            "                                                                 \n",
            " global_average_pooling2d_5  (None, 512)               0         \n",
            " 8 (GlobalAveragePooling2D)                                      \n",
            "                                                                 \n",
            " dense_114 (Dense)           (None, 256)               131328    \n",
            "                                                                 \n",
            " dropout_57 (Dropout)        (None, 256)               0         \n",
            "                                                                 \n",
            " dense_115 (Dense)           (None, 7)                 1799      \n",
            "                                                                 \n",
            "=================================================================\n",
            "Total params: 14847815 (56.64 MB)\n",
            "Trainable params: 133127 (520.03 KB)\n",
            "Non-trainable params: 14714688 (56.13 MB)\n",
            "_________________________________________________________________\n",
            "None\n"
          ]
        }
      ],
      "source": [
        "# Création du modèle\n",
        "with tf.device('/gpu:0'):\n",
        "    model_VGG_DA = create_model_fct_klayers()\n",
        "\n",
        "# Création du callback\n",
        "model_VGG_DA_save_path = \"./model_VGG_DA_best_weights.h5\"\n",
        "checkpoint = ModelCheckpoint(model_VGG_DA_save_path, monitor='val_loss', verbose=1, save_best_only=True, mode='min')\n",
        "es = EarlyStopping(monitor='val_loss', mode='min', verbose=1, patience=3)\n",
        "callbacks_list = [checkpoint, es]"
      ]
    },
    {
      "cell_type": "code",
      "execution_count": null,
      "metadata": {
        "colab": {
          "base_uri": "https://localhost:8080/"
        },
        "id": "NkemzYAI57mh",
        "outputId": "cd05f0dc-ace2-44de-b08b-054efa0f4774"
      },
      "outputs": [
        {
          "name": "stdout",
          "output_type": "stream",
          "text": [
            "Epoch 1/50\n",
            "20/20 [==============================] - ETA: 0s - loss: 1.7748 - accuracy: 0.3413 \n",
            "Epoch 1: val_loss improved from inf to 1.35141, saving model to ./model_VGG_DA_best_weights.h5\n"
          ]
        },
        {
          "name": "stderr",
          "output_type": "stream",
          "text": [
            "/usr/local/lib/python3.10/dist-packages/keras/src/engine/training.py:3000: UserWarning: You are saving your model as an HDF5 file via `model.save()`. This file format is considered legacy. We recommend using instead the native Keras format, e.g. `model.save('my_model.keras')`.\n",
            "  saving_api.save_model(\n"
          ]
        },
        {
          "name": "stdout",
          "output_type": "stream",
          "text": [
            "20/20 [==============================] - 474s 24s/step - loss: 1.7748 - accuracy: 0.3413 - val_loss: 1.3514 - val_accuracy: 0.7000\n",
            "Epoch 2/50\n",
            "20/20 [==============================] - ETA: 0s - loss: 1.3210 - accuracy: 0.5778 \n",
            "Epoch 2: val_loss improved from 1.35141 to 0.99371, saving model to ./model_VGG_DA_best_weights.h5\n",
            "20/20 [==============================] - 492s 25s/step - loss: 1.3210 - accuracy: 0.5778 - val_loss: 0.9937 - val_accuracy: 0.7667\n",
            "Epoch 3/50\n",
            "20/20 [==============================] - ETA: 0s - loss: 1.0190 - accuracy: 0.6937 \n",
            "Epoch 3: val_loss improved from 0.99371 to 0.85980, saving model to ./model_VGG_DA_best_weights.h5\n",
            "20/20 [==============================] - 492s 25s/step - loss: 1.0190 - accuracy: 0.6937 - val_loss: 0.8598 - val_accuracy: 0.7810\n",
            "Epoch 4/50\n",
            "20/20 [==============================] - ETA: 0s - loss: 0.9054 - accuracy: 0.6984 \n",
            "Epoch 4: val_loss improved from 0.85980 to 0.74911, saving model to ./model_VGG_DA_best_weights.h5\n",
            "20/20 [==============================] - 462s 23s/step - loss: 0.9054 - accuracy: 0.6984 - val_loss: 0.7491 - val_accuracy: 0.7810\n",
            "Epoch 5/50\n",
            "20/20 [==============================] - ETA: 0s - loss: 0.7876 - accuracy: 0.7524 \n",
            "Epoch 5: val_loss improved from 0.74911 to 0.69937, saving model to ./model_VGG_DA_best_weights.h5\n",
            "20/20 [==============================] - 483s 24s/step - loss: 0.7876 - accuracy: 0.7524 - val_loss: 0.6994 - val_accuracy: 0.8048\n",
            "Epoch 6/50\n",
            "20/20 [==============================] - ETA: 0s - loss: 0.7599 - accuracy: 0.7794 \n",
            "Epoch 6: val_loss improved from 0.69937 to 0.66968, saving model to ./model_VGG_DA_best_weights.h5\n",
            "20/20 [==============================] - 489s 24s/step - loss: 0.7599 - accuracy: 0.7794 - val_loss: 0.6697 - val_accuracy: 0.8143\n",
            "Epoch 7/50\n",
            "20/20 [==============================] - ETA: 0s - loss: 0.6922 - accuracy: 0.7794 \n",
            "Epoch 7: val_loss improved from 0.66968 to 0.62929, saving model to ./model_VGG_DA_best_weights.h5\n",
            "20/20 [==============================] - 487s 25s/step - loss: 0.6922 - accuracy: 0.7794 - val_loss: 0.6293 - val_accuracy: 0.8238\n",
            "Epoch 8/50\n",
            "20/20 [==============================] - ETA: 0s - loss: 0.6413 - accuracy: 0.7984 \n",
            "Epoch 8: val_loss improved from 0.62929 to 0.62777, saving model to ./model_VGG_DA_best_weights.h5\n",
            "20/20 [==============================] - 483s 24s/step - loss: 0.6413 - accuracy: 0.7984 - val_loss: 0.6278 - val_accuracy: 0.8143\n",
            "Epoch 9/50\n",
            "20/20 [==============================] - ETA: 0s - loss: 0.6285 - accuracy: 0.8095 \n",
            "Epoch 9: val_loss improved from 0.62777 to 0.60396, saving model to ./model_VGG_DA_best_weights.h5\n",
            "20/20 [==============================] - 455s 23s/step - loss: 0.6285 - accuracy: 0.8095 - val_loss: 0.6040 - val_accuracy: 0.8048\n",
            "Epoch 10/50\n",
            "20/20 [==============================] - ETA: 0s - loss: 0.5690 - accuracy: 0.8238 \n",
            "Epoch 10: val_loss improved from 0.60396 to 0.59479, saving model to ./model_VGG_DA_best_weights.h5\n",
            "20/20 [==============================] - 482s 24s/step - loss: 0.5690 - accuracy: 0.8238 - val_loss: 0.5948 - val_accuracy: 0.8143\n",
            "Epoch 11/50\n",
            "20/20 [==============================] - ETA: 0s - loss: 0.5586 - accuracy: 0.8175 \n",
            "Epoch 11: val_loss improved from 0.59479 to 0.57648, saving model to ./model_VGG_DA_best_weights.h5\n",
            "20/20 [==============================] - 483s 24s/step - loss: 0.5586 - accuracy: 0.8175 - val_loss: 0.5765 - val_accuracy: 0.8238\n",
            "Epoch 12/50\n",
            "20/20 [==============================] - ETA: 0s - loss: 0.5371 - accuracy: 0.8286 \n",
            "Epoch 12: val_loss improved from 0.57648 to 0.57004, saving model to ./model_VGG_DA_best_weights.h5\n",
            "20/20 [==============================] - 483s 24s/step - loss: 0.5371 - accuracy: 0.8286 - val_loss: 0.5700 - val_accuracy: 0.8381\n",
            "Epoch 13/50\n",
            "20/20 [==============================] - ETA: 0s - loss: 0.5167 - accuracy: 0.8333 \n",
            "Epoch 13: val_loss improved from 0.57004 to 0.55768, saving model to ./model_VGG_DA_best_weights.h5\n",
            "20/20 [==============================] - 481s 24s/step - loss: 0.5167 - accuracy: 0.8333 - val_loss: 0.5577 - val_accuracy: 0.8381\n",
            "Epoch 14/50\n",
            "20/20 [==============================] - ETA: 0s - loss: 0.4805 - accuracy: 0.8333 \n",
            "Epoch 14: val_loss improved from 0.55768 to 0.54677, saving model to ./model_VGG_DA_best_weights.h5\n",
            "20/20 [==============================] - 480s 24s/step - loss: 0.4805 - accuracy: 0.8333 - val_loss: 0.5468 - val_accuracy: 0.8381\n",
            "Epoch 15/50\n",
            "20/20 [==============================] - ETA: 0s - loss: 0.4415 - accuracy: 0.8825 \n",
            "Epoch 15: val_loss improved from 0.54677 to 0.53623, saving model to ./model_VGG_DA_best_weights.h5\n",
            "20/20 [==============================] - 452s 23s/step - loss: 0.4415 - accuracy: 0.8825 - val_loss: 0.5362 - val_accuracy: 0.8429\n",
            "Epoch 16/50\n",
            "20/20 [==============================] - ETA: 0s - loss: 0.4314 - accuracy: 0.8683 \n",
            "Epoch 16: val_loss improved from 0.53623 to 0.53287, saving model to ./model_VGG_DA_best_weights.h5\n",
            "20/20 [==============================] - 480s 24s/step - loss: 0.4314 - accuracy: 0.8683 - val_loss: 0.5329 - val_accuracy: 0.8429\n",
            "Epoch 17/50\n",
            "20/20 [==============================] - ETA: 0s - loss: 0.4306 - accuracy: 0.8857 \n",
            "Epoch 17: val_loss did not improve from 0.53287\n",
            "20/20 [==============================] - 480s 24s/step - loss: 0.4306 - accuracy: 0.8857 - val_loss: 0.5384 - val_accuracy: 0.8333\n",
            "Epoch 18/50\n",
            "20/20 [==============================] - ETA: 0s - loss: 0.3901 - accuracy: 0.9000 \n",
            "Epoch 18: val_loss did not improve from 0.53287\n",
            "20/20 [==============================] - 450s 23s/step - loss: 0.3901 - accuracy: 0.9000 - val_loss: 0.5339 - val_accuracy: 0.8429\n",
            "Epoch 19/50\n",
            "20/20 [==============================] - ETA: 0s - loss: 0.3705 - accuracy: 0.8905 \n",
            "Epoch 19: val_loss did not improve from 0.53287\n",
            "20/20 [==============================] - 449s 23s/step - loss: 0.3705 - accuracy: 0.8905 - val_loss: 0.5345 - val_accuracy: 0.8381\n",
            "Epoch 19: early stopping\n"
          ]
        }
      ],
      "source": [
        "with tf.device('/gpu:0'):\n",
        "    history_VGG_DA = model_VGG_DA.fit(dataset_train,\n",
        "                    validation_data=dataset_val,\n",
        "                    batch_size=batch_size, epochs=50, callbacks=callbacks_list, verbose=1)"
      ]
    },
    {
      "cell_type": "code",
      "execution_count": null,
      "metadata": {
        "colab": {
          "base_uri": "https://localhost:8080/"
        },
        "id": "jy5TMOsJ57Sz",
        "outputId": "d6ee26ce-65d3-4728-d7bd-1816a4dce6d1"
      },
      "outputs": [
        {
          "name": "stdout",
          "output_type": "stream",
          "text": [
            "20/20 [==============================] - 401s 19s/step - loss: 0.3023 - accuracy: 0.9079\n",
            "Training Accuracy   : 0.9079\n",
            "\n",
            "7/7 [==============================] - 115s 16s/step - loss: 0.5345 - accuracy: 0.8381\n",
            "Validation Accuracy :  0.8381\n"
          ]
        }
      ],
      "source": [
        "loss, accuracy = model_VGG_DA.evaluate(dataset_train, verbose=True)\n",
        "print(\"Training Accuracy   : {:.4f}\".format(accuracy))\n",
        "print()\n",
        "loss, accuracy = model_VGG_DA.evaluate(dataset_val, verbose=True)\n",
        "print(\"Validation Accuracy :  {:.4f}\".format(accuracy))"
      ]
    },
    {
      "cell_type": "code",
      "execution_count": null,
      "metadata": {
        "colab": {
          "base_uri": "https://localhost:8080/",
          "height": 528
        },
        "id": "irhLpm5vL8aw",
        "outputId": "878ee779-5225-4d05-d10f-f1ff6169f175"
      },
      "outputs": [
        {
          "data": {
            "image/png": "[encoded data removed]",
            "text/plain": [
              "<Figure size 1000x500 with 2 Axes>"
            ]
          },
          "metadata": {},
          "output_type": "display_data"
        }
      ],
      "source": [
        "show_history(history_VGG_DA)\n",
        "plot_history(history_VGG_DA, path=\"standard.png\")\n",
        "plt.close()"
      ]
    },
    {
      "cell_type": "code",
      "source": [
        "# Création du modèle avec toutes les couches de data augmentation\n",
        "\n",
        "with tf.device('/gpu:0'):\n",
        "    model_VGG_DA_full = create_model_fct_klayers()\n",
        "\n",
        "# Création du callback\n",
        "model_VGG_DA_full_save_path = \"./model_VGG_DA_full_best_weights.h5\"\n",
        "checkpoint = ModelCheckpoint(model_VGG_DA_full_save_path, monitor='val_loss', verbose=1, save_best_only=True, mode='min')\n",
        "es = EarlyStopping(monitor='val_loss', mode='min', verbose=1, patience=3)\n",
        "callbacks_list = [checkpoint, es]"
      ],
      "metadata": {
        "colab": {
          "base_uri": "https://localhost:8080/"
        },
        "id": "6ncwp5UDrJ1F",
        "outputId": "35df1935-cc7d-4dd6-abf2-182b9df95f90"
      },
      "execution_count": 88,
      "outputs": [
        {
          "output_type": "stream",
          "name": "stdout",
          "text": [
            "Model: \"sequential_68\"\n",
            "_________________________________________________________________\n",
            " Layer (type)                Output Shape              Param #   \n",
            "=================================================================\n",
            " sequential_67 (Sequential)  (None, 224, 224, 3)       0         \n",
            "                                                                 \n",
            " rescaling_37 (Rescaling)    (None, 224, 224, 3)       0         \n",
            "                                                                 \n",
            " vgg16 (Functional)          (None, 7, 7, 512)         14714688  \n",
            "                                                                 \n",
            " global_average_pooling2d_3  (None, 512)               0         \n",
            " 8 (GlobalAveragePooling2D)                                      \n",
            "                                                                 \n",
            " dense_74 (Dense)            (None, 256)               131328    \n",
            "                                                                 \n",
            " dropout_37 (Dropout)        (None, 256)               0         \n",
            "                                                                 \n",
            " dense_75 (Dense)            (None, 7)                 1799      \n",
            "                                                                 \n",
            "=================================================================\n",
            "Total params: 14847815 (56.64 MB)\n",
            "Trainable params: 133127 (520.03 KB)\n",
            "Non-trainable params: 14714688 (56.13 MB)\n",
            "_________________________________________________________________\n"
          ]
        }
      ]
    },
    {
      "cell_type": "code",
      "source": [
        "with tf.device('/gpu:0'):\n",
        "    history_VGG_DA_full = model_VGG_DA_full.fit(dataset_train,\n",
        "                    validation_data=dataset_val,\n",
        "                    batch_size=batch_size, epochs=50, callbacks=callbacks_list, verbose=1)"
      ],
      "metadata": {
        "colab": {
          "base_uri": "https://localhost:8080/"
        },
        "id": "-5xMnfePrJsS",
        "outputId": "736681cd-792e-448d-987d-faa718a3f475"
      },
      "execution_count": null,
      "outputs": [
        {
          "metadata": {
            "tags": null
          },
          "name": "stdout",
          "output_type": "stream",
          "text": [
            "Epoch 1/50\n",
            "20/20 [==============================] - ETA: 0s - loss: 2.0026 - accuracy: 0.1841 \n",
            "Epoch 1: val_loss improved from inf to 1.68920, saving model to ./model_VGG_DA_full_best_weights.h5\n"
          ]
        },
        {
          "metadata": {
            "tags": null
          },
          "name": "stderr",
          "output_type": "stream",
          "text": [
            "/usr/local/lib/python3.10/dist-packages/keras/src/engine/training.py:3000: UserWarning: You are saving your model as an HDF5 file via `model.save()`. This file format is considered legacy. We recommend using instead the native Keras format, e.g. `model.save('my_model.keras')`.\n",
            "  saving_api.save_model(\n"
          ]
        },
        {
          "output_type": "stream",
          "name": "stdout",
          "text": [
            "20/20 [==============================] - 614s 31s/step - loss: 2.0026 - accuracy: 0.1841 - val_loss: 1.6892 - val_accuracy: 0.3476\n",
            "Epoch 2/50\n",
            "20/20 [==============================] - ETA: 0s - loss: 1.7642 - accuracy: 0.3175 \n",
            "Epoch 2: val_loss improved from 1.68920 to 1.46980, saving model to ./model_VGG_DA_full_best_weights.h5\n",
            "20/20 [==============================] - 589s 30s/step - loss: 1.7642 - accuracy: 0.3175 - val_loss: 1.4698 - val_accuracy: 0.5238\n",
            "Epoch 3/50\n",
            "20/20 [==============================] - ETA: 0s - loss: 1.6110 - accuracy: 0.4286 \n",
            "Epoch 3: val_loss improved from 1.46980 to 1.30770, saving model to ./model_VGG_DA_full_best_weights.h5\n",
            "20/20 [==============================] - 563s 28s/step - loss: 1.6110 - accuracy: 0.4286 - val_loss: 1.3077 - val_accuracy: 0.5190\n",
            "Epoch 4/50\n",
            "20/20 [==============================] - ETA: 0s - loss: 1.5173 - accuracy: 0.4540 \n",
            "Epoch 4: val_loss improved from 1.30770 to 1.18669, saving model to ./model_VGG_DA_full_best_weights.h5\n",
            "20/20 [==============================] - 556s 28s/step - loss: 1.5173 - accuracy: 0.4540 - val_loss: 1.1867 - val_accuracy: 0.5857\n",
            "Epoch 5/50\n",
            "20/20 [==============================] - ETA: 0s - loss: 1.4388 - accuracy: 0.4762 \n",
            "Epoch 5: val_loss improved from 1.18669 to 1.11421, saving model to ./model_VGG_DA_full_best_weights.h5\n",
            "20/20 [==============================] - 540s 27s/step - loss: 1.4388 - accuracy: 0.4762 - val_loss: 1.1142 - val_accuracy: 0.6048\n",
            "Epoch 6/50\n",
            "20/20 [==============================] - ETA: 0s - loss: 1.4268 - accuracy: 0.4984 \n",
            "Epoch 6: val_loss improved from 1.11421 to 1.08450, saving model to ./model_VGG_DA_full_best_weights.h5\n",
            "20/20 [==============================] - 544s 27s/step - loss: 1.4268 - accuracy: 0.4984 - val_loss: 1.0845 - val_accuracy: 0.6286\n",
            "Epoch 7/50\n",
            "20/20 [==============================] - ETA: 0s - loss: 1.3634 - accuracy: 0.4984 \n",
            "Epoch 7: val_loss improved from 1.08450 to 1.00911, saving model to ./model_VGG_DA_full_best_weights.h5\n",
            "20/20 [==============================] - 545s 27s/step - loss: 1.3634 - accuracy: 0.4984 - val_loss: 1.0091 - val_accuracy: 0.6619\n",
            "Epoch 8/50\n",
            "20/20 [==============================] - ETA: 0s - loss: 1.3782 - accuracy: 0.5032 \n",
            "Epoch 8: val_loss improved from 1.00911 to 0.93675, saving model to ./model_VGG_DA_full_best_weights.h5\n",
            "20/20 [==============================] - 536s 27s/step - loss: 1.3782 - accuracy: 0.5032 - val_loss: 0.9368 - val_accuracy: 0.7286\n",
            "Epoch 9/50\n",
            "20/20 [==============================] - ETA: 0s - loss: 1.3415 - accuracy: 0.5127 \n",
            "Epoch 9: val_loss did not improve from 0.93675\n",
            "20/20 [==============================] - 529s 26s/step - loss: 1.3415 - accuracy: 0.5127 - val_loss: 0.9911 - val_accuracy: 0.6762\n",
            "Epoch 10/50\n",
            "20/20 [==============================] - ETA: 0s - loss: 1.2715 - accuracy: 0.5397 \n",
            "Epoch 10: val_loss improved from 0.93675 to 0.92586, saving model to ./model_VGG_DA_full_best_weights.h5\n",
            "20/20 [==============================] - 544s 27s/step - loss: 1.2715 - accuracy: 0.5397 - val_loss: 0.9259 - val_accuracy: 0.7190\n",
            "Epoch 11/50\n",
            "20/20 [==============================] - ETA: 0s - loss: 1.3063 - accuracy: 0.5476 \n",
            "Epoch 11: val_loss improved from 0.92586 to 0.91297, saving model to ./model_VGG_DA_full_best_weights.h5\n",
            "20/20 [==============================] - 544s 27s/step - loss: 1.3063 - accuracy: 0.5476 - val_loss: 0.9130 - val_accuracy: 0.7190\n",
            "Epoch 12/50\n",
            "20/20 [==============================] - ETA: 0s - loss: 1.2937 - accuracy: 0.4889 \n",
            "Epoch 12: val_loss did not improve from 0.91297\n",
            "20/20 [==============================] - 528s 26s/step - loss: 1.2937 - accuracy: 0.4889 - val_loss: 0.9193 - val_accuracy: 0.6810\n",
            "Epoch 13/50\n",
            "20/20 [==============================] - ETA: 0s - loss: 1.2306 - accuracy: 0.5698 \n",
            "Epoch 13: val_loss improved from 0.91297 to 0.88061, saving model to ./model_VGG_DA_full_best_weights.h5\n",
            "20/20 [==============================] - 544s 27s/step - loss: 1.2306 - accuracy: 0.5698 - val_loss: 0.8806 - val_accuracy: 0.7143\n",
            "Epoch 14/50\n",
            "20/20 [==============================] - ETA: 0s - loss: 1.2580 - accuracy: 0.5667 \n",
            "Epoch 14: val_loss did not improve from 0.88061\n",
            "20/20 [==============================] - 530s 27s/step - loss: 1.2580 - accuracy: 0.5667 - val_loss: 0.8941 - val_accuracy: 0.7190\n",
            "Epoch 15/50\n",
            "20/20 [==============================] - ETA: 0s - loss: 1.2634 - accuracy: 0.5460 \n",
            "Epoch 15: val_loss improved from 0.88061 to 0.82921, saving model to ./model_VGG_DA_full_best_weights.h5\n",
            "20/20 [==============================] - 531s 27s/step - loss: 1.2634 - accuracy: 0.5460 - val_loss: 0.8292 - val_accuracy: 0.7381\n",
            "Epoch 16/50\n",
            "20/20 [==============================] - ETA: 0s - loss: 1.2072 - accuracy: 0.5857 \n",
            "Epoch 16: val_loss did not improve from 0.82921\n",
            "20/20 [==============================] - 543s 27s/step - loss: 1.2072 - accuracy: 0.5857 - val_loss: 0.8451 - val_accuracy: 0.7333\n",
            "Epoch 17/50\n",
            "20/20 [==============================] - ETA: 0s - loss: 1.1986 - accuracy: 0.5825 \n",
            "Epoch 17: val_loss did not improve from 0.82921\n",
            "20/20 [==============================] - 541s 27s/step - loss: 1.1986 - accuracy: 0.5825 - val_loss: 0.8339 - val_accuracy: 0.7286\n",
            "Epoch 18/50\n"
          ]
        }
      ]
    },
    {
      "cell_type": "code",
      "source": [
        "# Création du modèle sans les couches de data augmentation bruit gaussien\n",
        "\n",
        "with tf.device('/gpu:0'):\n",
        "    model_VGG_DA_nogaus = create_model_fct_klayers()\n",
        "\n",
        "# Création du callback\n",
        "model_VGG_DA_nogaus_save_path = \"./model_VGG_DA_nogaus_best_weights.h5\"\n",
        "checkpoint = ModelCheckpoint(model_VGG_DA_nogaus_save_path, monitor='val_loss', verbose=1, save_best_only=True, mode='min')\n",
        "es = EarlyStopping(monitor='val_loss', mode='min', verbose=1, patience=3)\n",
        "callbacks_list = [checkpoint, es]"
      ],
      "metadata": {
        "colab": {
          "base_uri": "https://localhost:8080/"
        },
        "id": "WUATwYN0rJJk",
        "outputId": "f6fd6637-77f7-4473-b166-6b6539e9cde6"
      },
      "execution_count": 22,
      "outputs": [
        {
          "output_type": "stream",
          "name": "stdout",
          "text": [
            "Downloading data from https://storage.googleapis.com/tensorflow/keras-applications/vgg16/vgg16_weights_tf_dim_ordering_tf_kernels_notop.h5\n",
            "58889256/58889256 [==============================] - 2s 0us/step\n",
            "Model: \"sequential_1\"\n",
            "_________________________________________________________________\n",
            " Layer (type)                Output Shape              Param #   \n",
            "=================================================================\n",
            " sequential (Sequential)     (None, 224, 224, 3)       0         \n",
            "                                                                 \n",
            " rescaling (Rescaling)       (None, 224, 224, 3)       0         \n",
            "                                                                 \n",
            " vgg16 (Functional)          (None, 7, 7, 512)         14714688  \n",
            "                                                                 \n",
            " global_average_pooling2d (  (None, 512)               0         \n",
            " GlobalAveragePooling2D)                                         \n",
            "                                                                 \n",
            " dense (Dense)               (None, 256)               131328    \n",
            "                                                                 \n",
            " dropout (Dropout)           (None, 256)               0         \n",
            "                                                                 \n",
            " dense_1 (Dense)             (None, 7)                 1799      \n",
            "                                                                 \n",
            "=================================================================\n",
            "Total params: 14847815 (56.64 MB)\n",
            "Trainable params: 133127 (520.03 KB)\n",
            "Non-trainable params: 14714688 (56.13 MB)\n",
            "_________________________________________________________________\n"
          ]
        }
      ]
    },
    {
      "cell_type": "code",
      "source": [
        "with tf.device('/gpu:0'):\n",
        "    history_VGG_DA_nogaus = model_VGG_DA_nogaus.fit(dataset_train,\n",
        "                    validation_data=dataset_val,\n",
        "                    batch_size=batch_size, epochs=50, callbacks=callbacks_list, verbose=1)"
      ],
      "metadata": {
        "id": "l3PgWxWUlVr4",
        "outputId": "117932fd-98fd-47de-a409-4b4eca4b5743",
        "colab": {
          "base_uri": "https://localhost:8080/"
        }
      },
      "execution_count": 23,
      "outputs": [
        {
          "metadata": {
            "tags": null
          },
          "name": "stdout",
          "output_type": "stream",
          "text": [
            "Epoch 1/50\n",
            "20/20 [==============================] - ETA: 0s - loss: 2.0785 - accuracy: 0.1841 \n",
            "Epoch 1: val_loss improved from inf to 1.65353, saving model to ./model_VGG_DA_nogaus_best_weights.h5\n"
          ]
        },
        {
          "metadata": {
            "tags": null
          },
          "name": "stderr",
          "output_type": "stream",
          "text": [
            "/usr/local/lib/python3.10/dist-packages/keras/src/engine/training.py:3000: UserWarning: You are saving your model as an HDF5 file via `model.save()`. This file format is considered legacy. We recommend using instead the native Keras format, e.g. `model.save('my_model.keras')`.\n",
            "  saving_api.save_model(\n"
          ]
        },
        {
          "output_type": "stream",
          "name": "stdout",
          "text": [
            "20/20 [==============================] - 640s 29s/step - loss: 2.0785 - accuracy: 0.1841 - val_loss: 1.6535 - val_accuracy: 0.4714\n",
            "Epoch 2/50\n",
            "20/20 [==============================] - ETA: 0s - loss: 1.7759 - accuracy: 0.2984 \n",
            "Epoch 2: val_loss improved from 1.65353 to 1.54874, saving model to ./model_VGG_DA_nogaus_best_weights.h5\n",
            "20/20 [==============================] - 542s 27s/step - loss: 1.7759 - accuracy: 0.2984 - val_loss: 1.5487 - val_accuracy: 0.4619\n",
            "Epoch 3/50\n",
            "20/20 [==============================] - ETA: 0s - loss: 1.6714 - accuracy: 0.3778 \n",
            "Epoch 3: val_loss improved from 1.54874 to 1.29217, saving model to ./model_VGG_DA_nogaus_best_weights.h5\n",
            "20/20 [==============================] - 552s 28s/step - loss: 1.6714 - accuracy: 0.3778 - val_loss: 1.2922 - val_accuracy: 0.6619\n",
            "Epoch 4/50\n",
            "20/20 [==============================] - ETA: 0s - loss: 1.4812 - accuracy: 0.4730 \n",
            "Epoch 4: val_loss improved from 1.29217 to 1.15907, saving model to ./model_VGG_DA_nogaus_best_weights.h5\n",
            "20/20 [==============================] - 535s 27s/step - loss: 1.4812 - accuracy: 0.4730 - val_loss: 1.1591 - val_accuracy: 0.6905\n",
            "Epoch 5/50\n",
            "20/20 [==============================] - ETA: 0s - loss: 1.4533 - accuracy: 0.4937 \n",
            "Epoch 5: val_loss improved from 1.15907 to 1.11363, saving model to ./model_VGG_DA_nogaus_best_weights.h5\n",
            "20/20 [==============================] - 534s 27s/step - loss: 1.4533 - accuracy: 0.4937 - val_loss: 1.1136 - val_accuracy: 0.6095\n",
            "Epoch 6/50\n",
            "20/20 [==============================] - ETA: 0s - loss: 1.4525 - accuracy: 0.4603 \n",
            "Epoch 6: val_loss improved from 1.11363 to 1.06333, saving model to ./model_VGG_DA_nogaus_best_weights.h5\n",
            "20/20 [==============================] - 547s 28s/step - loss: 1.4525 - accuracy: 0.4603 - val_loss: 1.0633 - val_accuracy: 0.6714\n",
            "Epoch 7/50\n",
            "20/20 [==============================] - ETA: 0s - loss: 1.3439 - accuracy: 0.5206 \n",
            "Epoch 7: val_loss improved from 1.06333 to 1.02824, saving model to ./model_VGG_DA_nogaus_best_weights.h5\n",
            "20/20 [==============================] - 531s 27s/step - loss: 1.3439 - accuracy: 0.5206 - val_loss: 1.0282 - val_accuracy: 0.6857\n",
            "Epoch 8/50\n",
            "20/20 [==============================] - ETA: 0s - loss: 1.3535 - accuracy: 0.5413 \n",
            "Epoch 8: val_loss improved from 1.02824 to 0.98305, saving model to ./model_VGG_DA_nogaus_best_weights.h5\n",
            "20/20 [==============================] - 542s 27s/step - loss: 1.3535 - accuracy: 0.5413 - val_loss: 0.9830 - val_accuracy: 0.6762\n",
            "Epoch 9/50\n",
            "20/20 [==============================] - ETA: 0s - loss: 1.3679 - accuracy: 0.4952 \n",
            "Epoch 9: val_loss improved from 0.98305 to 0.95022, saving model to ./model_VGG_DA_nogaus_best_weights.h5\n",
            "20/20 [==============================] - 539s 27s/step - loss: 1.3679 - accuracy: 0.4952 - val_loss: 0.9502 - val_accuracy: 0.6762\n",
            "Epoch 10/50\n",
            "20/20 [==============================] - ETA: 0s - loss: 1.3167 - accuracy: 0.5286 \n",
            "Epoch 10: val_loss improved from 0.95022 to 0.94204, saving model to ./model_VGG_DA_nogaus_best_weights.h5\n",
            "20/20 [==============================] - 544s 27s/step - loss: 1.3167 - accuracy: 0.5286 - val_loss: 0.9420 - val_accuracy: 0.7095\n",
            "Epoch 11/50\n",
            "20/20 [==============================] - ETA: 0s - loss: 1.3101 - accuracy: 0.5175 \n",
            "Epoch 11: val_loss improved from 0.94204 to 0.90562, saving model to ./model_VGG_DA_nogaus_best_weights.h5\n",
            "20/20 [==============================] - 545s 27s/step - loss: 1.3101 - accuracy: 0.5175 - val_loss: 0.9056 - val_accuracy: 0.7286\n",
            "Epoch 12/50\n",
            "20/20 [==============================] - ETA: 0s - loss: 1.2380 - accuracy: 0.5476 \n",
            "Epoch 12: val_loss improved from 0.90562 to 0.86875, saving model to ./model_VGG_DA_nogaus_best_weights.h5\n",
            "20/20 [==============================] - 534s 27s/step - loss: 1.2380 - accuracy: 0.5476 - val_loss: 0.8687 - val_accuracy: 0.7286\n",
            "Epoch 13/50\n",
            "20/20 [==============================] - ETA: 0s - loss: 1.2459 - accuracy: 0.5730 \n",
            "Epoch 13: val_loss did not improve from 0.86875\n",
            "20/20 [==============================] - 530s 27s/step - loss: 1.2459 - accuracy: 0.5730 - val_loss: 0.9091 - val_accuracy: 0.7048\n",
            "Epoch 14/50\n",
            "20/20 [==============================] - ETA: 0s - loss: 1.2370 - accuracy: 0.5540 \n",
            "Epoch 14: val_loss improved from 0.86875 to 0.84184, saving model to ./model_VGG_DA_nogaus_best_weights.h5\n",
            "20/20 [==============================] - 544s 27s/step - loss: 1.2370 - accuracy: 0.5540 - val_loss: 0.8418 - val_accuracy: 0.7286\n",
            "Epoch 15/50\n",
            "20/20 [==============================] - ETA: 0s - loss: 1.2571 - accuracy: 0.5810 \n",
            "Epoch 15: val_loss did not improve from 0.84184\n",
            "20/20 [==============================] - 528s 27s/step - loss: 1.2571 - accuracy: 0.5810 - val_loss: 0.8524 - val_accuracy: 0.7286\n",
            "Epoch 16/50\n",
            "20/20 [==============================] - ETA: 0s - loss: 1.2313 - accuracy: 0.5841 \n",
            "Epoch 16: val_loss improved from 0.84184 to 0.82827, saving model to ./model_VGG_DA_nogaus_best_weights.h5\n",
            "20/20 [==============================] - 520s 26s/step - loss: 1.2313 - accuracy: 0.5841 - val_loss: 0.8283 - val_accuracy: 0.7190\n",
            "Epoch 17/50\n",
            "20/20 [==============================] - ETA: 0s - loss: 1.2092 - accuracy: 0.5651 \n",
            "Epoch 17: val_loss did not improve from 0.82827\n",
            "20/20 [==============================] - 527s 27s/step - loss: 1.2092 - accuracy: 0.5651 - val_loss: 0.8520 - val_accuracy: 0.7048\n",
            "Epoch 18/50\n",
            "20/20 [==============================] - ETA: 0s - loss: 1.1177 - accuracy: 0.6222 \n",
            "Epoch 18: val_loss did not improve from 0.82827\n",
            "20/20 [==============================] - 514s 26s/step - loss: 1.1177 - accuracy: 0.6222 - val_loss: 0.8571 - val_accuracy: 0.7238\n",
            "Epoch 19/50\n",
            "20/20 [==============================] - ETA: 0s - loss: 1.1393 - accuracy: 0.5905 \n",
            "Epoch 19: val_loss improved from 0.82827 to 0.78599, saving model to ./model_VGG_DA_nogaus_best_weights.h5\n",
            "20/20 [==============================] - 533s 27s/step - loss: 1.1393 - accuracy: 0.5905 - val_loss: 0.7860 - val_accuracy: 0.7476\n",
            "Epoch 20/50\n",
            "20/20 [==============================] - ETA: 0s - loss: 1.1720 - accuracy: 0.5841 \n",
            "Epoch 20: val_loss improved from 0.78599 to 0.77804, saving model to ./model_VGG_DA_nogaus_best_weights.h5\n",
            "20/20 [==============================] - 531s 27s/step - loss: 1.1720 - accuracy: 0.5841 - val_loss: 0.7780 - val_accuracy: 0.7619\n",
            "Epoch 21/50\n",
            "20/20 [==============================] - ETA: 0s - loss: 1.1400 - accuracy: 0.5889 \n",
            "Epoch 21: val_loss did not improve from 0.77804\n",
            "20/20 [==============================] - 515s 26s/step - loss: 1.1400 - accuracy: 0.5889 - val_loss: 0.7924 - val_accuracy: 0.7429\n",
            "Epoch 22/50\n",
            "20/20 [==============================] - ETA: 0s - loss: 1.1565 - accuracy: 0.6016 \n",
            "Epoch 22: val_loss did not improve from 0.77804\n",
            "20/20 [==============================] - 513s 26s/step - loss: 1.1565 - accuracy: 0.6016 - val_loss: 0.8053 - val_accuracy: 0.7429\n",
            "Epoch 23/50\n",
            "20/20 [==============================] - ETA: 0s - loss: 1.1795 - accuracy: 0.5730 \n",
            "Epoch 23: val_loss did not improve from 0.77804\n",
            "20/20 [==============================] - 514s 26s/step - loss: 1.1795 - accuracy: 0.5730 - val_loss: 0.7911 - val_accuracy: 0.7524\n",
            "Epoch 23: early stopping\n"
          ]
        }
      ]
    },
    {
      "cell_type": "code",
      "execution_count": null,
      "metadata": {
        "id": "DsSzew-c_YSa"
      },
      "outputs": [],
      "source": [
        "# Grayscale Images"
      ]
    },
    {
      "cell_type": "code",
      "source": [
        "with tf.device('/gpu:0'):\n",
        "    model_gray = create_model_fct_gray()\n",
        "\n",
        "# Création du callback\n",
        "model_gray_save_path = \"./model_VGG_gray_weights.h5\"\n",
        "checkpoint = ModelCheckpoint(model_gray_save_path, monitor='val_loss', verbose=1, save_best_only=True, mode='min')\n",
        "es = EarlyStopping(monitor='val_loss', mode='min', verbose=1, patience=3)\n",
        "callbacks_list = [checkpoint, es]\n",
        "\n",
        "history_model_gray = model_gray.fit(dataset_gray_train,\n",
        "                    validation_data=dataset_gray_val,\n",
        "                    batch_size=batch_size, epochs=50, callbacks=callbacks_list, verbose=1)"
      ],
      "metadata": {
        "id": "oadrkkmyqpZm",
        "outputId": "931f26a7-6c56-4384-8725-edeb8ba432c5",
        "colab": {
          "base_uri": "https://localhost:8080/"
        }
      },
      "execution_count": 47,
      "outputs": [
        {
          "output_type": "stream",
          "name": "stdout",
          "text": [
            "Model: \"model_8\"\n",
            "_________________________________________________________________\n",
            " Layer (type)                Output Shape              Param #   \n",
            "=================================================================\n",
            " input_34 (InputLayer)       [(None, None, None, 3)]   0         \n",
            "                                                                 \n",
            " tf.cast_7 (TFOpLambda)      (None, None, None, 3)     0         \n",
            "                                                                 \n",
            " tf.__operators__.getitem_6  (None, None, None, 3)     0         \n",
            "  (SlicingOpLambda)                                              \n",
            "                                                                 \n",
            " tf.nn.bias_add_6 (TFOpLamb  (None, None, None, 3)     0         \n",
            " da)                                                             \n",
            "                                                                 \n",
            " vgg16 (Functional)          (None, None, None, 512)   14714688  \n",
            "                                                                 \n",
            " global_average_pooling2d_1  (None, 512)               0         \n",
            " 0 (GlobalAveragePooling2D)                                      \n",
            "                                                                 \n",
            " dense_8 (Dense)             (None, 256)               131328    \n",
            "                                                                 \n",
            " dropout_4 (Dropout)         (None, 256)               0         \n",
            "                                                                 \n",
            " dense_9 (Dense)             (None, 7)                 1799      \n",
            "                                                                 \n",
            "=================================================================\n",
            "Total params: 14847815 (56.64 MB)\n",
            "Trainable params: 133127 (520.03 KB)\n",
            "Non-trainable params: 14714688 (56.13 MB)\n",
            "_________________________________________________________________\n",
            "None\n",
            "Epoch 1/50\n",
            "20/20 [==============================] - ETA: 0s - loss: 4.7098 - accuracy: 0.4413 \n",
            "Epoch 1: val_loss improved from inf to 1.21536, saving model to ./model_VGG_gray_weights.h5\n",
            "20/20 [==============================] - 520s 25s/step - loss: 4.7098 - accuracy: 0.4413 - val_loss: 1.2154 - val_accuracy: 0.7333\n"
          ]
        },
        {
          "output_type": "stream",
          "name": "stderr",
          "text": [
            "/usr/local/lib/python3.10/dist-packages/keras/src/engine/training.py:3000: UserWarning: You are saving your model as an HDF5 file via `model.save()`. This file format is considered legacy. We recommend using instead the native Keras format, e.g. `model.save('my_model.keras')`.\n",
            "  saving_api.save_model(\n"
          ]
        },
        {
          "output_type": "stream",
          "name": "stdout",
          "text": [
            "Epoch 2/50\n",
            "20/20 [==============================] - ETA: 0s - loss: 1.5777 - accuracy: 0.6857 \n",
            "Epoch 2: val_loss improved from 1.21536 to 0.88409, saving model to ./model_VGG_gray_weights.h5\n",
            "20/20 [==============================] - 490s 25s/step - loss: 1.5777 - accuracy: 0.6857 - val_loss: 0.8841 - val_accuracy: 0.7667\n",
            "Epoch 3/50\n",
            "20/20 [==============================] - ETA: 0s - loss: 1.0983 - accuracy: 0.7556 \n",
            "Epoch 3: val_loss improved from 0.88409 to 0.84959, saving model to ./model_VGG_gray_weights.h5\n",
            "20/20 [==============================] - 490s 25s/step - loss: 1.0983 - accuracy: 0.7556 - val_loss: 0.8496 - val_accuracy: 0.7857\n",
            "Epoch 4/50\n",
            "20/20 [==============================] - ETA: 0s - loss: 0.6834 - accuracy: 0.8000 \n",
            "Epoch 4: val_loss improved from 0.84959 to 0.80204, saving model to ./model_VGG_gray_weights.h5\n",
            "20/20 [==============================] - 456s 23s/step - loss: 0.6834 - accuracy: 0.8000 - val_loss: 0.8020 - val_accuracy: 0.7619\n",
            "Epoch 5/50\n",
            "20/20 [==============================] - ETA: 0s - loss: 0.5338 - accuracy: 0.8302 \n",
            "Epoch 5: val_loss improved from 0.80204 to 0.69878, saving model to ./model_VGG_gray_weights.h5\n",
            "20/20 [==============================] - 484s 24s/step - loss: 0.5338 - accuracy: 0.8302 - val_loss: 0.6988 - val_accuracy: 0.8286\n",
            "Epoch 6/50\n",
            "20/20 [==============================] - ETA: 0s - loss: 0.4007 - accuracy: 0.8746 \n",
            "Epoch 6: val_loss did not improve from 0.69878\n",
            "20/20 [==============================] - 485s 24s/step - loss: 0.4007 - accuracy: 0.8746 - val_loss: 0.7258 - val_accuracy: 0.8143\n",
            "Epoch 7/50\n",
            "20/20 [==============================] - ETA: 0s - loss: 0.2913 - accuracy: 0.9000 \n",
            "Epoch 7: val_loss did not improve from 0.69878\n",
            "20/20 [==============================] - 456s 23s/step - loss: 0.2913 - accuracy: 0.9000 - val_loss: 0.7578 - val_accuracy: 0.8333\n",
            "Epoch 8/50\n",
            "20/20 [==============================] - ETA: 0s - loss: 0.2219 - accuracy: 0.9333 \n",
            "Epoch 8: val_loss did not improve from 0.69878\n",
            "20/20 [==============================] - 485s 24s/step - loss: 0.2219 - accuracy: 0.9333 - val_loss: 0.7846 - val_accuracy: 0.8000\n",
            "Epoch 8: early stopping\n"
          ]
        }
      ]
    },
    {
      "cell_type": "code",
      "source": [
        "with tf.device('/gpu:0'):\n",
        "    model_gray_DA = create_model_fct_klayers_gray()\n",
        "\n",
        "# Création du callback\n",
        "model_gray_DA_save_path = \"./model_VGG_gray_DA_weights.h5\"\n",
        "checkpoint = ModelCheckpoint(model_gray_DA_save_path, monitor='val_loss', verbose=1, save_best_only=True, mode='min')\n",
        "es = EarlyStopping(monitor='val_loss', mode='min', verbose=1, patience=3)\n",
        "callbacks_list = [checkpoint, es]\n",
        "\n",
        "history_model_gray_DA = model_gray_DA.fit(dataset_gray_train,\n",
        "                    validation_data=dataset_gray_val,\n",
        "                    batch_size=batch_size, epochs=50, callbacks=callbacks_list, verbose=1)"
      ],
      "metadata": {
        "id": "9tEmyypKCF9w",
        "outputId": "f70fecb3-b4b1-4f7a-bab6-463ca0e3bfca",
        "colab": {
          "base_uri": "https://localhost:8080/"
        }
      },
      "execution_count": null,
      "outputs": [
        {
          "output_type": "stream",
          "name": "stdout",
          "text": [
            "Model: \"model_12\"\n",
            "_________________________________________________________________\n",
            " Layer (type)                Output Shape              Param #   \n",
            "=================================================================\n",
            " input_48 (InputLayer)       [(None, None, None, 3)]   0         \n",
            "                                                                 \n",
            " tf.cast_14 (TFOpLambda)     (None, None, None, 3)     0         \n",
            "                                                                 \n",
            " tf.__operators__.getitem_1  (None, None, None, 3)     0         \n",
            " 3 (SlicingOpLambda)                                             \n",
            "                                                                 \n",
            " tf.nn.bias_add_13 (TFOpLam  (None, None, None, 3)     0         \n",
            " bda)                                                            \n",
            "                                                                 \n",
            " random_flip_6 (RandomFlip)  (None, None, None, 3)     0         \n",
            "                                                                 \n",
            " random_contrast_6 (RandomC  (None, None, None, 3)     0         \n",
            " ontrast)                                                        \n",
            "                                                                 \n",
            " random_rotation_6 (RandomR  (None, None, None, 3)     0         \n",
            " otation)                                                        \n",
            "                                                                 \n",
            " random_zoom_6 (RandomZoom)  (None, None, None, 3)     0         \n",
            "                                                                 \n",
            " random_translation_6 (Rand  (None, None, None, 3)     0         \n",
            " omTranslation)                                                  \n",
            "                                                                 \n",
            " random_brightness_6 (Rando  (None, None, None, 3)     0         \n",
            " mBrightness)                                                    \n",
            "                                                                 \n",
            " gaussian_noise_6 (Gaussian  (None, None, None, 3)     0         \n",
            " Noise)                                                          \n",
            "                                                                 \n",
            " rescaling_6 (Rescaling)     (None, None, None, 3)     0         \n",
            "                                                                 \n",
            " vgg16 (Functional)          (None, None, None, 512)   14714688  \n",
            "                                                                 \n",
            " global_average_pooling2d_1  (None, 512)               0         \n",
            " 7 (GlobalAveragePooling2D)                                      \n",
            "                                                                 \n",
            " dense_22 (Dense)            (None, 256)               131328    \n",
            "                                                                 \n",
            " dropout_11 (Dropout)        (None, 256)               0         \n",
            "                                                                 \n",
            " dense_23 (Dense)            (None, 7)                 1799      \n",
            "                                                                 \n",
            "=================================================================\n",
            "Total params: 14847815 (56.64 MB)\n",
            "Trainable params: 133127 (520.03 KB)\n",
            "Non-trainable params: 14714688 (56.13 MB)\n",
            "_________________________________________________________________\n",
            "Epoch 1/50\n",
            "20/20 [==============================] - ETA: 0s - loss: 2.0239 - accuracy: 0.1857 \n",
            "Epoch 1: val_loss improved from inf to 1.65198, saving model to ./model_VGG_gray_DA_weights.h5\n",
            "20/20 [==============================] - 505s 25s/step - loss: 2.0239 - accuracy: 0.1857 - val_loss: 1.6520 - val_accuracy: 0.4238\n"
          ]
        },
        {
          "output_type": "stream",
          "name": "stderr",
          "text": [
            "/usr/local/lib/python3.10/dist-packages/keras/src/engine/training.py:3000: UserWarning: You are saving your model as an HDF5 file via `model.save()`. This file format is considered legacy. We recommend using instead the native Keras format, e.g. `model.save('my_model.keras')`.\n",
            "  saving_api.save_model(\n"
          ]
        },
        {
          "output_type": "stream",
          "name": "stdout",
          "text": [
            "Epoch 2/50\n",
            "20/20 [==============================] - ETA: 0s - loss: 1.8685 - accuracy: 0.2619 \n",
            "Epoch 2: val_loss improved from 1.65198 to 1.53149, saving model to ./model_VGG_gray_DA_weights.h5\n",
            "20/20 [==============================] - 495s 25s/step - loss: 1.8685 - accuracy: 0.2619 - val_loss: 1.5315 - val_accuracy: 0.4333\n",
            "Epoch 3/50\n",
            "20/20 [==============================] - ETA: 0s - loss: 1.7020 - accuracy: 0.3810 \n",
            "Epoch 3: val_loss improved from 1.53149 to 1.40159, saving model to ./model_VGG_gray_DA_weights.h5\n",
            "20/20 [==============================] - 474s 24s/step - loss: 1.7020 - accuracy: 0.3810 - val_loss: 1.4016 - val_accuracy: 0.4762\n",
            "Epoch 4/50\n",
            "20/20 [==============================] - ETA: 0s - loss: 1.6572 - accuracy: 0.3667 \n",
            "Epoch 4: val_loss improved from 1.40159 to 1.34245, saving model to ./model_VGG_gray_DA_weights.h5\n",
            "20/20 [==============================] - 471s 24s/step - loss: 1.6572 - accuracy: 0.3667 - val_loss: 1.3424 - val_accuracy: 0.5190\n",
            "Epoch 5/50\n",
            "20/20 [==============================] - ETA: 0s - loss: 1.5803 - accuracy: 0.4175 \n",
            "Epoch 5: val_loss improved from 1.34245 to 1.23756, saving model to ./model_VGG_gray_DA_weights.h5\n",
            "20/20 [==============================] - 471s 24s/step - loss: 1.5803 - accuracy: 0.4175 - val_loss: 1.2376 - val_accuracy: 0.5714\n",
            "Epoch 6/50\n",
            "20/20 [==============================] - ETA: 0s - loss: 1.5695 - accuracy: 0.4492 \n",
            "Epoch 6: val_loss improved from 1.23756 to 1.18110, saving model to ./model_VGG_gray_DA_weights.h5\n",
            "20/20 [==============================] - 499s 25s/step - loss: 1.5695 - accuracy: 0.4492 - val_loss: 1.1811 - val_accuracy: 0.5857\n",
            "Epoch 7/50\n",
            "20/20 [==============================] - ETA: 0s - loss: 1.5649 - accuracy: 0.4429 \n",
            "Epoch 7: val_loss did not improve from 1.18110\n",
            "20/20 [==============================] - 499s 25s/step - loss: 1.5649 - accuracy: 0.4429 - val_loss: 1.2054 - val_accuracy: 0.5143\n",
            "Epoch 8/50\n",
            "20/20 [==============================] - ETA: 0s - loss: 1.5020 - accuracy: 0.4444 \n",
            "Epoch 8: val_loss improved from 1.18110 to 1.15188, saving model to ./model_VGG_gray_DA_weights.h5\n",
            "20/20 [==============================] - 475s 24s/step - loss: 1.5020 - accuracy: 0.4444 - val_loss: 1.1519 - val_accuracy: 0.5524\n",
            "Epoch 9/50\n",
            "20/20 [==============================] - ETA: 0s - loss: 1.4771 - accuracy: 0.4730 \n",
            "Epoch 9: val_loss improved from 1.15188 to 1.10638, saving model to ./model_VGG_gray_DA_weights.h5\n",
            "20/20 [==============================] - 473s 24s/step - loss: 1.4771 - accuracy: 0.4730 - val_loss: 1.1064 - val_accuracy: 0.5905\n",
            "Epoch 10/50\n",
            "20/20 [==============================] - ETA: 0s - loss: 1.4701 - accuracy: 0.4746 \n",
            "Epoch 10: val_loss improved from 1.10638 to 1.05415, saving model to ./model_VGG_gray_DA_weights.h5\n",
            "20/20 [==============================] - 500s 25s/step - loss: 1.4701 - accuracy: 0.4746 - val_loss: 1.0541 - val_accuracy: 0.6286\n",
            "Epoch 11/50\n",
            "20/20 [==============================] - ETA: 0s - loss: 1.4585 - accuracy: 0.4873 \n",
            "Epoch 11: val_loss did not improve from 1.05415\n",
            "20/20 [==============================] - 481s 24s/step - loss: 1.4585 - accuracy: 0.4873 - val_loss: 1.0888 - val_accuracy: 0.6048\n",
            "Epoch 12/50\n",
            "20/20 [==============================] - ETA: 0s - loss: 1.4354 - accuracy: 0.4698 \n",
            "Epoch 12: val_loss did not improve from 1.05415\n",
            "20/20 [==============================] - 498s 25s/step - loss: 1.4354 - accuracy: 0.4698 - val_loss: 1.0613 - val_accuracy: 0.6238\n",
            "Epoch 13/50\n",
            "20/20 [==============================] - ETA: 0s - loss: 1.4107 - accuracy: 0.4889 \n",
            "Epoch 13: val_loss improved from 1.05415 to 1.04836, saving model to ./model_VGG_gray_DA_weights.h5\n",
            "20/20 [==============================] - 500s 25s/step - loss: 1.4107 - accuracy: 0.4889 - val_loss: 1.0484 - val_accuracy: 0.6238\n",
            "Epoch 14/50\n",
            "20/20 [==============================] - ETA: 0s - loss: 1.4418 - accuracy: 0.4619 \n",
            "Epoch 14: val_loss did not improve from 1.04836\n",
            "20/20 [==============================] - 499s 25s/step - loss: 1.4418 - accuracy: 0.4619 - val_loss: 1.0670 - val_accuracy: 0.6000\n",
            "Epoch 15/50\n",
            "20/20 [==============================] - ETA: 0s - loss: 1.4670 - accuracy: 0.4762 \n",
            "Epoch 15: val_loss improved from 1.04836 to 1.00260, saving model to ./model_VGG_gray_DA_weights.h5\n",
            "20/20 [==============================] - 472s 24s/step - loss: 1.4670 - accuracy: 0.4762 - val_loss: 1.0026 - val_accuracy: 0.6524\n",
            "Epoch 16/50\n",
            "20/20 [==============================] - ETA: 0s - loss: 1.4311 - accuracy: 0.4937 \n",
            "Epoch 16: val_loss improved from 1.00260 to 0.95449, saving model to ./model_VGG_gray_DA_weights.h5\n",
            "20/20 [==============================] - 500s 25s/step - loss: 1.4311 - accuracy: 0.4937 - val_loss: 0.9545 - val_accuracy: 0.6667\n",
            "Epoch 17/50\n",
            "20/20 [==============================] - ETA: 0s - loss: 1.4078 - accuracy: 0.4873 \n",
            "Epoch 17: val_loss did not improve from 0.95449\n",
            "20/20 [==============================] - 473s 24s/step - loss: 1.4078 - accuracy: 0.4873 - val_loss: 1.0263 - val_accuracy: 0.6190\n",
            "Epoch 18/50\n",
            "20/20 [==============================] - ETA: 0s - loss: 1.4002 - accuracy: 0.4873 \n",
            "Epoch 18: val_loss did not improve from 0.95449\n",
            "20/20 [==============================] - 477s 24s/step - loss: 1.4002 - accuracy: 0.4873 - val_loss: 0.9818 - val_accuracy: 0.6524\n",
            "Epoch 19/50\n",
            "20/20 [==============================] - ETA: 0s - loss: 1.3635 - accuracy: 0.5254 \n",
            "Epoch 19: val_loss improved from 0.95449 to 0.94150, saving model to ./model_VGG_gray_DA_weights.h5\n"
          ]
        },
        {
          "output_type": "stream",
          "name": "stderr",
          "text": [
            "ERROR:root:Internal Python error in the inspect module.\n",
            "Below is the traceback from this internal error.\n",
            "\n",
            "ERROR:root:Internal Python error in the inspect module.\n",
            "Below is the traceback from this internal error.\n",
            "\n",
            "ERROR:root:Internal Python error in the inspect module.\n",
            "Below is the traceback from this internal error.\n",
            "\n"
          ]
        },
        {
          "output_type": "stream",
          "name": "stdout",
          "text": [
            "Traceback (most recent call last):\n",
            "  File \"/usr/local/lib/python3.10/dist-packages/IPython/core/interactiveshell.py\", line 3553, in run_code\n",
            "    exec(code_obj, self.user_global_ns, self.user_ns)\n",
            "  File \"<ipython-input-60-6f2b0a5761ec>\", line 10, in <cell line: 10>\n",
            "    history_model_gray_DA = model_gray_DA.fit(dataset_gray_train,\n",
            "  File \"/usr/local/lib/python3.10/dist-packages/keras/src/utils/traceback_utils.py\", line 70, in error_handler\n",
            "    raise e.with_traceback(filtered_tb) from None\n",
            "  File \"/usr/local/lib/python3.10/dist-packages/tensorflow/python/lib/io/file_io.py\", line 513, in recursive_create_dir_v2\n",
            "    _pywrap_file_io.RecursivelyCreateDir(compat.path_to_bytes(path))\n",
            "tensorflow.python.framework.errors_impl.FailedPreconditionError: . is not a directory\n",
            "\n",
            "During handling of the above exception, another exception occurred:\n",
            "\n",
            "Traceback (most recent call last):\n",
            "  File \"/usr/local/lib/python3.10/dist-packages/IPython/core/interactiveshell.py\", line 2099, in showtraceback\n",
            "    stb = value._render_traceback_()\n",
            "AttributeError: 'FailedPreconditionError' object has no attribute '_render_traceback_'\n",
            "\n",
            "During handling of the above exception, another exception occurred:\n",
            "\n",
            "Traceback (most recent call last):\n",
            "  File \"/usr/local/lib/python3.10/dist-packages/IPython/core/ultratb.py\", line 1101, in get_records\n",
            "    return _fixed_getinnerframes(etb, number_of_lines_of_context, tb_offset)\n",
            "  File \"/usr/local/lib/python3.10/dist-packages/IPython/core/ultratb.py\", line 248, in wrapped\n",
            "    return f(*args, **kwargs)\n",
            "  File \"/usr/local/lib/python3.10/dist-packages/IPython/core/ultratb.py\", line 281, in _fixed_getinnerframes\n",
            "    records = fix_frame_records_filenames(inspect.getinnerframes(etb, context))\n",
            "  File \"/usr/lib/python3.10/inspect.py\", line 1662, in getinnerframes\n",
            "    frameinfo = (tb.tb_frame,) + getframeinfo(tb, context)\n",
            "  File \"/usr/lib/python3.10/inspect.py\", line 1620, in getframeinfo\n",
            "    filename = getsourcefile(frame) or getfile(frame)\n",
            "  File \"/usr/lib/python3.10/inspect.py\", line 829, in getsourcefile\n",
            "    module = getmodule(object, filename)\n",
            "  File \"/usr/lib/python3.10/inspect.py\", line 861, in getmodule\n",
            "    file = getabsfile(object, _filename)\n",
            "  File \"/usr/lib/python3.10/inspect.py\", line 845, in getabsfile\n",
            "    return os.path.normcase(os.path.abspath(_filename))\n",
            "  File \"/usr/lib/python3.10/posixpath.py\", line 384, in abspath\n",
            "    cwd = os.getcwd()\n",
            "OSError: [Errno 107] Transport endpoint is not connected\n",
            "Traceback (most recent call last):\n",
            "  File \"/usr/local/lib/python3.10/dist-packages/IPython/core/interactiveshell.py\", line 3553, in run_code\n",
            "    exec(code_obj, self.user_global_ns, self.user_ns)\n",
            "  File \"<ipython-input-60-6f2b0a5761ec>\", line 10, in <cell line: 10>\n",
            "    history_model_gray_DA = model_gray_DA.fit(dataset_gray_train,\n",
            "  File \"/usr/local/lib/python3.10/dist-packages/keras/src/utils/traceback_utils.py\", line 70, in error_handler\n",
            "    raise e.with_traceback(filtered_tb) from None\n",
            "  File \"/usr/local/lib/python3.10/dist-packages/tensorflow/python/lib/io/file_io.py\", line 513, in recursive_create_dir_v2\n",
            "    _pywrap_file_io.RecursivelyCreateDir(compat.path_to_bytes(path))\n",
            "tensorflow.python.framework.errors_impl.FailedPreconditionError: . is not a directory\n",
            "\n",
            "During handling of the above exception, another exception occurred:\n",
            "\n",
            "Traceback (most recent call last):\n",
            "  File \"/usr/local/lib/python3.10/dist-packages/IPython/core/interactiveshell.py\", line 2099, in showtraceback\n",
            "    stb = value._render_traceback_()\n",
            "AttributeError: 'FailedPreconditionError' object has no attribute '_render_traceback_'\n",
            "\n",
            "During handling of the above exception, another exception occurred:\n",
            "\n",
            "Traceback (most recent call last):\n",
            "  File \"/usr/local/lib/python3.10/dist-packages/IPython/core/interactiveshell.py\", line 3473, in run_ast_nodes\n",
            "    if (await self.run_code(code, result,  async_=asy)):\n",
            "  File \"/usr/local/lib/python3.10/dist-packages/IPython/core/interactiveshell.py\", line 3575, in run_code\n",
            "    self.showtraceback(running_compiled_code=True)\n",
            "  File \"/usr/local/lib/python3.10/dist-packages/IPython/core/interactiveshell.py\", line 2101, in showtraceback\n",
            "    stb = self.InteractiveTB.structured_traceback(etype,\n",
            "  File \"/usr/local/lib/python3.10/dist-packages/IPython/core/ultratb.py\", line 1367, in structured_traceback\n",
            "    return FormattedTB.structured_traceback(\n",
            "  File \"/usr/local/lib/python3.10/dist-packages/IPython/core/ultratb.py\", line 1267, in structured_traceback\n",
            "    return VerboseTB.structured_traceback(\n",
            "  File \"/usr/local/lib/python3.10/dist-packages/IPython/core/ultratb.py\", line 1124, in structured_traceback\n",
            "    formatted_exception = self.format_exception_as_a_whole(etype, evalue, etb, number_of_lines_of_context,\n",
            "  File \"/usr/local/lib/python3.10/dist-packages/IPython/core/ultratb.py\", line 1082, in format_exception_as_a_whole\n",
            "    last_unique, recursion_repeat = find_recursion(orig_etype, evalue, records)\n",
            "  File \"/usr/local/lib/python3.10/dist-packages/IPython/core/ultratb.py\", line 382, in find_recursion\n",
            "    return len(records), 0\n",
            "TypeError: object of type 'NoneType' has no len()\n",
            "\n",
            "During handling of the above exception, another exception occurred:\n",
            "\n",
            "Traceback (most recent call last):\n",
            "  File \"/usr/local/lib/python3.10/dist-packages/IPython/core/interactiveshell.py\", line 2099, in showtraceback\n",
            "    stb = value._render_traceback_()\n",
            "AttributeError: 'TypeError' object has no attribute '_render_traceback_'\n",
            "\n",
            "During handling of the above exception, another exception occurred:\n",
            "\n",
            "Traceback (most recent call last):\n",
            "  File \"/usr/local/lib/python3.10/dist-packages/IPython/core/ultratb.py\", line 1101, in get_records\n",
            "    return _fixed_getinnerframes(etb, number_of_lines_of_context, tb_offset)\n",
            "  File \"/usr/local/lib/python3.10/dist-packages/IPython/core/ultratb.py\", line 248, in wrapped\n",
            "    return f(*args, **kwargs)\n",
            "  File \"/usr/local/lib/python3.10/dist-packages/IPython/core/ultratb.py\", line 281, in _fixed_getinnerframes\n",
            "    records = fix_frame_records_filenames(inspect.getinnerframes(etb, context))\n",
            "  File \"/usr/lib/python3.10/inspect.py\", line 1662, in getinnerframes\n",
            "    frameinfo = (tb.tb_frame,) + getframeinfo(tb, context)\n",
            "  File \"/usr/lib/python3.10/inspect.py\", line 1620, in getframeinfo\n",
            "    filename = getsourcefile(frame) or getfile(frame)\n",
            "  File \"/usr/lib/python3.10/inspect.py\", line 829, in getsourcefile\n",
            "    module = getmodule(object, filename)\n",
            "  File \"/usr/lib/python3.10/inspect.py\", line 861, in getmodule\n",
            "    file = getabsfile(object, _filename)\n",
            "  File \"/usr/lib/python3.10/inspect.py\", line 845, in getabsfile\n",
            "    return os.path.normcase(os.path.abspath(_filename))\n",
            "  File \"/usr/lib/python3.10/posixpath.py\", line 384, in abspath\n",
            "    cwd = os.getcwd()\n",
            "OSError: [Errno 107] Transport endpoint is not connected\n",
            "Traceback (most recent call last):\n",
            "  File \"/usr/local/lib/python3.10/dist-packages/IPython/core/interactiveshell.py\", line 3553, in run_code\n",
            "    exec(code_obj, self.user_global_ns, self.user_ns)\n",
            "  File \"<ipython-input-60-6f2b0a5761ec>\", line 10, in <cell line: 10>\n",
            "    history_model_gray_DA = model_gray_DA.fit(dataset_gray_train,\n",
            "  File \"/usr/local/lib/python3.10/dist-packages/keras/src/utils/traceback_utils.py\", line 70, in error_handler\n",
            "    raise e.with_traceback(filtered_tb) from None\n",
            "  File \"/usr/local/lib/python3.10/dist-packages/tensorflow/python/lib/io/file_io.py\", line 513, in recursive_create_dir_v2\n",
            "    _pywrap_file_io.RecursivelyCreateDir(compat.path_to_bytes(path))\n",
            "tensorflow.python.framework.errors_impl.FailedPreconditionError: . is not a directory\n",
            "\n",
            "During handling of the above exception, another exception occurred:\n",
            "\n",
            "Traceback (most recent call last):\n",
            "  File \"/usr/local/lib/python3.10/dist-packages/IPython/core/interactiveshell.py\", line 2099, in showtraceback\n",
            "    stb = value._render_traceback_()\n",
            "AttributeError: 'FailedPreconditionError' object has no attribute '_render_traceback_'\n",
            "\n",
            "During handling of the above exception, another exception occurred:\n",
            "\n",
            "Traceback (most recent call last):\n",
            "  File \"/usr/local/lib/python3.10/dist-packages/IPython/core/interactiveshell.py\", line 3473, in run_ast_nodes\n",
            "    if (await self.run_code(code, result,  async_=asy)):\n",
            "  File \"/usr/local/lib/python3.10/dist-packages/IPython/core/interactiveshell.py\", line 3575, in run_code\n",
            "    self.showtraceback(running_compiled_code=True)\n",
            "  File \"/usr/local/lib/python3.10/dist-packages/IPython/core/interactiveshell.py\", line 2101, in showtraceback\n",
            "    stb = self.InteractiveTB.structured_traceback(etype,\n",
            "  File \"/usr/local/lib/python3.10/dist-packages/IPython/core/ultratb.py\", line 1367, in structured_traceback\n",
            "    return FormattedTB.structured_traceback(\n",
            "  File \"/usr/local/lib/python3.10/dist-packages/IPython/core/ultratb.py\", line 1267, in structured_traceback\n",
            "    return VerboseTB.structured_traceback(\n",
            "  File \"/usr/local/lib/python3.10/dist-packages/IPython/core/ultratb.py\", line 1124, in structured_traceback\n",
            "    formatted_exception = self.format_exception_as_a_whole(etype, evalue, etb, number_of_lines_of_context,\n",
            "  File \"/usr/local/lib/python3.10/dist-packages/IPython/core/ultratb.py\", line 1082, in format_exception_as_a_whole\n",
            "    last_unique, recursion_repeat = find_recursion(orig_etype, evalue, records)\n",
            "  File \"/usr/local/lib/python3.10/dist-packages/IPython/core/ultratb.py\", line 382, in find_recursion\n",
            "    return len(records), 0\n",
            "TypeError: object of type 'NoneType' has no len()\n",
            "\n",
            "During handling of the above exception, another exception occurred:\n",
            "\n",
            "Traceback (most recent call last):\n",
            "  File \"/usr/local/lib/python3.10/dist-packages/IPython/core/interactiveshell.py\", line 2099, in showtraceback\n",
            "    stb = value._render_traceback_()\n",
            "AttributeError: 'TypeError' object has no attribute '_render_traceback_'\n",
            "\n",
            "During handling of the above exception, another exception occurred:\n",
            "\n",
            "Traceback (most recent call last):\n",
            "  File \"/usr/local/lib/python3.10/dist-packages/IPython/core/interactiveshell.py\", line 3030, in _run_cell\n",
            "    return runner(coro)\n",
            "  File \"/usr/local/lib/python3.10/dist-packages/IPython/core/async_helpers.py\", line 78, in _pseudo_sync_runner\n",
            "    coro.send(None)\n",
            "  File \"/usr/local/lib/python3.10/dist-packages/IPython/core/interactiveshell.py\", line 3257, in run_cell_async\n",
            "    has_raised = await self.run_ast_nodes(code_ast.body, cell_name,\n",
            "  File \"/usr/local/lib/python3.10/dist-packages/IPython/core/interactiveshell.py\", line 3492, in run_ast_nodes\n",
            "    self.showtraceback()\n",
            "  File \"/usr/local/lib/python3.10/dist-packages/IPython/core/interactiveshell.py\", line 2101, in showtraceback\n",
            "    stb = self.InteractiveTB.structured_traceback(etype,\n",
            "  File \"/usr/local/lib/python3.10/dist-packages/IPython/core/ultratb.py\", line 1367, in structured_traceback\n",
            "    return FormattedTB.structured_traceback(\n",
            "  File \"/usr/local/lib/python3.10/dist-packages/IPython/core/ultratb.py\", line 1267, in structured_traceback\n",
            "    return VerboseTB.structured_traceback(\n",
            "  File \"/usr/local/lib/python3.10/dist-packages/IPython/core/ultratb.py\", line 1142, in structured_traceback\n",
            "    formatted_exceptions += self.format_exception_as_a_whole(etype, evalue, etb, lines_of_context,\n",
            "  File \"/usr/local/lib/python3.10/dist-packages/IPython/core/ultratb.py\", line 1082, in format_exception_as_a_whole\n",
            "    last_unique, recursion_repeat = find_recursion(orig_etype, evalue, records)\n",
            "  File \"/usr/local/lib/python3.10/dist-packages/IPython/core/ultratb.py\", line 382, in find_recursion\n",
            "    return len(records), 0\n",
            "TypeError: object of type 'NoneType' has no len()\n",
            "\n",
            "During handling of the above exception, another exception occurred:\n",
            "\n",
            "Traceback (most recent call last):\n",
            "  File \"/usr/local/lib/python3.10/dist-packages/IPython/core/interactiveshell.py\", line 2099, in showtraceback\n",
            "    stb = value._render_traceback_()\n",
            "AttributeError: 'TypeError' object has no attribute '_render_traceback_'\n",
            "\n",
            "During handling of the above exception, another exception occurred:\n",
            "\n",
            "Traceback (most recent call last):\n",
            "  File \"/usr/local/lib/python3.10/dist-packages/IPython/core/ultratb.py\", line 1101, in get_records\n",
            "    return _fixed_getinnerframes(etb, number_of_lines_of_context, tb_offset)\n",
            "  File \"/usr/local/lib/python3.10/dist-packages/IPython/core/ultratb.py\", line 248, in wrapped\n",
            "    return f(*args, **kwargs)\n",
            "  File \"/usr/local/lib/python3.10/dist-packages/IPython/core/ultratb.py\", line 281, in _fixed_getinnerframes\n",
            "    records = fix_frame_records_filenames(inspect.getinnerframes(etb, context))\n",
            "  File \"/usr/lib/python3.10/inspect.py\", line 1662, in getinnerframes\n",
            "    frameinfo = (tb.tb_frame,) + getframeinfo(tb, context)\n",
            "  File \"/usr/lib/python3.10/inspect.py\", line 1620, in getframeinfo\n",
            "    filename = getsourcefile(frame) or getfile(frame)\n",
            "  File \"/usr/lib/python3.10/inspect.py\", line 829, in getsourcefile\n",
            "    module = getmodule(object, filename)\n",
            "  File \"/usr/lib/python3.10/inspect.py\", line 861, in getmodule\n",
            "    file = getabsfile(object, _filename)\n",
            "  File \"/usr/lib/python3.10/inspect.py\", line 845, in getabsfile\n",
            "    return os.path.normcase(os.path.abspath(_filename))\n",
            "  File \"/usr/lib/python3.10/posixpath.py\", line 384, in abspath\n",
            "    cwd = os.getcwd()\n",
            "OSError: [Errno 107] Transport endpoint is not connected\n"
          ]
        }
      ]
    },
    {
      "cell_type": "code",
      "source": [
        "#Hyperparemeters tuning sur VGG16\n",
        "\n",
        "import kerastuner as kt\n",
        "\n",
        "# Création du modèle\n",
        "with tf.device('/gpu:0'):\n",
        "    model_VGG_hp = create_model_fct_klayers_hp(kt.HyperParameters())"
      ],
      "metadata": {
        "id": "onNrQ-f2pp5-",
        "outputId": "45e98fe2-905a-4ec7-e63d-d7e04cc3c153",
        "colab": {
          "base_uri": "https://localhost:8080/"
        }
      },
      "execution_count": 28,
      "outputs": [
        {
          "output_type": "stream",
          "name": "stdout",
          "text": [
            "Model: \"sequential_3\"\n",
            "_________________________________________________________________\n",
            " Layer (type)                Output Shape              Param #   \n",
            "=================================================================\n",
            " sequential_2 (Sequential)   (None, 224, 224, 3)       0         \n",
            "                                                                 \n",
            " rescaling_1 (Rescaling)     (None, 224, 224, 3)       0         \n",
            "                                                                 \n",
            " vgg16 (Functional)          (None, 7, 7, 512)         14714688  \n",
            "                                                                 \n",
            " global_average_pooling2d_1  (None, 512)               0         \n",
            "  (GlobalAveragePooling2D)                                       \n",
            "                                                                 \n",
            " dense_1 (Dense)             (None, 32)                16416     \n",
            "                                                                 \n",
            " dense_2 (Dense)             (None, 7)                 231       \n",
            "                                                                 \n",
            "=================================================================\n",
            "Total params: 14731335 (56.20 MB)\n",
            "Trainable params: 16647 (65.03 KB)\n",
            "Non-trainable params: 14714688 (56.13 MB)\n",
            "_________________________________________________________________\n",
            "None\n"
          ]
        }
      ]
    },
    {
      "cell_type": "code",
      "source": [
        "from kerastuner.tuners import Hyperband\n",
        "\n",
        "tuner = Hyperband(create_model_fct_klayers_hp,\n",
        "objective='val_accuracy',\n",
        "max_epochs=10,\n",
        "factor=3,\n",
        "overwrite=True)\n",
        "\n",
        "callbacks=[keras.callbacks.EarlyStopping(monitor='val_loss',\n",
        "                                         mode='min',\n",
        "                                         patience=3,\n",
        "                                         restore_best_weights=True)]\n",
        "\n",
        "tuner.search(dataset_train,\n",
        "             validation_data=dataset_test,\n",
        "             callbacks=callbacks,\n",
        "             verbose=1,\n",
        "             epochs=10)\n",
        "\n",
        "tuner.results_summary()"
      ],
      "metadata": {
        "id": "A6yB7TSlqNUR",
        "outputId": "7b7010de-5f49-48be-9f78-d1b93796edd1",
        "colab": {
          "base_uri": "https://localhost:8080/"
        }
      },
      "execution_count": 23,
      "outputs": [
        {
          "output_type": "stream",
          "name": "stdout",
          "text": [
            "Model: \"sequential_5\"\n",
            "_________________________________________________________________\n",
            " Layer (type)                Output Shape              Param #   \n",
            "=================================================================\n",
            " sequential_4 (Sequential)   (None, 224, 224, 3)       0         \n",
            "                                                                 \n",
            " rescaling_2 (Rescaling)     (None, 224, 224, 3)       0         \n",
            "                                                                 \n",
            " vgg16 (Functional)          (None, 7, 7, 512)         14714688  \n",
            "                                                                 \n",
            " global_average_pooling2d_2  (None, 512)               0         \n",
            "  (GlobalAveragePooling2D)                                       \n",
            "                                                                 \n",
            " dense_4 (Dense)             (None, 32)                16416     \n",
            "                                                                 \n",
            " dense_5 (Dense)             (None, 7)                 231       \n",
            "                                                                 \n",
            "=================================================================\n",
            "Total params: 14731335 (56.20 MB)\n",
            "Trainable params: 16647 (65.03 KB)\n",
            "Non-trainable params: 14714688 (56.13 MB)\n",
            "_________________________________________________________________\n",
            "None\n"
          ]
        }
      ]
    },
    {
      "cell_type": "code",
      "source": [
        "tuner = kt.RandomSearch(\n",
        "      create_model_fct_klayers_hp,\n",
        "      objective='val_loss',\n",
        "      max_trials=10)"
      ],
      "metadata": {
        "id": "yWBBEUMmyILK",
        "outputId": "fa73ba94-a9b6-455b-a746-5374db5203d7",
        "colab": {
          "base_uri": "https://localhost:8080/"
        }
      },
      "execution_count": 29,
      "outputs": [
        {
          "output_type": "stream",
          "name": "stdout",
          "text": [
            "Reloading Tuner from ./untitled_project/tuner0.json\n"
          ]
        }
      ]
    },
    {
      "cell_type": "code",
      "source": [
        "callbacks=[keras.callbacks.EarlyStopping(monitor='val_loss',\n",
        "                                         mode='min',\n",
        "                                         patience=3,\n",
        "                                         restore_best_weights=True)]\n",
        "\n",
        "tuner.search(dataset_train,\n",
        "             validation_data=dataset_test,\n",
        "             callbacks=callbacks,\n",
        "             verbose=1,\n",
        "             epochs=10)\n",
        "\n",
        "tuner.results_summary()"
      ],
      "metadata": {
        "id": "Z4s3pygNsHdU",
        "outputId": "4f32d027-a1b3-4b87-9911-07b9b497dd64",
        "colab": {
          "base_uri": "https://localhost:8080/"
        }
      },
      "execution_count": null,
      "outputs": [
        {
          "output_type": "stream",
          "name": "stdout",
          "text": [
            "Trial 4 Complete [01h 32m 41s]\n",
            "val_loss: 0.7612987756729126\n",
            "\n",
            "Best val_loss So Far: 0.6571428775787354\n",
            "Total elapsed time: 01h 32m 41s\n",
            "\n",
            "Search: Running Trial #5\n",
            "\n",
            "Value             |Best Value So Far |Hyperparameter\n",
            "224               |704               |units\n",
            "relu              |gelu              |activation\n",
            "True              |False             |dropout\n",
            "0.00035633        |0.00092653        |lr\n",
            "\n",
            "Model: \"sequential_1\"\n",
            "_________________________________________________________________\n",
            " Layer (type)                Output Shape              Param #   \n",
            "=================================================================\n",
            " sequential (Sequential)     (None, 224, 224, 3)       0         \n",
            "                                                                 \n",
            " rescaling (Rescaling)       (None, 224, 224, 3)       0         \n",
            "                                                                 \n",
            " vgg16 (Functional)          (None, 7, 7, 512)         14714688  \n",
            "                                                                 \n",
            " global_average_pooling2d (  (None, 512)               0         \n",
            " GlobalAveragePooling2D)                                         \n",
            "                                                                 \n",
            " dense (Dense)               (None, 224)               114912    \n",
            "                                                                 \n",
            " dense_1 (Dense)             (None, 7)                 1575      \n",
            "                                                                 \n",
            "=================================================================\n",
            "Total params: 14831175 (56.58 MB)\n",
            "Trainable params: 116487 (455.03 KB)\n",
            "Non-trainable params: 14714688 (56.13 MB)\n",
            "_________________________________________________________________\n",
            "None\n",
            "Epoch 1/10\n",
            "20/20 [==============================] - 569s 28s/step - loss: 1.8990 - accuracy: 0.2429 - val_loss: 1.7597 - val_accuracy: 0.4286\n",
            "Epoch 2/10\n",
            "10/20 [==============>...............] - ETA: 3:05 - loss: 1.7826 - accuracy: 0.3719"
          ]
        }
      ]
    },
    {
      "cell_type": "markdown",
      "source": [
        "#Inception <a class=\"anchor\" id='section_2_7' ></a>"
      ],
      "metadata": {
        "id": "0wykkROCI8Ff"
      }
    },
    {
      "cell_type": "code",
      "execution_count": null,
      "metadata": {
        "id": "in40bfd316tq"
      },
      "outputs": [],
      "source": [
        "from keras.applications.inception_v3 import InceptionV3\n",
        "from keras import backend as K\n",
        "\n",
        "# create the base pre-trained model. Exclude the top !!\n",
        "model_inception = InceptionV3(weights='imagenet', include_top=False)\n",
        "\n",
        "for i, layer in enumerate(model_inception.layers):\n",
        "    print (i, layer.name, layer.output_shape)"
      ]
    },
    {
      "cell_type": "code",
      "execution_count": null,
      "metadata": {
        "colab": {
          "base_uri": "https://localhost:8080/"
        },
        "id": "RlNfPupf16mD",
        "outputId": "b561fc31-c88c-48ef-c658-e4c6729f92d3"
      },
      "outputs": [
        {
          "name": "stdout",
          "output_type": "stream",
          "text": [
            "Model: \"sequential_63\"\n",
            "_________________________________________________________________\n",
            " Layer (type)                Output Shape              Param #   \n",
            "=================================================================\n",
            " sequential_62 (Sequential)  (None, 224, 224, 3)       0         \n",
            "                                                                 \n",
            " rescaling_27 (Rescaling)    (None, 224, 224, 3)       0         \n",
            "                                                                 \n",
            " inception_v3 (Functional)   (None, None, None, 2048   21802784  \n",
            "                             )                                   \n",
            "                                                                 \n",
            " global_average_pooling2d_3  (None, 2048)              0         \n",
            " 3 (GlobalAveragePooling2D)                                      \n",
            "                                                                 \n",
            " dense_64 (Dense)            (None, 1024)              2098176   \n",
            "                                                                 \n",
            " dropout_32 (Dropout)        (None, 1024)              0         \n",
            "                                                                 \n",
            " dense_65 (Dense)            (None, 7)                 7175      \n",
            "                                                                 \n",
            "=================================================================\n",
            "Total params: 23908135 (91.20 MB)\n",
            "Trainable params: 2105351 (8.03 MB)\n",
            "Non-trainable params: 21802784 (83.17 MB)\n",
            "_________________________________________________________________\n",
            "None\n"
          ]
        }
      ],
      "source": [
        "# Création du modèle\n",
        "with tf.device('/gpu:0'):\n",
        "    model_inception = create_model_fct2(InceptionV3(weights='imagenet', include_top=False),1024)\n",
        "\n",
        "# Création du callback\n",
        "model_inception_save_path = \"/content/drive/MyDrive/Colab Notebooks/JD_P6_Classifier_automatiquement_des_biens_de_consommation/model_inception_best_weights.h5\"\n",
        "checkpoint = ModelCheckpoint(model_inception_save_path, monitor='val_loss', verbose=1, save_best_only=True, mode='min')\n",
        "es = EarlyStopping(monitor='val_loss', mode='min', verbose=1, patience=3)\n",
        "callbacks_list = [checkpoint, es]"
      ]
    },
    {
      "cell_type": "code",
      "execution_count": null,
      "metadata": {
        "colab": {
          "base_uri": "https://localhost:8080/"
        },
        "id": "tRIyBo3016by",
        "outputId": "d6db3169-d5a1-4f2b-c763-16065c4fb436"
      },
      "outputs": [
        {
          "name": "stdout",
          "output_type": "stream",
          "text": [
            "Epoch 1/50\n",
            "20/20 [==============================] - ETA: 0s - loss: 2.3222 - accuracy: 0.4508\n",
            "Epoch 1: val_loss improved from inf to 0.86560, saving model to /content/drive/MyDrive/Colab Notebooks/JD_P6_Classifier_automatiquement_des_biens_de_consommation//content/drive/MyDrive/Colab Notebooks/JD_P6_Classifier_automatiquement_des_biens_de_consommation/model_inception_best_weights.h5\n",
            "20/20 [==============================] - 205s 8s/step - loss: 2.3222 - accuracy: 0.4508 - val_loss: 0.8656 - val_accuracy: 0.7048\n",
            "Epoch 2/50\n",
            "20/20 [==============================] - ETA: 0s - loss: 0.8954 - accuracy: 0.7079\n",
            "Epoch 2: val_loss improved from 0.86560 to 0.59091, saving model to /content/drive/MyDrive/Colab Notebooks/JD_P6_Classifier_automatiquement_des_biens_de_consommation//content/drive/MyDrive/Colab Notebooks/JD_P6_Classifier_automatiquement_des_biens_de_consommation/model_inception_best_weights.h5\n",
            "20/20 [==============================] - 151s 7s/step - loss: 0.8954 - accuracy: 0.7079 - val_loss: 0.5909 - val_accuracy: 0.7952\n",
            "Epoch 3/50\n",
            "20/20 [==============================] - ETA: 0s - loss: 0.5919 - accuracy: 0.8127\n",
            "Epoch 3: val_loss improved from 0.59091 to 0.57679, saving model to /content/drive/MyDrive/Colab Notebooks/JD_P6_Classifier_automatiquement_des_biens_de_consommation//content/drive/MyDrive/Colab Notebooks/JD_P6_Classifier_automatiquement_des_biens_de_consommation/model_inception_best_weights.h5\n",
            "20/20 [==============================] - 154s 8s/step - loss: 0.5919 - accuracy: 0.8127 - val_loss: 0.5768 - val_accuracy: 0.7952\n",
            "Epoch 4/50\n",
            "20/20 [==============================] - ETA: 0s - loss: 0.5398 - accuracy: 0.8190\n",
            "Epoch 4: val_loss did not improve from 0.57679\n",
            "20/20 [==============================] - 154s 7s/step - loss: 0.5398 - accuracy: 0.8190 - val_loss: 0.6269 - val_accuracy: 0.7952\n",
            "Epoch 5/50\n",
            "20/20 [==============================] - ETA: 0s - loss: 0.4955 - accuracy: 0.8381\n",
            "Epoch 5: val_loss improved from 0.57679 to 0.56624, saving model to /content/drive/MyDrive/Colab Notebooks/JD_P6_Classifier_automatiquement_des_biens_de_consommation//content/drive/MyDrive/Colab Notebooks/JD_P6_Classifier_automatiquement_des_biens_de_consommation/model_inception_best_weights.h5\n",
            "20/20 [==============================] - 175s 8s/step - loss: 0.4955 - accuracy: 0.8381 - val_loss: 0.5662 - val_accuracy: 0.8048\n",
            "Epoch 6/50\n",
            "20/20 [==============================] - ETA: 0s - loss: 0.4654 - accuracy: 0.8397\n",
            "Epoch 6: val_loss did not improve from 0.56624\n",
            "20/20 [==============================] - 138s 7s/step - loss: 0.4654 - accuracy: 0.8397 - val_loss: 0.7965 - val_accuracy: 0.7619\n",
            "Epoch 7/50\n",
            "20/20 [==============================] - ETA: 0s - loss: 0.3627 - accuracy: 0.8635\n",
            "Epoch 7: val_loss improved from 0.56624 to 0.51921, saving model to /content/drive/MyDrive/Colab Notebooks/JD_P6_Classifier_automatiquement_des_biens_de_consommation//content/drive/MyDrive/Colab Notebooks/JD_P6_Classifier_automatiquement_des_biens_de_consommation/model_inception_best_weights.h5\n",
            "20/20 [==============================] - 125s 6s/step - loss: 0.3627 - accuracy: 0.8635 - val_loss: 0.5192 - val_accuracy: 0.8190\n",
            "Epoch 8/50\n",
            "20/20 [==============================] - ETA: 0s - loss: 0.3329 - accuracy: 0.8937\n",
            "Epoch 8: val_loss did not improve from 0.51921\n",
            "20/20 [==============================] - 139s 7s/step - loss: 0.3329 - accuracy: 0.8937 - val_loss: 0.5502 - val_accuracy: 0.8476\n",
            "Epoch 9/50\n",
            "20/20 [==============================] - ETA: 0s - loss: 0.3206 - accuracy: 0.8810\n",
            "Epoch 9: val_loss did not improve from 0.51921\n",
            "20/20 [==============================] - 128s 6s/step - loss: 0.3206 - accuracy: 0.8810 - val_loss: 0.6207 - val_accuracy: 0.7952\n",
            "Epoch 10/50\n",
            "20/20 [==============================] - ETA: 0s - loss: 0.3851 - accuracy: 0.8794\n",
            "Epoch 10: val_loss did not improve from 0.51921\n",
            "20/20 [==============================] - 137s 7s/step - loss: 0.3851 - accuracy: 0.8794 - val_loss: 0.7413 - val_accuracy: 0.7619\n",
            "Epoch 10: early stopping\n"
          ]
        }
      ],
      "source": [
        "with tf.device('/gpu:0'):\n",
        "    history_inception = model_inception.fit(dataset_train,\n",
        "                    validation_data=dataset_val,\n",
        "                    batch_size=batch_size, epochs=50, callbacks=callbacks_list, verbose=1)"
      ]
    },
    {
      "cell_type": "code",
      "execution_count": null,
      "metadata": {
        "colab": {
          "base_uri": "https://localhost:8080/"
        },
        "id": "tGfUPCMu6vfL",
        "outputId": "deb47f33-c665-4ddc-dc4d-f4e3179f1e4a"
      },
      "outputs": [
        {
          "name": "stdout",
          "output_type": "stream",
          "text": [
            "20/20 [==============================] - 94s 4s/step - loss: 0.2503 - accuracy: 0.9143\n",
            "Training Accuracy   : 0.9143\n",
            "\n",
            "7/7 [==============================] - 31s 4s/step - loss: 0.7413 - accuracy: 0.7619\n",
            "Validation Accuracy :  0.7619\n"
          ]
        }
      ],
      "source": [
        "loss, accuracy = model_inception.evaluate(dataset_train, verbose=True)\n",
        "print(\"Training Accuracy   : {:.4f}\".format(accuracy))\n",
        "print()\n",
        "loss, accuracy = model_inception.evaluate(dataset_val, verbose=True)\n",
        "print(\"Validation Accuracy :  {:.4f}\".format(accuracy))"
      ]
    },
    {
      "cell_type": "code",
      "execution_count": null,
      "metadata": {
        "colab": {
          "base_uri": "https://localhost:8080/",
          "height": 528
        },
        "id": "ZfEHqXph7Abk",
        "outputId": "2d78969f-a507-470c-d218-64751264f5d6"
      },
      "outputs": [
        {
          "data": {
            "image/png": "[encoded data removed]",
            "text/plain": [
              "<Figure size 1000x500 with 2 Axes>"
            ]
          },
          "metadata": {},
          "output_type": "display_data"
        }
      ],
      "source": [
        "show_history(history_inception)\n",
        "plot_history(history_inception, path=\"standard.png\")\n",
        "plt.close()"
      ]
    },
    {
      "cell_type": "code",
      "execution_count": null,
      "metadata": {
        "colab": {
          "base_uri": "https://localhost:8080/"
        },
        "id": "00u6Onb0t24J",
        "outputId": "8db76de8-5193-4b3e-e98a-2fc2266d09a8"
      },
      "outputs": [
        {
          "name": "stdout",
          "output_type": "stream",
          "text": [
            "Model: \"sequential_1\"\n",
            "_________________________________________________________________\n",
            " Layer (type)                Output Shape              Param #   \n",
            "=================================================================\n",
            " sequential (Sequential)     (None, 224, 224, 3)       0         \n",
            "                                                                 \n",
            " rescaling (Rescaling)       (None, 224, 224, 3)       0         \n",
            "                                                                 \n",
            " inception_v3 (Functional)   (None, 5, 5, 2048)        21802784  \n",
            "                                                                 \n",
            " global_average_pooling2d (  (None, 2048)              0         \n",
            " GlobalAveragePooling2D)                                         \n",
            "                                                                 \n",
            " dense (Dense)               (None, 1024)              2098176   \n",
            "                                                                 \n",
            " dropout (Dropout)           (None, 1024)              0         \n",
            "                                                                 \n",
            " dense_1 (Dense)             (None, 7)                 7175      \n",
            "                                                                 \n",
            "=================================================================\n",
            "Total params: 23908135 (91.20 MB)\n",
            "Trainable params: 2105351 (8.03 MB)\n",
            "Non-trainable params: 21802784 (83.17 MB)\n",
            "_________________________________________________________________\n",
            "None\n",
            "Epoch 1/50\n",
            "20/20 [==============================] - ETA: 0s - loss: 1.4788 - accuracy: 0.5810\n",
            "Epoch 1: val_loss improved from inf to 0.79540, saving model to /content/drive/MyDrive/Colab Notebooks/JD_P6_Classifier_automatiquement_des_biens_de_consommation//content/drive/MyDrive/Colab Notebooks/JD_P6_Classifier_automatiquement_des_biens_de_consommation/model_inception_DA_best_weights.h5\n"
          ]
        },
        {
          "name": "stderr",
          "output_type": "stream",
          "text": [
            "/usr/local/lib/python3.10/dist-packages/keras/src/engine/training.py:3000: UserWarning: You are saving your model as an HDF5 file via `model.save()`. This file format is considered legacy. We recommend using instead the native Keras format, e.g. `model.save('my_model.keras')`.\n",
            "  saving_api.save_model(\n"
          ]
        },
        {
          "name": "stdout",
          "output_type": "stream",
          "text": [
            "\b\b\b\b\b\b\b\b\b\b\b\b\b\b\b\b\b\b\b\b\b\b\b\b\b\b\b\b\b\b\b\b\b\b\b\b\b\b\b\b\b\b\b\b\b\b\b\b\b\b\b\b\b\b\b\b\b\b\b\b\b\b\b\b\b\b\b\b\b\b\b\b\b\b\b\b\b\b\b\b\b\b\r20/20 [==============================] - 257s 10s/step - loss: 1.4788 - accuracy: 0.5810 - val_loss: 0.7954 - val_accuracy: 0.7381\n",
            "Epoch 2/50\n",
            "20/20 [==============================] - ETA: 0s - loss: 0.7678 - accuracy: 0.7905\n",
            "Epoch 2: val_loss improved from 0.79540 to 0.71522, saving model to /content/drive/MyDrive/Colab Notebooks/JD_P6_Classifier_automatiquement_des_biens_de_consommation//content/drive/MyDrive/Colab Notebooks/JD_P6_Classifier_automatiquement_des_biens_de_consommation/model_inception_DA_best_weights.h5\n",
            "20/20 [==============================] - 106s 5s/step - loss: 0.7678 - accuracy: 0.7905 - val_loss: 0.7152 - val_accuracy: 0.7810\n",
            "Epoch 3/50\n",
            "20/20 [==============================] - ETA: 0s - loss: 0.5637 - accuracy: 0.8111\n",
            "Epoch 3: val_loss did not improve from 0.71522\n",
            "20/20 [==============================] - 103s 5s/step - loss: 0.5637 - accuracy: 0.8111 - val_loss: 0.9889 - val_accuracy: 0.7238\n",
            "Epoch 4/50\n",
            "20/20 [==============================] - ETA: 0s - loss: 0.3571 - accuracy: 0.8794\n",
            "Epoch 4: val_loss improved from 0.71522 to 0.64822, saving model to /content/drive/MyDrive/Colab Notebooks/JD_P6_Classifier_automatiquement_des_biens_de_consommation//content/drive/MyDrive/Colab Notebooks/JD_P6_Classifier_automatiquement_des_biens_de_consommation/model_inception_DA_best_weights.h5\n",
            "20/20 [==============================] - 103s 5s/step - loss: 0.3571 - accuracy: 0.8794 - val_loss: 0.6482 - val_accuracy: 0.8000\n",
            "Epoch 5/50\n",
            "20/20 [==============================] - ETA: 0s - loss: 0.2803 - accuracy: 0.9079\n",
            "Epoch 5: val_loss improved from 0.64822 to 0.56040, saving model to /content/drive/MyDrive/Colab Notebooks/JD_P6_Classifier_automatiquement_des_biens_de_consommation//content/drive/MyDrive/Colab Notebooks/JD_P6_Classifier_automatiquement_des_biens_de_consommation/model_inception_DA_best_weights.h5\n",
            "20/20 [==============================] - 120s 6s/step - loss: 0.2803 - accuracy: 0.9079 - val_loss: 0.5604 - val_accuracy: 0.8190\n",
            "Epoch 6/50\n",
            "20/20 [==============================] - ETA: 0s - loss: 0.2451 - accuracy: 0.9143\n",
            "Epoch 6: val_loss did not improve from 0.56040\n",
            "20/20 [==============================] - 119s 6s/step - loss: 0.2451 - accuracy: 0.9143 - val_loss: 0.6179 - val_accuracy: 0.8190\n",
            "Epoch 7/50\n",
            "20/20 [==============================] - ETA: 0s - loss: 0.2489 - accuracy: 0.9143\n",
            "Epoch 7: val_loss did not improve from 0.56040\n",
            "20/20 [==============================] - 123s 6s/step - loss: 0.2489 - accuracy: 0.9143 - val_loss: 0.5880 - val_accuracy: 0.8333\n",
            "Epoch 8/50\n",
            "20/20 [==============================] - ETA: 0s - loss: 0.1807 - accuracy: 0.9429\n",
            "Epoch 8: val_loss did not improve from 0.56040\n",
            "20/20 [==============================] - 118s 6s/step - loss: 0.1807 - accuracy: 0.9429 - val_loss: 0.5763 - val_accuracy: 0.8429\n",
            "Epoch 8: early stopping\n"
          ]
        }
      ],
      "source": [
        "# Création du modèle\n",
        "with tf.device('/gpu:0'):\n",
        "    model_inception_DA = create_model_fct_klayers()\n",
        "\n",
        "# Création du callback\n",
        "model_inception_DA_save_path = \"/content/drive/MyDrive/Colab Notebooks/JD_P6_Classifier_automatiquement_des_biens_de_consommation//content/drive/MyDrive/Colab Notebooks/JD_P6_Classifier_automatiquement_des_biens_de_consommation/model_inception_DA_best_weights.h5\"\n",
        "checkpoint = ModelCheckpoint(model_inception_DA_save_path, monitor='val_loss', verbose=1, save_best_only=True, mode='min')\n",
        "es = EarlyStopping(monitor='val_loss', mode='min', verbose=1, patience=3)\n",
        "callbacks_list = [checkpoint, es]\n",
        "\n",
        "with tf.device('/gpu:0'):\n",
        "    history_inception_augmented = model_inception_DA.fit(dataset_train,\n",
        "                    validation_data=dataset_val,\n",
        "                    batch_size=batch_size, epochs=50, callbacks=callbacks_list, verbose=1)"
      ]
    },
    {
      "cell_type": "code",
      "execution_count": null,
      "metadata": {
        "colab": {
          "base_uri": "https://localhost:8080/"
        },
        "id": "JjcyG5qVbLa9",
        "outputId": "ef45470e-5aae-46a8-e01f-23eb1163088b"
      },
      "outputs": [
        {
          "name": "stdout",
          "output_type": "stream",
          "text": [
            "20/20 [==============================] - 90s 4s/step - loss: 0.0806 - accuracy: 0.9762\n",
            "Training Accuracy   : 0.9762\n",
            "\n",
            "7/7 [==============================] - 39s 5s/step - loss: 0.5763 - accuracy: 0.8429\n",
            "Validation Accuracy :  0.8429\n"
          ]
        }
      ],
      "source": [
        "loss, accuracy = model_inception_DA.evaluate(dataset_train, verbose=True)\n",
        "print(\"Training Accuracy   : {:.4f}\".format(accuracy))\n",
        "print()\n",
        "loss, accuracy = model_inception_DA.evaluate(dataset_val, verbose=True)\n",
        "print(\"Validation Accuracy :  {:.4f}\".format(accuracy))"
      ]
    },
    {
      "cell_type": "code",
      "execution_count": null,
      "metadata": {
        "id": "HP1es3YB_fdQ"
      },
      "outputs": [],
      "source": [
        "with tf.device('/gpu:0'):\n",
        "    history_inception_DA = model_inception_DA.fit(dataset_train,\n",
        "                    validation_data=dataset_val,\n",
        "                    batch_size=batch_size, epochs=50, callbacks=callbacks_list, verbose=1)"
      ]
    },
    {
      "cell_type": "code",
      "execution_count": null,
      "metadata": {
        "colab": {
          "base_uri": "https://localhost:8080/"
        },
        "id": "kwYoYdb4My4P",
        "outputId": "53a52806-4589-4d46-ab6a-a486c54ef23b"
      },
      "outputs": [
        {
          "name": "stdout",
          "output_type": "stream",
          "text": [
            "Model: \"sequential_11\"\n",
            "_________________________________________________________________\n",
            " Layer (type)                Output Shape              Param #   \n",
            "=================================================================\n",
            " sequential_10 (Sequential)  (None, 224, 224, 3)       0         \n",
            "                                                                 \n",
            " rescaling_5 (Rescaling)     (None, 224, 224, 3)       0         \n",
            "                                                                 \n",
            " vgg16 (Functional)          (None, 7, 7, 512)         14714688  \n",
            "                                                                 \n",
            " global_average_pooling2d_5  (None, 512)               0         \n",
            "  (GlobalAveragePooling2D)                                       \n",
            "                                                                 \n",
            " dense_9 (Dense)             (None, 32)                16416     \n",
            "                                                                 \n",
            " dense_10 (Dense)            (None, 7)                 231       \n",
            "                                                                 \n",
            "=================================================================\n",
            "Total params: 14731335 (56.20 MB)\n",
            "Trainable params: 16647 (65.03 KB)\n",
            "Non-trainable params: 14714688 (56.13 MB)\n",
            "_________________________________________________________________\n",
            "None\n"
          ]
        },
        {
          "data": {
            "text/plain": [
              "<keras.src.engine.sequential.Sequential at 0x782e75e46bc0>"
            ]
          },
          "execution_count": 62,
          "metadata": {},
          "output_type": "execute_result"
        }
      ],
      "source": [
        "create_model_fct_klayers_hp(kt.HyperParameters())"
      ]
    },
    {
      "cell_type": "code",
      "execution_count": null,
      "metadata": {
        "id": "mh7LlYccbLRv"
      },
      "outputs": [],
      "source": [
        "show_history(history_inception_augmented)\n",
        "plot_history(history_inception_augmented, path=\"standard.png\")\n",
        "plt.close()"
      ]
    },
    {
      "cell_type": "code",
      "execution_count": null,
      "metadata": {
        "colab": {
          "base_uri": "https://localhost:8080/"
        },
        "id": "6tJ2z9uzqzL8",
        "outputId": "d42f8071-d71f-4024-85b9-28b1afd4f219"
      },
      "outputs": [
        {
          "name": "stdout",
          "output_type": "stream",
          "text": [
            "Model: \"sequential_7\"\n",
            "_________________________________________________________________\n",
            " Layer (type)                Output Shape              Param #   \n",
            "=================================================================\n",
            " sequential_6 (Sequential)   (None, 224, 224, 3)       0         \n",
            "                                                                 \n",
            " rescaling_3 (Rescaling)     (None, 224, 224, 3)       0         \n",
            "                                                                 \n",
            " inception_v3 (Functional)   (None, 5, 5, 2048)        21802784  \n",
            "                                                                 \n",
            " global_average_pooling2d_3  (None, 2048)              0         \n",
            "  (GlobalAveragePooling2D)                                       \n",
            "                                                                 \n",
            " dense_5 (Dense)             (None, 32)                65568     \n",
            "                                                                 \n",
            " dense_6 (Dense)             (None, 7)                 231       \n",
            "                                                                 \n",
            "=================================================================\n",
            "Total params: 21868583 (83.42 MB)\n",
            "Trainable params: 65799 (257.03 KB)\n",
            "Non-trainable params: 21802784 (83.17 MB)\n",
            "_________________________________________________________________\n",
            "None\n"
          ]
        },
        {
          "data": {
            "text/plain": [
              "<keras.src.engine.sequential.Sequential at 0x782e7959ae30>"
            ]
          },
          "execution_count": 58,
          "metadata": {},
          "output_type": "execute_result"
        }
      ],
      "source": [
        "create_model_fct_klayers_hp(kt.HyperParameters(),model_base = InceptionV3(weights='imagenet', include_top=False, input_shape=(224, 224, 3)))"
      ]
    },
    {
      "cell_type": "code",
      "execution_count": null,
      "metadata": {
        "colab": {
          "base_uri": "https://localhost:8080/"
        },
        "id": "0hbbJwVGr8kx",
        "outputId": "c5c4eb0d-319c-4789-8d11-096bed3852cf"
      },
      "outputs": [
        {
          "name": "stdout",
          "output_type": "stream",
          "text": [
            "Model: \"sequential_13\"\n",
            "_________________________________________________________________\n",
            " Layer (type)                Output Shape              Param #   \n",
            "=================================================================\n",
            " sequential_12 (Sequential)  (None, 224, 224, 3)       0         \n",
            "                                                                 \n",
            " rescaling_6 (Rescaling)     (None, 224, 224, 3)       0         \n",
            "                                                                 \n",
            " inception_v3 (Functional)   (None, 5, 5, 2048)        21802784  \n",
            "                                                                 \n",
            " global_average_pooling2d_6  (None, 2048)              0         \n",
            "  (GlobalAveragePooling2D)                                       \n",
            "                                                                 \n",
            " dense_8 (Dense)             (None, 32)                65568     \n",
            "                                                                 \n",
            " dense_9 (Dense)             (None, 7)                 231       \n",
            "                                                                 \n",
            "=================================================================\n",
            "Total params: 21868583 (83.42 MB)\n",
            "Trainable params: 65799 (257.03 KB)\n",
            "Non-trainable params: 21802784 (83.17 MB)\n",
            "_________________________________________________________________\n",
            "None\n"
          ]
        }
      ],
      "source": [
        "tuner = kt.RandomSearch(\n",
        "      create_model_fct_klayers_hp,\n",
        "      objective='val_loss',\n",
        "      max_trials=10)"
      ]
    },
    {
      "cell_type": "code",
      "execution_count": null,
      "metadata": {
        "colab": {
          "base_uri": "https://localhost:8080/"
        },
        "id": "OzpBpKzWs74R",
        "outputId": "7132531c-58a9-4af1-e0f6-0b399c77cc28"
      },
      "outputs": [
        {
          "name": "stdout",
          "output_type": "stream",
          "text": [
            "Trial 10 Complete [00h 00m 06s]\n",
            "\n",
            "Best val_loss So Far: 0.5331029891967773\n",
            "Total elapsed time: 00h 42m 46s\n"
          ]
        }
      ],
      "source": [
        "tuner.search(dataset_train, epochs=5, validation_data = dataset_val, verbose = 1)"
      ]
    },
    {
      "cell_type": "code",
      "execution_count": null,
      "metadata": {
        "id": "jETcNSpT5ZRr"
      },
      "outputs": [],
      "source": [
        "best_hps=tuner.get_best_hyperparameters(num_trials=1)[0]"
      ]
    },
    {
      "cell_type": "code",
      "execution_count": null,
      "metadata": {
        "colab": {
          "base_uri": "https://localhost:8080/"
        },
        "id": "NEiu18VG5pTY",
        "outputId": "64490e91-7d4a-4dff-ab90-fee7362be05f"
      },
      "outputs": [
        {
          "name": "stdout",
          "output_type": "stream",
          "text": [
            "\n",
            "The hyperparameter search is complete. The optimal number of units in the first densely-connected\n",
            "layer is 480 and the optimal learning rate for the optimizer\n",
            "is 0.0003975834555321742, and the optimal activation function is relu.\n",
            "\n"
          ]
        }
      ],
      "source": [
        "print(f\"\"\"\n",
        "The hyperparameter search is complete. The optimal number of units in the first densely-connected\n",
        "layer is {best_hps.get('units')} and the optimal learning rate for the optimizer\n",
        "is {best_hps.get('lr')}, and the optimal activation function is {best_hps.get('activation')}.\n",
        "\"\"\")"
      ]
    },
    {
      "cell_type": "code",
      "execution_count": null,
      "metadata": {
        "colab": {
          "base_uri": "https://localhost:8080/"
        },
        "id": "YL6D4HXS-NwK",
        "outputId": "03e4e3d8-a49e-4f3a-d7b1-efe45386a861"
      },
      "outputs": [
        {
          "name": "stdout",
          "output_type": "stream",
          "text": [
            "Model: \"sequential_3\"\n",
            "_________________________________________________________________\n",
            " Layer (type)                Output Shape              Param #   \n",
            "=================================================================\n",
            " sequential_2 (Sequential)   (None, 224, 224, 3)       0         \n",
            "                                                                 \n",
            " rescaling_1 (Rescaling)     (None, 224, 224, 3)       0         \n",
            "                                                                 \n",
            " inception_v3 (Functional)   (None, 5, 5, 2048)        21802784  \n",
            "                                                                 \n",
            " global_average_pooling2d_1  (None, 2048)              0         \n",
            "  (GlobalAveragePooling2D)                                       \n",
            "                                                                 \n",
            " dense_1 (Dense)             (None, 480)               983520    \n",
            "                                                                 \n",
            " dense_2 (Dense)             (None, 7)                 3367      \n",
            "                                                                 \n",
            "=================================================================\n",
            "Total params: 22789671 (86.94 MB)\n",
            "Trainable params: 986887 (3.76 MB)\n",
            "Non-trainable params: 21802784 (83.17 MB)\n",
            "_________________________________________________________________\n",
            "None\n"
          ]
        }
      ],
      "source": [
        "# Création du modèle\n",
        "with tf.device('/gpu:0'):\n",
        "    model_inception_DA_hps = create_model_fct_klayers_hp(best_hps)\n",
        "\n",
        "# Création du callback\n",
        "model_inception_DA_hps_save_path = \"./model_inception_DA_hp_best_weights.h5\"\n",
        "checkpoint = ModelCheckpoint(model_VGG_DA_hps_save_path, monitor='val_loss', verbose=1, save_best_only=True, mode='min')\n",
        "es = EarlyStopping(monitor='val_loss', mode='min', verbose=1, patience=3)\n",
        "callbacks_list = [checkpoint, es]"
      ]
    },
    {
      "cell_type": "markdown",
      "source": [
        "#Resnet <a class=\"anchor\" id='section_2_8' ></a>"
      ],
      "metadata": {
        "id": "bDRy3AOnJFy5"
      }
    },
    {
      "cell_type": "code",
      "execution_count": null,
      "metadata": {
        "id": "wY77ui015nTy"
      },
      "outputs": [],
      "source": [
        "from tensorflow.keras.applications.resnet50 import ResNet50\n",
        "\n",
        "\n",
        "# create the base pre-trained model. Exclude the top !!\n",
        "model_resnet = ResNet50(weights='imagenet', include_top=False)\n",
        "\n",
        "for i, layer in enumerate(model_resnet.layers):\n",
        "    print (i, layer.name, layer.output_shape)"
      ]
    },
    {
      "cell_type": "code",
      "execution_count": null,
      "metadata": {
        "colab": {
          "base_uri": "https://localhost:8080/"
        },
        "id": "wuQjZuJA5nMz",
        "outputId": "04760bfe-90ee-4ba6-b06f-add0bba33d38"
      },
      "outputs": [
        {
          "name": "stdout",
          "output_type": "stream",
          "text": [
            "Model: \"sequential_7\"\n",
            "_________________________________________________________________\n",
            " Layer (type)                Output Shape              Param #   \n",
            "=================================================================\n",
            " sequential_6 (Sequential)   (None, 224, 224, 3)       0         \n",
            "                                                                 \n",
            " rescaling_3 (Rescaling)     (None, 224, 224, 3)       0         \n",
            "                                                                 \n",
            " resnet50 (Functional)       (None, None, None, 2048)  23587712  \n",
            "                                                                 \n",
            " global_average_pooling2d_3   (None, 2048)             0         \n",
            " (GlobalAveragePooling2D)                                        \n",
            "                                                                 \n",
            " dense_6 (Dense)             (None, 1024)              2098176   \n",
            "                                                                 \n",
            " dropout_3 (Dropout)         (None, 1024)              0         \n",
            "                                                                 \n",
            " dense_7 (Dense)             (None, 7)                 7175      \n",
            "                                                                 \n",
            "=================================================================\n",
            "Total params: 25,693,063\n",
            "Trainable params: 2,105,351\n",
            "Non-trainable params: 23,587,712\n",
            "_________________________________________________________________\n",
            "None\n"
          ]
        }
      ],
      "source": [
        "# Création du modèle\n",
        "with tf.device('/gpu:0'):\n",
        "    model_resnet = create_model_fct2(ResNet50(weights='imagenet', include_top=False),1024)\n",
        "\n",
        "# Création du callback\n",
        "model_resnet_save_path = \"/content/drive/MyDrive/Colab Notebooks/JD_P6_Classifier_automatiquement_des_biens_de_consommation//content/drive/MyDrive/Colab Notebooks/JD_P6_Classifier_automatiquement_des_biens_de_consommation/model_resnet50_best_weights.h5\"\n",
        "checkpoint = ModelCheckpoint(model_resnet_save_path, monitor='val_loss', verbose=1, save_best_only=True, mode='min')\n",
        "es = EarlyStopping(monitor='val_loss', mode='min', verbose=1, patience=3)\n",
        "callbacks_list = [checkpoint, es]"
      ]
    },
    {
      "cell_type": "code",
      "execution_count": null,
      "metadata": {
        "colab": {
          "base_uri": "https://localhost:8080/"
        },
        "id": "WKp_z3Iv5nCk",
        "outputId": "9d8d1de1-8706-440f-e906-51ae85790c0f"
      },
      "outputs": [
        {
          "name": "stdout",
          "output_type": "stream",
          "text": [
            "Epoch 1/50\n",
            "20/20 [==============================] - ETA: 0s - loss: 2.0671 - accuracy: 0.2302\n",
            "Epoch 1: val_loss improved from inf to 1.74742, saving model to /content/drive/MyDrive/Colab Notebooks/JD_P6_Classifier_automatiquement_des_biens_de_consommation//content/drive/MyDrive/Colab Notebooks/JD_P6_Classifier_automatiquement_des_biens_de_consommation/model_resnet50_best_weights.h5\n",
            "20/20 [==============================] - 239s 12s/step - loss: 2.0671 - accuracy: 0.2302 - val_loss: 1.7474 - val_accuracy: 0.2952\n",
            "Epoch 2/50\n",
            "20/20 [==============================] - ETA: 0s - loss: 1.7536 - accuracy: 0.3333\n",
            "Epoch 2: val_loss improved from 1.74742 to 1.72126, saving model to /content/drive/MyDrive/Colab Notebooks/JD_P6_Classifier_automatiquement_des_biens_de_consommation//content/drive/MyDrive/Colab Notebooks/JD_P6_Classifier_automatiquement_des_biens_de_consommation/model_resnet50_best_weights.h5\n",
            "20/20 [==============================] - 236s 12s/step - loss: 1.7536 - accuracy: 0.3333 - val_loss: 1.7213 - val_accuracy: 0.3238\n",
            "Epoch 3/50\n",
            "20/20 [==============================] - ETA: 0s - loss: 1.6743 - accuracy: 0.3746\n",
            "Epoch 3: val_loss improved from 1.72126 to 1.66028, saving model to /content/drive/MyDrive/Colab Notebooks/JD_P6_Classifier_automatiquement_des_biens_de_consommation//content/drive/MyDrive/Colab Notebooks/JD_P6_Classifier_automatiquement_des_biens_de_consommation/model_resnet50_best_weights.h5\n",
            "20/20 [==============================] - 229s 11s/step - loss: 1.6743 - accuracy: 0.3746 - val_loss: 1.6603 - val_accuracy: 0.3857\n",
            "Epoch 4/50\n",
            "20/20 [==============================] - ETA: 0s - loss: 1.5474 - accuracy: 0.4063\n",
            "Epoch 4: val_loss improved from 1.66028 to 1.55900, saving model to /content/drive/MyDrive/Colab Notebooks/JD_P6_Classifier_automatiquement_des_biens_de_consommation//content/drive/MyDrive/Colab Notebooks/JD_P6_Classifier_automatiquement_des_biens_de_consommation/model_resnet50_best_weights.h5\n",
            "20/20 [==============================] - 229s 11s/step - loss: 1.5474 - accuracy: 0.4063 - val_loss: 1.5590 - val_accuracy: 0.4619\n",
            "Epoch 5/50\n",
            "20/20 [==============================] - ETA: 0s - loss: 1.5187 - accuracy: 0.4175\n",
            "Epoch 5: val_loss did not improve from 1.55900\n",
            "20/20 [==============================] - 191s 9s/step - loss: 1.5187 - accuracy: 0.4175 - val_loss: 1.6137 - val_accuracy: 0.3857\n",
            "Epoch 6/50\n",
            "20/20 [==============================] - ETA: 0s - loss: 1.4714 - accuracy: 0.4381\n",
            "Epoch 6: val_loss did not improve from 1.55900\n",
            "20/20 [==============================] - 228s 11s/step - loss: 1.4714 - accuracy: 0.4381 - val_loss: 1.5816 - val_accuracy: 0.4190\n",
            "Epoch 7/50\n",
            "20/20 [==============================] - ETA: 0s - loss: 1.4577 - accuracy: 0.4381\n",
            "Epoch 7: val_loss did not improve from 1.55900\n",
            "20/20 [==============================] - 192s 9s/step - loss: 1.4577 - accuracy: 0.4381 - val_loss: 1.6474 - val_accuracy: 0.3714\n",
            "Epoch 7: early stopping\n"
          ]
        }
      ],
      "source": [
        "with tf.device('/gpu:0'):\n",
        "    history_resnet = model_resnet.fit(dataset_train,\n",
        "                    validation_data=dataset_val,\n",
        "                    batch_size=batch_size, epochs=50, callbacks=callbacks_list, verbose=1)"
      ]
    },
    {
      "cell_type": "code",
      "execution_count": null,
      "metadata": {
        "colab": {
          "base_uri": "https://localhost:8080/"
        },
        "id": "9FoKZi2Y45zk",
        "outputId": "2565d830-ca8f-4762-c4b2-398e07926dcf"
      },
      "outputs": [
        {
          "name": "stdout",
          "output_type": "stream",
          "text": [
            "20/20 [==============================] - 168s 7s/step - loss: 1.3192 - accuracy: 0.4857\n",
            "Training Accuracy   : 0.4857\n",
            "\n",
            "7/7 [==============================] - 49s 6s/step - loss: 1.6474 - accuracy: 0.3714\n",
            "Validation Accuracy :  0.3714\n"
          ]
        }
      ],
      "source": [
        "loss, accuracy = model_resnet.evaluate(dataset_train, verbose=True)\n",
        "print(\"Training Accuracy   : {:.4f}\".format(accuracy))\n",
        "print()\n",
        "loss, accuracy = model_resnet.evaluate(dataset_val, verbose=True)\n",
        "print(\"Validation Accuracy :  {:.4f}\".format(accuracy))"
      ]
    },
    {
      "cell_type": "code",
      "execution_count": null,
      "metadata": {
        "colab": {
          "base_uri": "https://localhost:8080/",
          "height": 528
        },
        "id": "i9MBzF-P45nM",
        "outputId": "25e057fd-0592-4a6c-f98c-0202a8a76bee"
      },
      "outputs": [
        {
          "data": {
            "image/png": "[encoded data removed]",
            "text/plain": [
              "<Figure size 1000x500 with 2 Axes>"
            ]
          },
          "metadata": {},
          "output_type": "display_data"
        }
      ],
      "source": [
        "show_history(history_resnet)\n",
        "plot_history(history_resnet, path=\"standard.png\")\n",
        "plt.close()"
      ]
    },
    {
      "cell_type": "code",
      "execution_count": null,
      "metadata": {
        "colab": {
          "base_uri": "https://localhost:8080/"
        },
        "id": "bRI1cER1vDIx",
        "outputId": "ece07f8e-a250-4f81-c3ed-487b35712b7f"
      },
      "outputs": [
        {
          "name": "stdout",
          "output_type": "stream",
          "text": [
            "Model: \"sequential_3\"\n",
            "_________________________________________________________________\n",
            " Layer (type)                Output Shape              Param #   \n",
            "=================================================================\n",
            " sequential_2 (Sequential)   (None, 224, 224, 3)       0         \n",
            "                                                                 \n",
            " rescaling_1 (Rescaling)     (None, 224, 224, 3)       0         \n",
            "                                                                 \n",
            " inception_v3 (Functional)   (None, 5, 5, 2048)        21802784  \n",
            "                                                                 \n",
            " global_average_pooling2d_1  (None, 2048)              0         \n",
            "  (GlobalAveragePooling2D)                                       \n",
            "                                                                 \n",
            " dense_2 (Dense)             (None, 1024)              2098176   \n",
            "                                                                 \n",
            " dropout_1 (Dropout)         (None, 1024)              0         \n",
            "                                                                 \n",
            " dense_3 (Dense)             (None, 7)                 7175      \n",
            "                                                                 \n",
            "=================================================================\n",
            "Total params: 23908135 (91.20 MB)\n",
            "Trainable params: 2105351 (8.03 MB)\n",
            "Non-trainable params: 21802784 (83.17 MB)\n",
            "_________________________________________________________________\n",
            "None\n"
          ]
        }
      ],
      "source": [
        "# Création du modèle\n",
        "with tf.device('/gpu:0'):\n",
        "    model_resnet_DA = create_model_fct_klayers(ResNet50(weights='imagenet', include_top=False),1024)\n",
        "\n",
        "# Création du callback\n",
        "model_resnet_DA_save_path = \"/content/drive/MyDrive/Colab Notebooks/JD_P6_Classifier_automatiquement_des_biens_de_consommation//content/drive/MyDrive/Colab Notebooks/JD_P6_Classifier_automatiquement_des_biens_de_consommation/model_resnet50_DA_best_weights.h5\"\n",
        "checkpoint = ModelCheckpoint(model_resnet_DA_save_path, monitor='val_loss', verbose=1, save_best_only=True, mode='min')\n",
        "es = EarlyStopping(monitor='val_loss', mode='min', verbose=1, patience=3)\n",
        "callbacks_list = [checkpoint, es]"
      ]
    },
    {
      "cell_type": "code",
      "execution_count": null,
      "metadata": {
        "colab": {
          "base_uri": "https://localhost:8080/"
        },
        "id": "6Tt-kc-McvoO",
        "outputId": "bc6d5a64-865a-4b53-8528-ce9fab99b7be"
      },
      "outputs": [
        {
          "name": "stdout",
          "output_type": "stream",
          "text": [
            "Epoch 1/50\n",
            "20/20 [==============================] - ETA: 0s - loss: 1.6634 - accuracy: 0.5651\n",
            "Epoch 1: val_loss improved from inf to 0.66168, saving model to /content/drive/MyDrive/Colab Notebooks/JD_P6_Classifier_automatiquement_des_biens_de_consommation//content/drive/MyDrive/Colab Notebooks/JD_P6_Classifier_automatiquement_des_biens_de_consommation/model_resnet50_DA_best_weights.h5\n"
          ]
        },
        {
          "name": "stderr",
          "output_type": "stream",
          "text": [
            "/usr/local/lib/python3.10/dist-packages/keras/src/engine/training.py:3000: UserWarning: You are saving your model as an HDF5 file via `model.save()`. This file format is considered legacy. We recommend using instead the native Keras format, e.g. `model.save('my_model.keras')`.\n",
            "  saving_api.save_model(\n"
          ]
        },
        {
          "name": "stdout",
          "output_type": "stream",
          "text": [
            "\b\b\b\b\b\b\b\b\b\b\b\b\b\b\b\b\b\b\b\b\b\b\b\b\b\b\b\b\b\b\b\b\b\b\b\b\b\b\b\b\b\b\b\b\b\b\b\b\b\b\b\b\b\b\b\b\b\b\b\b\b\b\b\b\b\b\b\b\b\b\b\b\b\b\b\b\b\b\b\b\b\b\r20/20 [==============================] - 119s 5s/step - loss: 1.6634 - accuracy: 0.5651 - val_loss: 0.6617 - val_accuracy: 0.7762\n",
            "Epoch 2/50\n",
            "20/20 [==============================] - ETA: 0s - loss: 0.6526 - accuracy: 0.8143\n",
            "Epoch 2: val_loss did not improve from 0.66168\n",
            "20/20 [==============================] - 121s 6s/step - loss: 0.6526 - accuracy: 0.8143 - val_loss: 0.6667 - val_accuracy: 0.7905\n",
            "Epoch 3/50\n",
            "20/20 [==============================] - ETA: 0s - loss: 0.5299 - accuracy: 0.8222\n",
            "Epoch 3: val_loss improved from 0.66168 to 0.58632, saving model to /content/drive/MyDrive/Colab Notebooks/JD_P6_Classifier_automatiquement_des_biens_de_consommation//content/drive/MyDrive/Colab Notebooks/JD_P6_Classifier_automatiquement_des_biens_de_consommation/model_resnet50_DA_best_weights.h5\n",
            "20/20 [==============================] - 107s 5s/step - loss: 0.5299 - accuracy: 0.8222 - val_loss: 0.5863 - val_accuracy: 0.8000\n",
            "Epoch 4/50\n",
            "20/20 [==============================] - ETA: 0s - loss: 0.3245 - accuracy: 0.8905\n",
            "Epoch 4: val_loss improved from 0.58632 to 0.54268, saving model to /content/drive/MyDrive/Colab Notebooks/JD_P6_Classifier_automatiquement_des_biens_de_consommation//content/drive/MyDrive/Colab Notebooks/JD_P6_Classifier_automatiquement_des_biens_de_consommation/model_resnet50_DA_best_weights.h5\n",
            "20/20 [==============================] - 138s 7s/step - loss: 0.3245 - accuracy: 0.8905 - val_loss: 0.5427 - val_accuracy: 0.8190\n",
            "Epoch 5/50\n",
            "20/20 [==============================] - ETA: 0s - loss: 0.2822 - accuracy: 0.8873\n",
            "Epoch 5: val_loss improved from 0.54268 to 0.53911, saving model to /content/drive/MyDrive/Colab Notebooks/JD_P6_Classifier_automatiquement_des_biens_de_consommation//content/drive/MyDrive/Colab Notebooks/JD_P6_Classifier_automatiquement_des_biens_de_consommation/model_resnet50_DA_best_weights.h5\n",
            "20/20 [==============================] - 146s 7s/step - loss: 0.2822 - accuracy: 0.8873 - val_loss: 0.5391 - val_accuracy: 0.8381\n",
            "Epoch 6/50\n",
            "20/20 [==============================] - ETA: 0s - loss: 0.1923 - accuracy: 0.9270\n",
            "Epoch 6: val_loss did not improve from 0.53911\n",
            "20/20 [==============================] - 126s 6s/step - loss: 0.1923 - accuracy: 0.9270 - val_loss: 0.5647 - val_accuracy: 0.8143\n",
            "Epoch 7/50\n",
            "20/20 [==============================] - ETA: 0s - loss: 0.1694 - accuracy: 0.9492\n",
            "Epoch 7: val_loss did not improve from 0.53911\n",
            "20/20 [==============================] - 124s 6s/step - loss: 0.1694 - accuracy: 0.9492 - val_loss: 0.5557 - val_accuracy: 0.8143\n",
            "Epoch 8/50\n",
            "20/20 [==============================] - ETA: 0s - loss: 0.1619 - accuracy: 0.9524\n",
            "Epoch 8: val_loss did not improve from 0.53911\n",
            "20/20 [==============================] - 106s 5s/step - loss: 0.1619 - accuracy: 0.9524 - val_loss: 0.6104 - val_accuracy: 0.8381\n",
            "Epoch 8: early stopping\n"
          ]
        }
      ],
      "source": [
        "with tf.device('/gpu:0'):\n",
        "    history_resnet_DA = model_resnet_DA.fit(dataset_train,\n",
        "                    validation_data=dataset_val,\n",
        "                    batch_size=batch_size, epochs=50, callbacks=callbacks_list, verbose=1)"
      ]
    },
    {
      "cell_type": "markdown",
      "source": [
        "L'approche transfer learning utilisée avec des modèles entrainés sur imagenet permet de bons résultats de classification sur notre jeu de données.\n",
        "\n",
        "Les differentes architectures donnent des résultats assez similaires.\n",
        "\n",
        "On remarque que les performances sont moins bonnes sans data augmentation.\n",
        "\n",
        "Il est aussi necessaire d'optimiser les hyperparametres pour de meilleurs résultats."
      ],
      "metadata": {
        "id": "Ch14kdX10TLJ"
      }
    },
    {
      "cell_type": "markdown",
      "metadata": {
        "id": "Y9mKQ8m3z0hm"
      },
      "source": [
        "##API Extraction <a class=\"anchor\" id='chapter_3' ></a>"
      ]
    },
    {
      "cell_type": "markdown",
      "source": [
        "Il est demandé d'extraire une liste de produits à partir d'une API. Le code suivant permet l'extraction et l'enregistrement dans un fichier csv."
      ],
      "metadata": {
        "id": "SMWcNoTu06GG"
      }
    },
    {
      "cell_type": "code",
      "source": [
        "url = 'https://edamam-food-and-grocery-database.p.rapidapi.com/api/food-database/v2/parser?ingr=champagne'\n",
        "\n",
        "headers = {\n",
        "    'X-RapidAPI-Key': '5bad54d654msh99a5b3c645ff106p111cb4jsnf47f3b7d863c',\n",
        "    'X-RapidAPI-Host': 'edamam-food-and-grocery-database.p.rapidapi.com'\n",
        "}\n",
        "\n",
        "try:\n",
        "    response = requests.get(url, headers=headers)\n",
        "    response_data = response.json()\n",
        "    hints_list = response_data['hints']\n",
        "\n",
        "    # Create lists to store the extracted data\n",
        "    food_ids = []\n",
        "    labels = []\n",
        "    categories = []\n",
        "    images = []\n",
        "    food_contents_labels = []\n",
        "\n",
        "    # Loop through the list of hints and extract data\n",
        "    for item in hints_list:\n",
        "        food_info = item[\"food\"]\n",
        "        food_ids.append(food_info[\"foodId\"])\n",
        "        labels.append(food_info[\"label\"])\n",
        "        categories.append(food_info[\"category\"])\n",
        "        images.append(food_info.get(\"image\"))\n",
        "        food_contents_labels.append(food_info.get(\"foodContentsLabel\"))\n",
        "\n",
        "    # Create a DataFrame from the extracted data\n",
        "    df = pd.DataFrame({\n",
        "        \"Food ID\": food_ids,\n",
        "        \"Label\": labels,\n",
        "        \"Category\": categories,\n",
        "        \"Image\": images,\n",
        "        \"Food Content Label\": food_contents_labels\n",
        "    })\n",
        "\n",
        "    # Save the DataFrame as a CSV file\n",
        "    df.to_csv(\"food_data.csv\", index=False)\n",
        "\n",
        "    print(\"Data saved as 'food_data.csv'\")\n",
        "\n",
        "except Exception as e:\n",
        "    print(\"Exception:\", e)"
      ],
      "metadata": {
        "id": "uk4SB6eVzrRt"
      },
      "execution_count": null,
      "outputs": []
    }
  ],
  "metadata": {
    "colab": {
      "provenance": []
    },
    "kernelspec": {
      "display_name": "Python 3",
      "name": "python3"
    },
    "language_info": {
      "name": "python"
    }
  },
  "nbformat": 4,
  "nbformat_minor": 0
}